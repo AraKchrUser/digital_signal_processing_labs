{
 "cells": [
  {
   "cell_type": "code",
   "execution_count": 1,
   "metadata": {
    "id": "cYKbvAvfM30U"
   },
   "outputs": [],
   "source": [
    " # !apt-get install unzip\n",
    "# !unzip .zip -d /content/dataset"
   ]
  },
  {
   "cell_type": "code",
   "execution_count": 2,
   "metadata": {
    "id": "U72e2kTHo2R6"
   },
   "outputs": [],
   "source": [
    "# Локальный код обучения\n",
    "\n",
    "import os.path as path\n",
    "import os\n",
    "import pickle\n",
    "from enum import Enum\n",
    "from typing import NoReturn, Optional\n",
    "from tqdm import tqdm\n",
    "import random\n",
    "from pprint import pprint\n",
    "import pandas as pd\n",
    "import numpy as np\n",
    "import time\n",
    "\n",
    "import librosa\n",
    "import librosa.feature as audio_F\n",
    "\n",
    "from sklearn.model_selection import train_test_split\n",
    "from sklearn.metrics import f1_score\n",
    "\n",
    "import torch\n",
    "import torch.nn as nn\n",
    "import torch.nn.functional as nn_F\n",
    "from torch.utils.data import Dataset\n",
    "from torch.utils.data import DataLoader\n",
    "import torchaudio\n",
    "import torchaudio.transforms as T\n",
    "\n",
    "from transformers import ASTFeatureExtractor\n",
    "from transformers import AutoModelForAudioClassification\n",
    "\n",
    "import matplotlib.pyplot as plt\n",
    "\n",
    "from IPython.display import Audio\n",
    "\n",
    "import warnings\n",
    "warnings.filterwarnings('ignore')\n",
    "\n",
    "\n",
    "# feature extraction parameters\n",
    "sample_rate = 32000\n",
    "n_fft = 1024\n",
    "overlap = 4\n",
    "hop_length = n_fft // overlap\n",
    "n_mels = 64\n",
    "\n",
    "device = device = \"cuda\" if torch.cuda.is_available() else \"cpu\"\n",
    "print(f'{device=}')\n",
    "\n",
    "cpu_count = os.cpu_count()\n",
    "num_workers = cpu_count if device == \"cpu\" else 0\n",
    "print(f'{num_workers=}, {cpu_count=}')\n",
    "\n",
    "\n",
    "def set_random_state(random_state:int=0) -> NoReturn:\n",
    "    \"\"\"Initialize random generators.\n",
    "\n",
    "    Parameters\n",
    "    ==========\n",
    "    random_state : int = 0\n",
    "        Determines random number generation for centroid initialization.\n",
    "        Use an int to make the randomness deterministic.\n",
    "    \"\"\"\n",
    "    torch.manual_seed(random_state)\n",
    "    random.seed(random_state)\n",
    "    np.random.seed(random_state)\n",
    "\n",
    "    if torch.cuda.is_available():\n",
    "        torch.cuda.manual_seed_all(random_state)\n",
    "        torch.cuda.manual_seed(random_state)\n",
    "\n",
    "        torch.backends.cudnn.deterministic = True\n",
    "        torch.backends.cudnn.benchmark = False\n",
    "    return\n",
    "\n",
    "random_state = 42\n",
    "set_random_state(random_state)\n",
    "torch.use_deterministic_algorithms(True)\n",
    "\n",
    "%env CUBLAS_WORKSPACE_CONFIG=:4096:8\n",
    "%env PYTHONHASHSEED=42\n",
    "\n",
    "base_folder = \"./data\"\n",
    "\n",
    "# path\n",
    "train_folder = path.join(base_folder, \"train\")\n",
    "test_folder = path.join(base_folder, \"test\")\n",
    "train_csv = path.join(base_folder, \"train.csv\")\n",
    "train_pickle = path.join(base_folder, \"train.pickle\")\n",
    "test_pickle = path.join(base_folder, \"test.pickle\")\n",
    "labels_pickle = path.join(base_folder, \"labels.pickle\")\n",
    "\n",
    "class SetType(Enum):\n",
    "    \"\"\"Set type\"\"\"\n",
    "    TRAIN = 1\n",
    "    TEST  = 2\n",
    "    DEV   = 3\n",
    "\n",
    "\n",
    "def extract_log_mel_feats(set_type:SetType, path_to_csv:str, path_to_files:str,\n",
    "                          out_path:str, labels_pickle:str, sr:Optional[int], n_fft:int,\n",
    "                          hop_length:int, n_mels:int):\n",
    "    \"\"\"\n",
    "    Extract features from given files and store them in binary format.\n",
    "\n",
    "    :param set_type: set tyle\n",
    "    :param path_to_csv: path to loaded csv\n",
    "    :param path_to_files: path to loaded data\n",
    "    :param out_path: path to store extracted features\n",
    "    :param labels_pickle: path to store labels dictionary\n",
    "    :param sr: input files sample rate\n",
    "    :param n_fft: size of fft window\n",
    "    :param hop_length: hop size\n",
    "    :param n_mels: number of mel band\n",
    "\n",
    "    :return:\n",
    "    \"\"\"\n",
    "    \n",
    "    feature_extractor = ASTFeatureExtractor(sampling_rate=sr)\n",
    "    \n",
    "    if set_type not in [SetType.TRAIN, SetType.TEST]:\n",
    "        raise Exception(f'Such set type not supported: {set_type}')\n",
    "\n",
    "    feats = []\n",
    "\n",
    "    if set_type == SetType.TRAIN:\n",
    "        meta = pd.read_csv(path_to_csv, skiprows=1, names=['fname', 'label'])\n",
    "\n",
    "        file_names = list(meta['fname'])\n",
    "        n_files = len(file_names)\n",
    "        labels = list(meta['label'])\n",
    "\n",
    "        uniq_labels = np.sort(np.unique(labels))\n",
    "        label_to_id = {label: i for i, label in enumerate(uniq_labels)}\n",
    "\n",
    "        print('Total files:', n_files)\n",
    "\n",
    "        for i, (file_name, label) in tqdm(enumerate(zip(file_names, labels))):\n",
    "            wav_data, sr = librosa.load(os.path.join(path_to_files, file_name), sr=sr)\n",
    "            f_ = feature_extractor(wav_data.squeeze(), sampling_rate=sample_rate, padding=\"max_length\", return_tensors=\"pt\")\n",
    "            log_mel_spec = f_.input_values\n",
    "            feats.append({\n",
    "                'fname': file_name,\n",
    "                'feature': log_mel_spec,\n",
    "                'label_id': label_to_id[label]\n",
    "            })\n",
    "\n",
    "        pickle.dump(feats, open(out_path, 'wb'))\n",
    "        pickle.dump(label_to_id, open(labels_pickle, 'wb'))\n",
    "        return label_to_id\n",
    "    else:\n",
    "        for i, file_name in tqdm(enumerate(os.listdir(path_to_files))):\n",
    "            wav_data, sr = librosa.load(os.path.join(path_to_files, file_name), sr=sr)\n",
    "            if len(wav_data) == 0:\n",
    "                wav_data = np.zeros(sr)\n",
    "            f_ = feature_extractor(wav_data.squeeze(), sampling_rate=sample_rate, padding=\"max_length\", return_tensors=\"pt\")\n",
    "            log_mel_spec = f_.input_values\n",
    "            feats.append({\n",
    "                'fname': file_name,\n",
    "                'feature': log_mel_spec,\n",
    "            })\n",
    "\n",
    "        pickle.dump(feats, open(out_path, 'wb'))\n",
    "        return\n",
    "\n",
    "\n",
    "# extract features and store to `train_pickle` extracted features\n",
    "label_to_id = extract_log_mel_feats(\n",
    "    SetType.TRAIN,\n",
    "    train_csv, \n",
    "    train_folder, \n",
    "    train_pickle,\n",
    "    labels_pickle,\n",
    "    sample_rate, \n",
    "    n_fft, \n",
    "    hop_length, \n",
    "    n_mels\n",
    ")\n",
    "\n",
    "\n",
    "extract_log_mel_feats(\n",
    "    SetType.TEST, \n",
    "    '', \n",
    "    test_folder, \n",
    "    test_pickle, \n",
    "    '', \n",
    "    sample_rate, \n",
    "    n_fft, \n",
    "    hop_length, \n",
    "    n_mels\n",
    ")\n",
    "\n",
    "\n",
    "id_to_label = [label for label, i in label_to_id.items()]"
   ]
  },
  {
   "cell_type": "code",
   "execution_count": 3,
   "metadata": {
    "colab": {
     "base_uri": "https://localhost:8080/"
    },
    "id": "n6qgi0OcgOt9",
    "outputId": "69077ac1-05dd-42c0-d795-878820d94f4d",
    "scrolled": true
   },
   "outputs": [],
   "source": [
    "#!pip install transformers\n",
    "# !pip install torchsampler"
   ]
  },
  {
   "cell_type": "code",
   "execution_count": 4,
   "metadata": {},
   "outputs": [],
   "source": [
    "# TODO: \n",
    "# 1. Add Imbalanced Dataset Sampler\n",
    "# 2. Add convolution layer for classification"
   ]
  },
  {
   "cell_type": "code",
   "execution_count": 1,
   "metadata": {
    "id": "PKnoyDOtM9gH"
   },
   "outputs": [],
   "source": [
    "import os.path as path\n",
    "import os\n",
    "import pickle\n",
    "from enum import Enum\n",
    "from typing import NoReturn, Optional\n",
    "from tqdm import tqdm\n",
    "import random\n",
    "from pprint import pprint\n",
    "import pandas as pd\n",
    "import numpy as np\n",
    "import time\n",
    "\n",
    "import librosa\n",
    "import librosa.feature as audio_F\n",
    "\n",
    "from sklearn.model_selection import train_test_split\n",
    "from sklearn.metrics import f1_score\n",
    "\n",
    "import torch\n",
    "import torch.nn as nn\n",
    "import torch.nn.functional as nn_F\n",
    "from torch.utils.data import Dataset\n",
    "from torch.utils.data import DataLoader\n",
    "import torchaudio\n",
    "import torchaudio.transforms as T\n",
    "\n",
    "from torchsampler import ImbalancedDatasetSampler\n",
    "\n",
    "from transformers import ASTFeatureExtractor\n",
    "from transformers import AutoModelForAudioClassification, ASTModel\n",
    "\n",
    "import matplotlib.pyplot as plt\n",
    "\n",
    "from IPython.display import Audio\n",
    "\n",
    "import warnings\n",
    "import random\n",
    "warnings.filterwarnings('ignore')\n"
   ]
  },
  {
   "cell_type": "code",
   "execution_count": 2,
   "metadata": {
    "colab": {
     "base_uri": "https://localhost:8080/"
    },
    "id": "ZpRQcdoGgI4p",
    "outputId": "abb6601c-7f54-4aa3-bdb6-abe8c3bf78b9"
   },
   "outputs": [
    {
     "name": "stdout",
     "output_type": "stream",
     "text": [
      "device='cuda'\n",
      "num_workers=0, cpu_count=12\n"
     ]
    }
   ],
   "source": [
    "# feature extraction parameters\n",
    "sample_rate = 16_000\n",
    "n_fft = 1024\n",
    "overlap = 4\n",
    "hop_length = n_fft // overlap\n",
    "n_mels = 64\n",
    "\n",
    "device = device = \"cuda\" if torch.cuda.is_available() else \"cpu\"\n",
    "print(f'{device=}')\n",
    "\n",
    "cpu_count = os.cpu_count()\n",
    "num_workers = cpu_count if device == \"cpu\" else 0\n",
    "print(f'{num_workers=}, {cpu_count=}')\n",
    "\n",
    "def set_random_state(random_state:int=0) -> NoReturn:\n",
    "    \"\"\"Initialize random generators.\n",
    "\n",
    "    Parameters\n",
    "    ==========\n",
    "    random_state : int = 0\n",
    "        Determines random number generation for centroid initialization.\n",
    "        Use an int to make the randomness deterministic.\n",
    "    \"\"\"\n",
    "    torch.manual_seed(random_state)\n",
    "    random.seed(random_state)\n",
    "    np.random.seed(random_state)\n",
    "\n",
    "    if torch.cuda.is_available():\n",
    "        torch.cuda.manual_seed_all(random_state)\n",
    "        torch.cuda.manual_seed(random_state)\n",
    "\n",
    "        torch.backends.cudnn.deterministic = True\n",
    "        torch.backends.cudnn.benchmark = False\n",
    "    return\n",
    "\n",
    "random_state = 42\n",
    "set_random_state(random_state)\n",
    "torch.use_deterministic_algorithms(True)\n",
    "\n"
   ]
  },
  {
   "cell_type": "code",
   "execution_count": 3,
   "metadata": {
    "colab": {
     "base_uri": "https://localhost:8080/"
    },
    "id": "UpQBAcGegqa4",
    "outputId": "8979993f-363b-4cdc-8d59-88bc4a42ce9e"
   },
   "outputs": [
    {
     "name": "stdout",
     "output_type": "stream",
     "text": [
      "env: CUBLAS_WORKSPACE_CONFIG=:4096:8\n",
      "env: PYTHONHASHSEED=42\n"
     ]
    }
   ],
   "source": [
    "%env CUBLAS_WORKSPACE_CONFIG=:4096:8\n",
    "%env PYTHONHASHSEED=42"
   ]
  },
  {
   "cell_type": "code",
   "execution_count": 4,
   "metadata": {
    "id": "vXFMOP5ze0TB"
   },
   "outputs": [],
   "source": [
    "base_folder = \"../../sambashare/ITMO_AED/ast_feat_extract/\""
   ]
  },
  {
   "cell_type": "code",
   "execution_count": 5,
   "metadata": {
    "id": "hjc50vuYgqp9"
   },
   "outputs": [],
   "source": [
    "# path\n",
    "train_csv = base_folder + \"/train.csv\"\n",
    "train_pickle = base_folder + \"/train.pickle\"\n",
    "test_pickle = base_folder + \"/test.pickle\"\n",
    "labels_pickle = base_folder + \"/labels.pickle\""
   ]
  },
  {
   "cell_type": "code",
   "execution_count": null,
   "metadata": {},
   "outputs": [],
   "source": [
    "\n"
   ]
  },
  {
   "cell_type": "code",
   "execution_count": 6,
   "metadata": {
    "id": "ZAWe8jt4g_Nk"
   },
   "outputs": [],
   "source": [
    "class SetType(Enum):\n",
    "    \"\"\"Set type\"\"\"\n",
    "    TRAIN = 1\n",
    "    TEST  = 2\n",
    "    DEV   = 3\n",
    "\n",
    "class EventDetectionDataset(Dataset):\n",
    "    def __init__(self, x, y=None, device=\"cpu\", set_type=SetType.TRAIN):\n",
    "        self.x = x\n",
    "        self.y = y\n",
    "        self.set_type = set_type\n",
    "\n",
    "    def __len__(self):\n",
    "        return len(self.x)\n",
    "\n",
    "    def __getitem__(self, idx):\n",
    "        # добавить сюда prepare_shape()\n",
    "        # if self.set_type == SetType.TRAIN:\n",
    "        # x = prepare_shape(self.x[idx])\n",
    "        # else:\n",
    "        # x = self.x[idx]\n",
    "        x = self.x[idx]\n",
    "        if self.set_type == SetType.TRAIN:\n",
    "            stretch_factor = random.uniform(0.8, 1.2)\n",
    "            mask_param = random.randint(10, 40)\n",
    "            self.transforms = nn.Sequential(\n",
    "                T.TimeStretch(stretch_factor, fixed_rate=True),\n",
    "                T.FrequencyMasking(freq_mask_param=mask_param),\n",
    "                T.TimeMasking(time_mask_param=mask_param)\n",
    "               )\n",
    "            x = self.transforms(x)\n",
    "        if self.y is not None:\n",
    "            x = torch.tensor(x, dtype=torch.float32, device=device).squeeze()\n",
    "            y = torch.tensor(self.y[idx], dtype=torch.int, device=device)\n",
    "            \n",
    "            return x, y\n",
    "\n",
    "        return torch.tensor(x, dtype=torch.float32, device=device).squeeze()\n",
    "    \n",
    "    def get_labels(self):\n",
    "        return self.y"
   ]
  },
  {
   "cell_type": "code",
   "execution_count": 7,
   "metadata": {
    "colab": {
     "base_uri": "https://localhost:8080/"
    },
    "id": "I5zkkN_ahDUR",
    "outputId": "6f685f9a-ba3c-47db-f6e3-9522d321e87a"
   },
   "outputs": [
    {
     "name": "stdout",
     "output_type": "stream",
     "text": [
      "\n",
      "Train set:\n",
      "    x.shape: 4883\n",
      "    y.shape: 4883\n",
      "\n",
      "Validation set:\n",
      "    x.shape: 800\n",
      "    y.shape: 800\n",
      "    \n",
      "Test set:\n",
      "    x.shape: 3790\n",
      "    \n"
     ]
    }
   ],
   "source": [
    "train_data = pickle.load(open(train_pickle, \"rb\"))\n",
    "test_data = pickle.load(open(test_pickle, \"rb\"))\n",
    "\n",
    "label_to_id = pickle.load(open(labels_pickle, \"rb\"))\n",
    "id_to_label = [label for label, i in label_to_id.items()]\n",
    "\n",
    "validation_set_size = 800\n",
    "test_set_size = validation_set_size / len(train_data)\n",
    "\n",
    "\n",
    "x_, y_ = [], []\n",
    "for i, row in enumerate(train_data):\n",
    "    feature = row['feature']\n",
    "    x_.append(feature)\n",
    "    y_.append(row['label_id'])\n",
    "\n",
    "x_tr, x_val, y_tr, y_val = train_test_split(x_, y_, stratify=y_, test_size=test_set_size)\n",
    "\n",
    "print(f\"\"\"\n",
    "Train set:\n",
    "    x.shape: {len(x_tr)}\n",
    "    y.shape: {len(y_tr)}\n",
    "\n",
    "Validation set:\n",
    "    x.shape: {len(x_val)}\n",
    "    y.shape: {len(y_val)}\n",
    "    \n",
    "Test set:\n",
    "    x.shape: {len(test_data)}\n",
    "    \"\"\")\n",
    "\n",
    "train_dset = EventDetectionDataset(x_tr, y_tr, device=device, set_type=SetType.TRAIN)\n",
    "val_dset = EventDetectionDataset(x_val, y_val, device=device, set_type=SetType.TEST)"
   ]
  },
  {
   "cell_type": "code",
   "execution_count": 8,
   "metadata": {
    "id": "tds_Jf94smnT"
   },
   "outputs": [],
   "source": [
    "torch.cuda.empty_cache()"
   ]
  },
  {
   "cell_type": "code",
   "execution_count": 9,
   "metadata": {
    "id": "dy-0WfA5greA"
   },
   "outputs": [],
   "source": [
    "train_loader = DataLoader(train_dset, \n",
    "                          sampler=ImbalancedDatasetSampler(train_dset), \n",
    "                          batch_size=10,\n",
    "#                           shuffle=True, \n",
    "                          num_workers=num_workers, \n",
    "                          drop_last=True)\n",
    "val_loader = DataLoader(val_dset, batch_size=10, shuffle=False, num_workers=num_workers, drop_last=True)"
   ]
  },
  {
   "cell_type": "code",
   "execution_count": 10,
   "metadata": {
    "colab": {
     "base_uri": "https://localhost:8080/"
    },
    "id": "BA3vNRcghWvF",
    "outputId": "313325f4-d814-4e55-baff-841f718b5fe2"
   },
   "outputs": [
    {
     "data": {
      "text/plain": [
       "(26, 'Laughter')"
      ]
     },
     "execution_count": 10,
     "metadata": {},
     "output_type": "execute_result"
    }
   ],
   "source": [
    "set_random_state(random_state)\n",
    "\n",
    "sample_x, sample_y = random.choice(val_dset)\n",
    "\n",
    "sample_y.item(), id_to_label[sample_y]"
   ]
  },
  {
   "cell_type": "code",
   "execution_count": 11,
   "metadata": {
    "colab": {
     "base_uri": "https://localhost:8080/"
    },
    "id": "OCWalQIxhZQe",
    "outputId": "eba29121-3aac-42fa-de73-6b89a7786226"
   },
   "outputs": [
    {
     "data": {
      "text/plain": [
       "(12, 'Double_bass')"
      ]
     },
     "execution_count": 11,
     "metadata": {},
     "output_type": "execute_result"
    }
   ],
   "source": [
    "set_random_state(random_state)\n",
    "\n",
    "sample_x, sample_y = random.choice(train_dset)\n",
    "sample_y.item(), id_to_label[sample_y]"
   ]
  },
  {
   "cell_type": "code",
   "execution_count": null,
   "metadata": {},
   "outputs": [],
   "source": []
  },
  {
   "cell_type": "code",
   "execution_count": 12,
   "metadata": {
    "colab": {
     "base_uri": "https://localhost:8080/",
     "height": 865,
     "referenced_widgets": [
      "720493f907014139ae02d9a4867488ad",
      "62a828ff73a54574a71df15bc63079d4",
      "3e80fbe072e84e05991b83a78340ea49",
      "9f08931f4b5945dbac2fffd26672567a",
      "9900c40e644e4b1f9aa2fbf575255b0b",
      "e9e4fcca326b465f8c5b357741b61086",
      "cd8582d74c4b43d9b77a37a0b1f37ab7",
      "b237d85c7ecb49ea8f82dae598beca8e",
      "576d833d2461464087b8cb2035b8fb73",
      "7de99ff658ff4b70b71e1d926e197c2f",
      "924adba37e6c41a9a6918b23b17ca01a",
      "b15b7306794a4899b1d886e98203265a",
      "0464574a102b46ae987a0351ec5627c2",
      "5a882d44858949f6bf792e65a1c9a26c",
      "ef9d8f5543924688b0699c2012ff170f",
      "53b2e8c06ddf416d9efeeb9f24deb4f0",
      "08d7bf2865a1463f8541d957243ab19e",
      "ec7c2cf30a5a4535af4325aa8270a184",
      "7c45e783b8e046b28f2d0afb20d06744",
      "0f7ad9b5e5714b79808af26683eed5bf",
      "8cdb1dfc15eb4f15a5b891c60270044d",
      "6dc8e924c0754cd0a70bfd5abff53630"
     ]
    },
    "id": "V2yl6rainWBZ",
    "outputId": "f7ecf5a8-4bad-4a6a-add5-fcb9e629a43e"
   },
   "outputs": [],
   "source": [
    "# AutoModelForAudioClassification.from_pretrained(\"MIT/ast-finetuned-audioset-10-10-0.448\")"
   ]
  },
  {
   "cell_type": "code",
   "execution_count": 13,
   "metadata": {},
   "outputs": [],
   "source": [
    "# ast_model_ = ASTModel.from_pretrained(\"MIT/ast-finetuned-audioset-10-10-0.448\").to(device)"
   ]
  },
  {
   "cell_type": "code",
   "execution_count": 14,
   "metadata": {},
   "outputs": [],
   "source": [
    "# ds_loader = DataLoader(train_dset, batch_size=1, shuffle=False, num_workers=num_workers, drop_last=False)\n",
    "# for x in ds_loader:\n",
    "#     out_ = ast_model_(x[0])\n",
    "#     break"
   ]
  },
  {
   "cell_type": "code",
   "execution_count": 15,
   "metadata": {},
   "outputs": [],
   "source": [
    "# x[0].shape"
   ]
  },
  {
   "cell_type": "code",
   "execution_count": 16,
   "metadata": {},
   "outputs": [],
   "source": [
    "# ast_model_"
   ]
  },
  {
   "cell_type": "code",
   "execution_count": 17,
   "metadata": {},
   "outputs": [],
   "source": [
    "# out_.last_hidden_state.shape"
   ]
  },
  {
   "cell_type": "code",
   "execution_count": 18,
   "metadata": {},
   "outputs": [],
   "source": [
    "# out_.pooler_output.shape"
   ]
  },
  {
   "cell_type": "code",
   "execution_count": null,
   "metadata": {},
   "outputs": [],
   "source": []
  },
  {
   "cell_type": "code",
   "execution_count": 19,
   "metadata": {},
   "outputs": [],
   "source": [
    "# head = Head().to(device)\n",
    "# # d = ast_model_(x[0].to(device))\n",
    "# print(d[1].shape)\n",
    "# len((head(torch.rand(1, 64, 768).to(device))[0]))"
   ]
  },
  {
   "cell_type": "code",
   "execution_count": 20,
   "metadata": {},
   "outputs": [],
   "source": [
    "# m = AutoModelForAudioClassification.from_pretrained(\"MIT/ast-finetuned-audioset-10-10-0.448\", num_labels=41, \n",
    "#                                                         ignore_mismatched_sizes=True)\n",
    "# del m"
   ]
  },
  {
   "cell_type": "code",
   "execution_count": 21,
   "metadata": {
    "scrolled": false
   },
   "outputs": [],
   "source": [
    "# i = 0\n",
    "# for n, param in m.audio_spectrogram_transformer.named_parameters():\n",
    "#     print(n[0])"
   ]
  },
  {
   "cell_type": "code",
   "execution_count": null,
   "metadata": {},
   "outputs": [],
   "source": []
  },
  {
   "cell_type": "code",
   "execution_count": 22,
   "metadata": {},
   "outputs": [],
   "source": [
    "# class Head(nn.Module):\n",
    "#     def __init__(self):\n",
    "#         super(Head, self).__init__()\n",
    "#         self.conv1 = nn.Conv1d(768, 300, 3, stride=1, padding=2)\n",
    "#         self.conv2 = nn.Conv1d(300, 100, 3, stride=1, padding=2)\n",
    "#         self.conv2_drop = nn.Dropout1d()\n",
    "#         self.fc1 = nn.Linear(500, 41)\n",
    "\n",
    "#     def forward(self, x):\n",
    "#         x = x[:, :, None]\n",
    "#         x = nn_F.relu(self.conv1(x), 2)\n",
    "#         x = nn_F.relu(self.conv2_drop(self.conv2(x)), 2)\n",
    "#         x = x.view(x.shape[0], -1)\n",
    "#         x = self.fc1(x) #nn_F.relu(self.fc1(x))\n",
    "# #         x = nn_F.dropout(x, training=self.training)\n",
    "#         return nn_F.log_softmax(x, dim=1)"
   ]
  },
  {
   "cell_type": "code",
   "execution_count": 23,
   "metadata": {
    "colab": {
     "base_uri": "https://localhost:8080/"
    },
    "id": "5xgV_jbJg2KN",
    "outputId": "0f39e2c9-ebb4-4631-b13b-d449e1547efd"
   },
   "outputs": [
    {
     "name": "stderr",
     "output_type": "stream",
     "text": [
      "Some weights of ASTForAudioClassification were not initialized from the model checkpoint at MIT/ast-finetuned-audioset-10-10-0.448 and are newly initialized because the shapes did not match:\n",
      "- classifier.dense.weight: found shape torch.Size([527, 768]) in the checkpoint and torch.Size([41, 768]) in the model instantiated\n",
      "- classifier.dense.bias: found shape torch.Size([527]) in the checkpoint and torch.Size([41]) in the model instantiated\n",
      "You should probably TRAIN this model on a down-stream task to be able to use it for predictions and inference.\n"
     ]
    }
   ],
   "source": [
    "model = AutoModelForAudioClassification.from_pretrained(\"MIT/ast-finetuned-audioset-10-10-0.448\", \n",
    "                                                        num_labels=len(id_to_label), \n",
    "                                                        ignore_mismatched_sizes=True)\n",
    "model.config.id2label = id_to_label\n",
    "model.config.label2id = label_to_id\n",
    "model.config._num_labels = len(id_to_label)\n",
    "model.config.num_labels = len(id_to_label)\n",
    "# model.classifier = Head()\n",
    "model.classifier = nn.Sequential(\n",
    "    nn.Linear(in_features=768, out_features=len(id_to_label), bias=True)\n",
    ")\n",
    "# model.classifier = nn.Sequential(\n",
    "#                         nn.Linear(in_features=768, out_features=300, bias=True),\n",
    "#                         nn.ReLU(), \n",
    "#                         nn.Dropout(p=.25),\n",
    "#                         nn.Linear(in_features=300, out_features=len(id_to_label), bias=True)\n",
    "# )\n",
    "# model.classifier = nn.Sequential(\n",
    "#                         nn.Unflatten(1, (2, 5, 5)),\n",
    "#                         nn.Conv1d(768, 64, 5),\n",
    "#                         nn.MaxPool1d(2),\n",
    "#                         nn.ReLU(),\n",
    "#                         nn.Flatten(),\n",
    "#                         nn.Linear(382, 41)\n",
    "# )\n",
    "model.requires_grad_(True)\n",
    "# unfreeze\n",
    "# flag = True\n",
    "# for name, param in model.named_parameters():\n",
    "#     if flag and 'layer.6' in name:\n",
    "#         flag = False\n",
    "#     if not flag: param.requires_grad = True\n",
    "# model.classifier.requires_grad_(True)\n",
    "model.to(device)\n",
    "\n",
    "optimizer = torch.optim.AdamW(model.parameters(), lr=1e-5)"
   ]
  },
  {
   "cell_type": "code",
   "execution_count": 24,
   "metadata": {
    "colab": {
     "base_uri": "https://localhost:8080/"
    },
    "id": "GqOnYdScyLFF",
    "outputId": "218a09ab-4b9d-44a5-83bf-38c424a74213"
   },
   "outputs": [
    {
     "data": {
      "text/plain": [
       "Sequential(\n",
       "  (0): Linear(in_features=768, out_features=41, bias=True)\n",
       ")"
      ]
     },
     "execution_count": 24,
     "metadata": {},
     "output_type": "execute_result"
    }
   ],
   "source": [
    "model.classifier"
   ]
  },
  {
   "cell_type": "code",
   "execution_count": 25,
   "metadata": {
    "colab": {
     "base_uri": "https://localhost:8080/"
    },
    "id": "hx-xvv7p8eQk",
    "outputId": "b7c1e407-44b0-4824-d9c8-f9ded5bb8737"
   },
   "outputs": [
    {
     "data": {
      "text/plain": [
       "(41, 41)"
      ]
     },
     "execution_count": 25,
     "metadata": {},
     "output_type": "execute_result"
    }
   ],
   "source": [
    "model.num_labels, len(id_to_label)"
   ]
  },
  {
   "cell_type": "code",
   "execution_count": 26,
   "metadata": {},
   "outputs": [],
   "source": [
    "torch.cuda.empty_cache()"
   ]
  },
  {
   "cell_type": "code",
   "execution_count": 27,
   "metadata": {},
   "outputs": [],
   "source": [
    "import copy"
   ]
  },
  {
   "cell_type": "code",
   "execution_count": null,
   "metadata": {
    "colab": {
     "base_uri": "https://localhost:8080/",
     "height": 1000
    },
    "id": "-r-NWsrlf_Xa",
    "outputId": "b64ac9b1-caa5-416e-e596-723649e59c6e",
    "scrolled": false
   },
   "outputs": [
    {
     "name": "stdout",
     "output_type": "stream",
     "text": [
      "epoch #1\n",
      "[train] mean loss: 1.1059808426490816\n",
      "[train] f1-score:  0.7445337300865629\n",
      "[val] mean loss:   0.7317519828677177\n",
      "[val] f1-score:    0.808436265778727\n",
      "\n",
      "epoch #2\n",
      "[train] mean loss: 0.3514275591034198\n",
      "[train] f1-score:  0.9132102298043714\n",
      "[val] mean loss:   0.5874171735718846\n",
      "[val] f1-score:    0.8352234064167735\n",
      "\n",
      "epoch #3\n",
      "[train] mean loss: 0.1873014755756976\n",
      "[train] f1-score:  0.9581440661060173\n",
      "[val] mean loss:   0.603033690690063\n",
      "[val] f1-score:    0.8508425595504582\n",
      "\n",
      "epoch #4\n",
      "[train] mean loss: 0.14341885357671494\n",
      "[train] f1-score:  0.9644935281125739\n",
      "[val] mean loss:   0.5351312459795736\n",
      "[val] f1-score:    0.8616561418795143\n",
      "\n",
      "epoch #5\n",
      "[train] mean loss: 0.08515805187520617\n",
      "[train] f1-score:  0.9801314929378708\n",
      "[val] mean loss:   0.5457296526175923\n",
      "[val] f1-score:    0.863958020612656\n",
      "\n",
      "epoch #6\n",
      "[train] mean loss: 0.08693115626457987\n",
      "[train] f1-score:  0.9768466622264692\n",
      "[val] mean loss:   0.6301350879948586\n",
      "[val] f1-score:    0.8412557953933195\n",
      "\n",
      "epoch #7\n",
      "[train] mean loss: 0.061315080022380196\n",
      "[train] f1-score:  0.9856599198770514\n",
      "[val] mean loss:   0.5976575837819837\n",
      "[val] f1-score:    0.8583207783177573\n",
      "\n",
      "epoch #8\n",
      "[train] mean loss: 0.05896036127309284\n",
      "[train] f1-score:  0.9850135818687666\n",
      "[val] mean loss:   0.5981884291861206\n",
      "[val] f1-score:    0.8512756488695905\n",
      "\n",
      "epoch #9\n",
      "[train] mean loss: 0.054399855861671224\n",
      "[train] f1-score:  0.9858483714068795\n",
      "[val] mean loss:   0.5249183284118771\n",
      "[val] f1-score:    0.871953430269561\n",
      "\n",
      "epoch #10\n",
      "[train] mean loss: 0.047647309967614404\n",
      "[train] f1-score:  0.9866781940553913\n",
      "[val] mean loss:   0.5710132802254521\n",
      "[val] f1-score:    0.8719532740364159\n",
      "\n",
      "epoch #11\n",
      "[train] mean loss: 0.03970634418081198\n",
      "[train] f1-score:  0.9883149893528139\n",
      "[val] mean loss:   0.5910587208927609\n",
      "[val] f1-score:    0.8600284701278711\n",
      "\n",
      "epoch #12\n",
      "[train] mean loss: 0.04225681553445432\n",
      "[train] f1-score:  0.9899599380327104\n",
      "[val] mean loss:   0.5795947201666423\n",
      "[val] f1-score:    0.8599449257987816\n",
      "\n",
      "epoch #13\n",
      "[train] mean loss: 0.02935707519025557\n",
      "[train] f1-score:  0.9909861843680754\n",
      "[val] mean loss:   0.5958555349352537\n",
      "[val] f1-score:    0.8661909825608425\n",
      "\n",
      "epoch #14\n",
      "[train] mean loss: 0.041604002901771846\n",
      "[train] f1-score:  0.988122753974518\n",
      "[val] mean loss:   0.6731026731518795\n",
      "[val] f1-score:    0.8443083733873082\n",
      "\n",
      "epoch #15\n",
      "[train] mean loss: 0.045500757260134514\n",
      "[train] f1-score:  0.9889386999261383\n",
      "[val] mean loss:   0.6698583672463428\n",
      "[val] f1-score:    0.8601301191020717\n",
      "\n",
      "epoch #16\n",
      "[train] mean loss: 0.0348523455756892\n",
      "[train] f1-score:  0.9905669893246676\n",
      "[val] mean loss:   0.6479481189497165\n",
      "[val] f1-score:    0.8649327961907513\n",
      "\n",
      "epoch #17\n",
      "[train] mean loss: 0.018000068732422346\n",
      "[train] f1-score:  0.9965136058938835\n",
      "[val] mean loss:   0.6218380354119291\n",
      "[val] f1-score:    0.8667174775073767\n",
      "\n",
      "epoch #18\n",
      "[train] mean loss: 0.043911350878827714\n",
      "[train] f1-score:  0.9870875446345677\n",
      "[val] mean loss:   0.6299790333127021\n",
      "[val] f1-score:    0.8586775637965749\n",
      "\n",
      "epoch #19\n",
      "[train] mean loss: 0.04308320467000575\n",
      "[train] f1-score:  0.9870994854026103\n",
      "[val] mean loss:   0.6548214620270301\n",
      "[val] f1-score:    0.8608228008604729\n",
      "\n",
      "epoch #20\n",
      "[train] mean loss: 0.017285295373991087\n",
      "[train] f1-score:  0.9956983025257117\n",
      "[val] mean loss:   0.6108895778743317\n",
      "[val] f1-score:    0.8595714902600239\n",
      "\n",
      "epoch #21\n",
      "[train] mean loss: 0.03278039598704023\n",
      "[train] f1-score:  0.9930388083139204\n",
      "[val] mean loss:   0.6097834872329259\n",
      "[val] f1-score:    0.8671894385634279\n",
      "\n",
      "epoch #22\n",
      "[train] mean loss: 0.03147353781235727\n",
      "[train] f1-score:  0.9930303724306031\n",
      "[val] mean loss:   0.6957844659096736\n",
      "[val] f1-score:    0.8624461173835788\n",
      "\n",
      "epoch #23\n",
      "[train] mean loss: 0.035599674431516\n",
      "[train] f1-score:  0.9891512829203931\n",
      "[val] mean loss:   0.7341012748045614\n",
      "[val] f1-score:    0.8622981393255674\n",
      "\n",
      "epoch #24\n",
      "[train] mean loss: 0.04241724732581461\n",
      "[train] f1-score:  0.9875114760099172\n",
      "[val] mean loss:   0.7479651208297582\n",
      "[val] f1-score:    0.8591620868253506\n",
      "\n",
      "epoch #25\n",
      "[train] mean loss: 0.024428081597806503\n",
      "[train] f1-score:  0.9942595606884889\n",
      "[val] mean loss:   0.63628176843049\n",
      "[val] f1-score:    0.8675946252717786\n",
      "\n",
      "epoch #26\n",
      "[train] mean loss: 0.026850541275201915\n",
      "[train] f1-score:  0.9905663502117246\n",
      "[val] mean loss:   0.6438149555557174\n",
      "[val] f1-score:    0.8625208434734769\n",
      "\n",
      "epoch #27\n",
      "[train] mean loss: 0.0183024455685971\n",
      "[train] f1-score:  0.996311335265831\n",
      "[val] mean loss:   0.6325341573428886\n",
      "[val] f1-score:    0.8631463691198791\n",
      "\n",
      "epoch #28\n",
      "[train] mean loss: 0.024728294306695434\n",
      "[train] f1-score:  0.9944537017053116\n",
      "[val] mean loss:   0.6778651969361817\n",
      "[val] f1-score:    0.868392817718125\n",
      "\n",
      "epoch #29\n",
      "[train] mean loss: 0.01782871128196974\n",
      "[train] f1-score:  0.995078042210249\n",
      "[val] mean loss:   0.6928390937420772\n",
      "[val] f1-score:    0.8537125322655451\n",
      "\n",
      "epoch #30\n",
      "[train] mean loss: 0.01989152459177827\n",
      "[train] f1-score:  0.9938683758568299\n",
      "[val] mean loss:   0.777550840692129\n",
      "[val] f1-score:    0.8290081879697598\n",
      "\n",
      "epoch #31\n",
      "[train] mean loss: 0.02506950514943441\n",
      "[train] f1-score:  0.9934446479367256\n",
      "[val] mean loss:   0.6498174385960738\n",
      "[val] f1-score:    0.8741946654697762\n",
      "\n",
      "epoch #32\n",
      "[train] mean loss: 0.027938876315930117\n",
      "[train] f1-score:  0.9922112459646365\n",
      "[val] mean loss:   0.6065437055061921\n",
      "[val] f1-score:    0.8730840669115614\n",
      "\n",
      "epoch #33\n",
      "[train] mean loss: 0.02148290020874706\n",
      "[train] f1-score:  0.9942632638539124\n",
      "[val] mean loss:   0.6402019292807382\n",
      "[val] f1-score:    0.8738034970490426\n",
      "\n",
      "epoch #34\n",
      "[train] mean loss: 0.016951825600460966\n",
      "[train] f1-score:  0.9942567600455131\n",
      "[val] mean loss:   0.6748470214835833\n",
      "[val] f1-score:    0.8681783811304419\n",
      "\n",
      "epoch #35\n",
      "[train] mean loss: 0.010563599674421059\n",
      "[train] f1-score:  0.9977464759390856\n",
      "[val] mean loss:   0.698780835676007\n",
      "[val] f1-score:    0.868687175380347\n",
      "\n",
      "epoch #36\n",
      "[train] mean loss: 0.034060948819447344\n",
      "[train] f1-score:  0.9915951279267959\n",
      "[val] mean loss:   0.7167668561654864\n",
      "[val] f1-score:    0.8502587555478647\n",
      "\n",
      "epoch #37\n",
      "[train] mean loss: 0.028609317463782584\n",
      "[train] f1-score:  0.9928414690367516\n",
      "[val] mean loss:   0.7015978026895027\n",
      "[val] f1-score:    0.8542844307966976\n",
      "\n",
      "epoch #38\n",
      "[train] mean loss: 0.036657778715708134\n",
      "[train] f1-score:  0.9903599592679089\n",
      "[val] mean loss:   0.7720337784019649\n",
      "[val] f1-score:    0.8456613931062905\n",
      "\n",
      "epoch #39\n",
      "[train] mean loss: 0.025319663317845208\n",
      "[train] f1-score:  0.9948772403846708\n",
      "[val] mean loss:   0.6453541537135606\n",
      "[val] f1-score:    0.8704151695524719\n",
      "\n",
      "epoch #40\n",
      "[train] mean loss: 0.013354520448196067\n",
      "[train] f1-score:  0.9961093809021446\n",
      "[val] mean loss:   0.6736432821686321\n",
      "[val] f1-score:    0.8704545925566716\n",
      "\n",
      "epoch #41\n",
      "[train] mean loss: 0.010883127955583136\n",
      "[train] f1-score:  0.9973349179099672\n",
      "[val] mean loss:   0.6545951784424687\n",
      "[val] f1-score:    0.8690163379915529\n",
      "\n",
      "epoch #42\n",
      "[train] mean loss: 0.03243841604179594\n",
      "[train] f1-score:  0.9913946526493664\n",
      "[val] mean loss:   0.6376364668449241\n",
      "[val] f1-score:    0.8730182293782834\n",
      "\n",
      "epoch #43\n",
      "[train] mean loss: 0.029824397489556148\n",
      "[train] f1-score:  0.9919974065863741\n",
      "[val] mean loss:   0.6407154732078197\n",
      "[val] f1-score:    0.8683066739284798\n",
      "\n",
      "epoch #44\n",
      "[train] mean loss: 0.030072112848488285\n",
      "[train] f1-score:  0.9930383835553279\n",
      "[val] mean loss:   0.6887958911058376\n",
      "[val] f1-score:    0.8626644836966797\n",
      "\n",
      "epoch #45\n",
      "[train] mean loss: 0.008452557636880303\n",
      "[train] f1-score:  0.996924396027807\n",
      "[val] mean loss:   0.7012390654250339\n",
      "[val] f1-score:    0.8603037438057488\n",
      "\n",
      "epoch #46\n",
      "[train] mean loss: 0.018329624574033036\n",
      "[train] f1-score:  0.995287552341101\n",
      "[val] mean loss:   0.646845451183981\n",
      "[val] f1-score:    0.8663452562231032\n",
      "\n",
      "epoch #47\n",
      "[train] mean loss: 0.023113838343037894\n",
      "[train] f1-score:  0.9934406545246247\n",
      "[val] mean loss:   0.6718375910601025\n",
      "[val] f1-score:    0.8557717607483833\n",
      "\n",
      "epoch #48\n",
      "[train] mean loss: 0.013707999504806109\n",
      "[train] f1-score:  0.9969263581745202\n",
      "[val] mean loss:   0.6893620660969646\n",
      "[val] f1-score:    0.8575502698958908\n",
      "\n",
      "epoch #49\n",
      "[train] mean loss: 0.015459201364570081\n",
      "[train] f1-score:  0.9963101061440618\n",
      "[val] mean loss:   0.7320547433788306\n",
      "[val] f1-score:    0.8542360576535506\n",
      "\n",
      "epoch #50\n",
      "[train] mean loss: 0.01198426533389212\n",
      "[train] f1-score:  0.9977448960372445\n",
      "[val] mean loss:   0.7084079361829936\n",
      "[val] f1-score:    0.868561690190975\n",
      "\n",
      "epoch #51\n",
      "[train] mean loss: 0.029706647542462022\n",
      "[train] f1-score:  0.9922139536540655\n",
      "[val] mean loss:   0.6321486407221528\n",
      "[val] f1-score:    0.8831000770440983\n",
      "\n",
      "epoch #52\n",
      "[train] mean loss: 0.014524026328426323\n",
      "[train] f1-score:  0.9973287898853164\n",
      "[val] mean loss:   0.6664875619364465\n",
      "[val] f1-score:    0.8704320775288514\n",
      "\n",
      "epoch #53\n",
      "[train] mean loss: 0.007134822225273891\n",
      "[train] f1-score:  0.9985646489266855\n",
      "[val] mean loss:   0.6780143721953209\n",
      "[val] f1-score:    0.8765134058636699\n",
      "\n",
      "epoch #54\n",
      "[train] mean loss: 0.02640785645739105\n",
      "[train] f1-score:  0.9932400129276561\n",
      "[val] mean loss:   0.6678932593662467\n",
      "[val] f1-score:    0.8738507610139259\n",
      "\n",
      "epoch #55\n",
      "[train] mean loss: 0.02906519606529132\n",
      "[train] f1-score:  0.992217426043396\n",
      "[val] mean loss:   0.7400103508072788\n",
      "[val] f1-score:    0.865437577149241\n",
      "\n",
      "epoch #56\n"
     ]
    }
   ],
   "source": [
    "start_time = time.time()\n",
    "\n",
    "epochs = 100\n",
    "train_loss = []\n",
    "val_loss = []\n",
    "train_f1 = []\n",
    "val_f1 = []\n",
    "\n",
    "f1_best = 0.87\n",
    "\n",
    "for epoch in range(epochs):\n",
    "    \n",
    "    if epoch % 1 == 0:\n",
    "        print(f'epoch #{epoch+1}')\n",
    "    \n",
    "    model.train()\n",
    "    loss_list = []\n",
    "    outs = []\n",
    "    tgts = []\n",
    "    \n",
    "    for i_batch, sample_batched in enumerate(train_loader):\n",
    "        \n",
    "        inputs, labels = sample_batched\n",
    "        outputs = model(inputs, labels=labels.long())\n",
    "        loss = outputs.loss\n",
    "        loss_list.append(loss.item())\n",
    "        outs.append(outputs.logits.argmax(-1))\n",
    "        tgts.append(labels)\n",
    "        \n",
    "        loss.backward()\n",
    "        optimizer.step()\n",
    "        optimizer.zero_grad()\n",
    "    \n",
    "    y_true = torch.hstack(tgts).numpy(force=True)\n",
    "    y_pred = torch.hstack(outs).numpy(force=True)\n",
    "    f1 = f1_score(y_true, y_pred, average='weighted')\n",
    "    train_loss.append(np.mean(loss_list))\n",
    "    train_f1.append(f1)\n",
    "    if epoch % 1 == 0:\n",
    "        print(f'[train] mean loss: {train_loss[-1]}')\n",
    "        print(f'[train] f1-score:  {f1}')\n",
    "    \n",
    "    model.eval()\n",
    "    loss_list = []\n",
    "    outs = []\n",
    "    tgts = []\n",
    "    \n",
    "    with torch.no_grad():\n",
    "        for i_batch, sample_batched in enumerate(val_loader):\n",
    "            \n",
    "            inputs, labels = sample_batched\n",
    "            outputs = model(inputs, labels=labels.long())\n",
    "            loss = outputs.loss\n",
    "            loss_list.append(loss.item())\n",
    "            outs.append(outputs.logits.argmax(-1))\n",
    "            tgts.append(labels)\n",
    "        \n",
    "        y_true = torch.hstack(tgts).numpy(force=True)\n",
    "        y_pred = torch.hstack(outs).numpy(force=True)\n",
    "        f1 = f1_score(y_true, y_pred, average='weighted')\n",
    "        if f1 > f1_best:\n",
    "            f1_best = f1\n",
    "            best_model = copy.deepcopy(model)\n",
    "        val_loss.append(np.mean(loss_list))\n",
    "        val_f1.append(f1)\n",
    "        if epoch % 1 == 0:\n",
    "            print(f'[val] mean loss:   {val_loss[-1]}')\n",
    "            print(f'[val] f1-score:    {f1}', end=\"\\n\\n\")\n",
    "        \n",
    "\n",
    "print(f\"Execution time: {(time.time() - start_time):.2f} seconds\")"
   ]
  },
  {
   "cell_type": "code",
   "execution_count": null,
   "metadata": {},
   "outputs": [],
   "source": [
    "def plot_validation_curve(epochs):\n",
    "    \n",
    "    epochs_ = range(1, epochs+1)\n",
    "\n",
    "    fig, (ax_top, ax_bottom) = plt.subplots(nrows=2, ncols=1, figsize=(7, 7), sharex=True)\n",
    "\n",
    "    xticks = range(1, epochs+1, epochs // 10) if epochs > 10 else epochs_\n",
    "\n",
    "    # draw loss\n",
    "    ax_top.plot(epochs_, train_loss, 'r', label='train')\n",
    "    ax_top.plot(epochs_, val_loss, 'b', label='validation')\n",
    "\n",
    "    ax_top.set(\n",
    "        title='Loss',\n",
    "        xlabel='Epoch number',\n",
    "        ylabel='Loss value',\n",
    "        ylim=[0, max(max(train_loss), max(val_loss)) + 1],\n",
    "    )\n",
    "    ax_top.legend(\n",
    "        title=\"Выборка\",\n",
    "    )\n",
    "    ax_top.grid()\n",
    "\n",
    "    # draw accuracy\n",
    "    ax_bottom.plot(epochs_, train_f1, 'r', label='train')\n",
    "    ax_bottom.plot(epochs_, val_f1, 'b', label='validation')\n",
    "\n",
    "    ax_bottom.set(\n",
    "        title='F-score',\n",
    "        xlabel='Epoch number',\n",
    "        ylabel='F-score value',\n",
    "        xticks=xticks,\n",
    "        ylim=[0, 1],\n",
    "    )\n",
    "    ax_bottom.legend(\n",
    "        title=\"Выборка\",\n",
    "    )\n",
    "    ax_bottom.grid()\n",
    "\n",
    "    fig.suptitle(\"Кривые обучения\")\n",
    "\n",
    "    plt.show()"
   ]
  },
  {
   "cell_type": "code",
   "execution_count": 31,
   "metadata": {},
   "outputs": [
    {
     "data": {
      "image/png": "[encoded data removed]",
      "text/plain": [
       "<Figure size 700x700 with 2 Axes>"
      ]
     },
     "metadata": {},
     "output_type": "display_data"
    }
   ],
   "source": [
    "plot_validation_curve(epoch)"
   ]
  },
  {
   "cell_type": "code",
   "execution_count": 32,
   "metadata": {
    "id": "UUiS7-3ku6Up"
   },
   "outputs": [],
   "source": [
    "# l = nn.Linear(768, 41).to(device)\n",
    "# d = model.audio_spectrogram_transformer(inputs).pooler_output\n",
    "# print(d.shape, d[None, :].shape)\n",
    "# print(l(d).shape)"
   ]
  },
  {
   "cell_type": "code",
   "execution_count": 33,
   "metadata": {},
   "outputs": [],
   "source": [
    "# inputs[0].shape"
   ]
  },
  {
   "cell_type": "code",
   "execution_count": 34,
   "metadata": {
    "id": "kmCVLy2PgGXy"
   },
   "outputs": [],
   "source": [
    "#torch.save(model.state_dict(), 'model_weights_sr32k.pth')"
   ]
  },
  {
   "cell_type": "code",
   "execution_count": 35,
   "metadata": {
    "id": "dbwHHw8ejNME"
   },
   "outputs": [],
   "source": [
    "# model = AutoModelForAudioClassification() # we do not specify pretrained=True, i.e. do not load default weights\n",
    "# model.load_state_dict(torch.load('model_weights.pth'))\n",
    "# model.eval()"
   ]
  },
  {
   "cell_type": "code",
   "execution_count": 36,
   "metadata": {
    "colab": {
     "base_uri": "https://localhost:8080/"
    },
    "id": "n_gIM8T3nxFf",
    "outputId": "1d6d326a-b8fc-4632-c7c9-5a8e966cba4b"
   },
   "outputs": [],
   "source": [
    "# {id: label for id, label in enumerate(id_to_label)}"
   ]
  },
  {
   "cell_type": "code",
   "execution_count": 30,
   "metadata": {
    "id": "NSZNhIr9mloj"
   },
   "outputs": [],
   "source": [
    "# model.config.id2label = {id: label for id, label in enumerate(id_to_label)}\n",
    "# model.save_pretrained(\"model_weights_5\", from_pt=True)\n",
    "# model = AutoModelForAudioClassification.from_pretrained(\"model_weights\")"
   ]
  },
  {
   "cell_type": "code",
   "execution_count": null,
   "metadata": {
    "id": "laTcO_CHdCni"
   },
   "outputs": [],
   "source": []
  },
  {
   "cell_type": "code",
   "execution_count": 29,
   "metadata": {},
   "outputs": [],
   "source": [
    "torch.cuda.empty_cache()\n",
    "# inference = AutoModelForAudioClassification.from_pretrained(\"model_weights_RNN\")\n",
    "\n",
    "outputs_infer = []\n",
    "output_formated_infer = []\n",
    "\n",
    "x_test = []\n",
    "for i, row in enumerate(test_data):\n",
    "    feature = row['feature']\n",
    "    x_test.append(feature)\n",
    "test_dset = EventDetectionDataset(x_test, None, device=device, set_type=SetType.TEST)\n",
    "test_loader = DataLoader(test_dset, batch_size=32, shuffle=False, \n",
    "                         num_workers=num_workers, drop_last=False)\n",
    "\n",
    "\n",
    "with torch.no_grad():\n",
    "    for i_batch, sample_batched in enumerate(test_loader):\n",
    "        x = sample_batched\n",
    "        output_infer = best_model(x)\n",
    "        outputs_infer.append(output_infer.logits.argmax(-1))\n",
    "    output_formated_infer = torch.hstack(outputs_infer).numpy(force=True)\n",
    "\n",
    "labled_outs = [id_to_label[i] for i in output_formated_infer]\n",
    "fnames = []\n",
    "for datum in test_data:\n",
    "    fnames.append(datum['fname'])\n",
    "pd.DataFrame({'fname': fnames, 'label': labled_outs}).to_csv('predict_11.csv', index=False)"
   ]
  },
  {
   "cell_type": "code",
   "execution_count": null,
   "metadata": {},
   "outputs": [],
   "source": []
  },
  {
   "cell_type": "code",
   "execution_count": null,
   "metadata": {},
   "outputs": [],
   "source": []
  },
  {
   "cell_type": "code",
   "execution_count": 42,
   "metadata": {
    "colab": {
     "base_uri": "https://localhost:8080/"
    },
    "id": "5VS5VumTtVA0",
    "outputId": "43d57fb3-4fe6-4932-d1a6-b2bb165d0a01"
   },
   "outputs": [],
   "source": [
    "# torch.cuda.empty_cache()\n",
    "# # AutoModelForAudioClassification.from_pretrained(\"model_weights_4\")\n",
    "\n",
    "# outputs_infer = []\n",
    "# output_formated_infer = []\n",
    "\n",
    "# x_test = []\n",
    "# for i, row in enumerate(test_data):\n",
    "#     feature = row['feature']\n",
    "#     x_test.append(feature)\n",
    "# test_dset = EventDetectionDataset(x_test, None, device=device, set_type=SetType.TEST)\n",
    "# test_loader = DataLoader(test_dset, batch_size=64, shuffle=False, \n",
    "#                          num_workers=num_workers, drop_last=False)\n"
   ]
  },
  {
   "cell_type": "code",
   "execution_count": 43,
   "metadata": {
    "id": "HvLsi32XZ7nH"
   },
   "outputs": [],
   "source": [
    "# inference.to(device)\n",
    "# inference.eval()\n",
    "# with torch.no_grad():\n",
    "#   for i_batch, sample_batched in enumerate(test_loader):\n",
    "#     x = sample_batched\n",
    "\n",
    "#     output_infer = model(x)\n",
    "#     outputs_infer.append(output_infer.logits.argmax(-1))\n",
    "#   output_formated_infer = torch.hstack(outputs_infer).numpy(force=True)"
   ]
  },
  {
   "cell_type": "code",
   "execution_count": 44,
   "metadata": {
    "colab": {
     "base_uri": "https://localhost:8080/"
    },
    "id": "NqMjDlQLZ8Kk",
    "outputId": "0e8e5d5e-d46d-494e-b84e-e922dd07fcb0"
   },
   "outputs": [],
   "source": [
    "# labled_outs = [id_to_label[i] for i in output_formated_infer]\n",
    "# # print(labled_outs)"
   ]
  },
  {
   "cell_type": "code",
   "execution_count": 45,
   "metadata": {
    "id": "gv8Wj0Agla6P"
   },
   "outputs": [],
   "source": [
    "# fnames = []\n",
    "# for datum in test_data:\n",
    "#   fnames.append(datum['fname'])"
   ]
  },
  {
   "cell_type": "code",
   "execution_count": null,
   "metadata": {
    "id": "GDrlAHNQl_ZM"
   },
   "outputs": [],
   "source": []
  },
  {
   "cell_type": "code",
   "execution_count": 46,
   "metadata": {
    "id": "KNudBPpPenIF"
   },
   "outputs": [],
   "source": [
    "# pd.DataFrame({'fname': fnames, 'label': labled_outs}).to_csv('predict_8.csv', index=False)"
   ]
  },
  {
   "cell_type": "code",
   "execution_count": 33,
   "metadata": {
    "colab": {
     "base_uri": "https://localhost:8080/"
    },
    "id": "VajERU5ket4q",
    "outputId": "824c65c7-6fa0-4ce0-d672-e30fe0fdb801"
   },
   "outputs": [
    {
     "data": {
      "text/plain": [
       "3790"
      ]
     },
     "execution_count": 33,
     "metadata": {},
     "output_type": "execute_result"
    }
   ],
   "source": [
    "len(labled_outs)"
   ]
  },
  {
   "cell_type": "code",
   "execution_count": 34,
   "metadata": {},
   "outputs": [
    {
     "name": "stdout",
     "output_type": "stream",
     "text": [
      "/mnt/storage/kocharyan/test/AED\r\n"
     ]
    }
   ],
   "source": [
    "!pwd"
   ]
  },
  {
   "cell_type": "code",
   "execution_count": 30,
   "metadata": {},
   "outputs": [],
   "source": [
    "!cp predict_11.csv /mnt/storage/kocharyan/sambashare/"
   ]
  },
  {
   "cell_type": "code",
   "execution_count": 31,
   "metadata": {},
   "outputs": [
    {
     "data": {
      "text/plain": [
       "0.8952672708933704"
      ]
     },
     "execution_count": 31,
     "metadata": {},
     "output_type": "execute_result"
    }
   ],
   "source": [
    "f1_best"
   ]
  },
  {
   "cell_type": "markdown",
   "metadata": {},
   "source": [
    "# Confusion Matrix"
   ]
  },
  {
   "cell_type": "code",
   "execution_count": 32,
   "metadata": {},
   "outputs": [],
   "source": [
    "outputs_infer = []\n",
    "output_formated_infer = []\n",
    "with torch.no_grad():\n",
    "    for i_batch, sample_batched in enumerate(DataLoader(val_dset, batch_size=16, shuffle=False, num_workers=num_workers)):\n",
    "        x, y = sample_batched\n",
    "        output_infer = best_model(x)\n",
    "        outputs_infer.append(output_infer.logits.argmax(-1))\n",
    "    output_formated_infer = torch.hstack(outputs_infer).numpy(force=True)"
   ]
  },
  {
   "cell_type": "code",
   "execution_count": 33,
   "metadata": {},
   "outputs": [
    {
     "data": {
      "image/png": "[encoded data removed]",
      "text/plain": [
       "<Figure size 1500x700 with 2 Axes>"
      ]
     },
     "metadata": {},
     "output_type": "display_data"
    }
   ],
   "source": [
    "import seaborn as sns\n",
    "from sklearn.metrics import confusion_matrix\n",
    "plt.figure(figsize=(15, 7))\n",
    "sns.heatmap(pd.DataFrame(confusion_matrix(y_val, output_formated_infer)), annot=True);"
   ]
  },
  {
   "cell_type": "code",
   "execution_count": 54,
   "metadata": {},
   "outputs": [
    {
     "data": {
      "image/png": "[encoded data removed]",
      "text/plain": [
       "<Figure size 1500x700 with 2 Axes>"
      ]
     },
     "metadata": {},
     "output_type": "display_data"
    }
   ],
   "source": [
    "import seaborn as sns\n",
    "from sklearn.metrics import confusion_matrix\n",
    "plt.figure(figsize=(15, 7))\n",
    "sns.heatmap(pd.DataFrame(confusion_matrix(y_val, output_formated_infer)), annot=True);"
   ]
  },
  {
   "cell_type": "code",
   "execution_count": null,
   "metadata": {},
   "outputs": [],
   "source": []
  },
  {
   "cell_type": "markdown",
   "metadata": {},
   "source": [
    "- Поиграться (в частности убрать) feature augmentation\n",
    "- Убрать ImbalancerSampler\n",
    "- Убрать тишину в начале/конце\n",
    "- Использовать Fiass-KNN-классификацию/CatBoostClassification\n",
    "- "
   ]
  },
  {
   "cell_type": "markdown",
   "metadata": {},
   "source": [
    "# Create new Dataset"
   ]
  },
  {
   "cell_type": "code",
   "execution_count": 87,
   "metadata": {},
   "outputs": [
    {
     "data": {
      "text/plain": [
       "(4782, 768)"
      ]
     },
     "execution_count": 87,
     "metadata": {},
     "output_type": "execute_result"
    }
   ],
   "source": [
    "import pickle\n",
    "outputs_infer = []\n",
    "output_formated_infer = []\n",
    "with torch.no_grad():\n",
    "    for i_batch, sample_batched in enumerate(DataLoader(train_dset, batch_size=1, shuffle=False, num_workers=num_workers)):\n",
    "        x, y = sample_batched\n",
    "        output_infer = best_model.audio_spectrogram_transformer(x).pooler_output\n",
    "        outputs_infer.append(output_infer.numpy(force=True))\n",
    "    output_formated_infer = np.concatenate(outputs_infer, axis=0)\n",
    "pickle.dump(output_formated_infer, open('train_ast_infer.pkl', mode='wb'))\n",
    "output_formated_infer.shape"
   ]
  },
  {
   "cell_type": "code",
   "execution_count": 85,
   "metadata": {},
   "outputs": [
    {
     "data": {
      "text/plain": [
       "(901, 768)"
      ]
     },
     "execution_count": 85,
     "metadata": {},
     "output_type": "execute_result"
    }
   ],
   "source": [
    "import pickle\n",
    "outputs_infer = []\n",
    "output_formated_infer = []\n",
    "with torch.no_grad():\n",
    "    for i_batch, sample_batched in enumerate(DataLoader(val_dset, batch_size=1, shuffle=False, num_workers=num_workers)):\n",
    "        x, y = sample_batched\n",
    "        output_infer = best_model.audio_spectrogram_transformer(x).pooler_output\n",
    "        outputs_infer.append(output_infer.numpy(force=True))\n",
    "    output_formated_infer = np.concatenate(outputs_infer, axis=0)\n",
    "pickle.dump(output_formated_infer, open('val_ast_infer.pkl', mode='wb'))\n",
    "output_formated_infer.shape"
   ]
  },
  {
   "cell_type": "code",
   "execution_count": 88,
   "metadata": {},
   "outputs": [
    {
     "data": {
      "text/plain": [
       "(3790, 768)"
      ]
     },
     "execution_count": 88,
     "metadata": {},
     "output_type": "execute_result"
    }
   ],
   "source": [
    "import pickle\n",
    "outputs_infer = []\n",
    "output_formated_infer = []\n",
    "with torch.no_grad():\n",
    "    for i_batch, sample_batched in enumerate(test_loader):\n",
    "        x = sample_batched\n",
    "        output_infer = best_model.audio_spectrogram_transformer(x).pooler_output\n",
    "        outputs_infer.append(output_infer.numpy(force=True))\n",
    "    output_formated_infer = np.concatenate(outputs_infer, axis=0)\n",
    "pickle.dump(output_formated_infer, open('test_ast_infer.pkl', mode='wb'))\n",
    "output_formated_infer.shape"
   ]
  },
  {
   "cell_type": "code",
   "execution_count": null,
   "metadata": {},
   "outputs": [],
   "source": []
  },
  {
   "cell_type": "code",
   "execution_count": 91,
   "metadata": {},
   "outputs": [],
   "source": [
    "X_train = pickle.load(open('train_ast_infer.pkl', mode='rb'))\n",
    "X_val = pickle.load(open('val_ast_infer.pkl', mode='rb'))\n",
    "X_test = pickle.load(open('test_ast_infer.pkl', mode='rb'))"
   ]
  },
  {
   "cell_type": "code",
   "execution_count": 109,
   "metadata": {},
   "outputs": [],
   "source": [
    "from sklearn.neighbors import KNeighborsClassifier\n",
    "from sklearn.naive_bayes import GaussianNB\n",
    "# from sklearn.discriminant_analysis import QuadraticDiscriminantAnalysis\n",
    "# clf = KNeighborsClassifier(metric='cosine').fit(X_train, y_tr)\n",
    "clf = GaussianNB().fit(X_train, y_tr)"
   ]
  },
  {
   "cell_type": "code",
   "execution_count": 110,
   "metadata": {},
   "outputs": [
    {
     "data": {
      "text/plain": [
       "0.873871607796664"
      ]
     },
     "execution_count": 110,
     "metadata": {},
     "output_type": "execute_result"
    }
   ],
   "source": [
    "f1_score(y_val, clf.predict(X_val), average='weighted')"
   ]
  },
  {
   "cell_type": "code",
   "execution_count": null,
   "metadata": {},
   "outputs": [],
   "source": []
  },
  {
   "cell_type": "code",
   "execution_count": 98,
   "metadata": {},
   "outputs": [],
   "source": [
    "labled_outs = [id_to_label[i] for i in clf.predict(X_test)]\n",
    "pd.DataFrame({'fname': fnames, 'label': labled_outs}).to_csv('predict_10.csv', index=False)"
   ]
  },
  {
   "cell_type": "code",
   "execution_count": 99,
   "metadata": {},
   "outputs": [],
   "source": [
    "!cp predict_10.csv /mnt/storage/kocharyan/sambashare/"
   ]
  },
  {
   "cell_type": "code",
   "execution_count": 118,
   "metadata": {},
   "outputs": [
    {
     "data": {
      "text/plain": [
       "0.8795936859252883"
      ]
     },
     "execution_count": 118,
     "metadata": {},
     "output_type": "execute_result"
    }
   ],
   "source": [
    "from sklearn.pipeline import make_pipeline\n",
    "from sklearn.ensemble import StackingClassifier\n",
    "from sklearn.naive_bayes import GaussianNB\n",
    "from sklearn.ensemble import GradientBoostingClassifier\n",
    "from sklearn.preprocessing import StandardScaler\n",
    "from sklearn.ensemble import StackingClassifier\n",
    "\n",
    "\n",
    "estimators = [\n",
    "    ('lr',  make_pipeline(StandardScaler(), LogisticRegression(class_weight='balanced', random_state=42))),\n",
    "    ('nb', make_pipeline(StandardScaler(), GaussianNB())), \n",
    "    ('knn', make_pipeline(StandardScaler(), KNeighborsClassifier(metric='cosine'))),\n",
    "    ('knn_', make_pipeline(StandardScaler(), KNeighborsClassifier(metric='euclidean')))\n",
    "]\n",
    "clf = StackingClassifier(estimators=estimators, final_estimator=GradientBoostingClassifier())\n",
    "clf.fit(X_train, y_tr)\n",
    "f1_score(y_val, clf.predict(X_val), average='weighted')"
   ]
  },
  {
   "cell_type": "code",
   "execution_count": null,
   "metadata": {},
   "outputs": [],
   "source": []
  }
 ],
 "metadata": {
  "accelerator": "GPU",
  "colab": {
   "provenance": []
  },
  "gpuClass": "standard",
  "kernelspec": {
   "display_name": "workenv",
   "language": "python",
   "name": "workenv"
  },
  "language_info": {
   "codemirror_mode": {
    "name": "ipython",
    "version": 3
   },
   "file_extension": ".py",
   "mimetype": "text/x-python",
   "name": "python",
   "nbconvert_exporter": "python",
   "pygments_lexer": "ipython3",
   "version": "3.8.7"
  },
  "widgets": {
   "application/vnd.jupyter.widget-state+json": {
    "0464574a102b46ae987a0351ec5627c2": {
     "model_module": "@jupyter-widgets/controls",
     "model_module_version": "1.5.0",
     "model_name": "HTMLModel",
     "state": {
      "_dom_classes": [],
      "_model_module": "@jupyter-widgets/controls",
      "_model_module_version": "1.5.0",
      "_model_name": "HTMLModel",
      "_view_count": null,
      "_view_module": "@jupyter-widgets/controls",
      "_view_module_version": "1.5.0",
      "_view_name": "HTMLView",
      "description": "",
      "description_tooltip": null,
      "layout": "IPY_MODEL_08d7bf2865a1463f8541d957243ab19e",
      "placeholder": "​",
      "style": "IPY_MODEL_ec7c2cf30a5a4535af4325aa8270a184",
      "value": "Downloading pytorch_model.bin: 100%"
     }
    },
    "08d7bf2865a1463f8541d957243ab19e": {
     "model_module": "@jupyter-widgets/base",
     "model_module_version": "1.2.0",
     "model_name": "LayoutModel",
     "state": {
      "_model_module": "@jupyter-widgets/base",
      "_model_module_version": "1.2.0",
      "_model_name": "LayoutModel",
      "_view_count": null,
      "_view_module": "@jupyter-widgets/base",
      "_view_module_version": "1.2.0",
      "_view_name": "LayoutView",
      "align_content": null,
      "align_items": null,
      "align_self": null,
      "border": null,
      "bottom": null,
      "display": null,
      "flex": null,
      "flex_flow": null,
      "grid_area": null,
      "grid_auto_columns": null,
      "grid_auto_flow": null,
      "grid_auto_rows": null,
      "grid_column": null,
      "grid_gap": null,
      "grid_row": null,
      "grid_template_areas": null,
      "grid_template_columns": null,
      "grid_template_rows": null,
      "height": null,
      "justify_content": null,
      "justify_items": null,
      "left": null,
      "margin": null,
      "max_height": null,
      "max_width": null,
      "min_height": null,
      "min_width": null,
      "object_fit": null,
      "object_position": null,
      "order": null,
      "overflow": null,
      "overflow_x": null,
      "overflow_y": null,
      "padding": null,
      "right": null,
      "top": null,
      "visibility": null,
      "width": null
     }
    },
    "0f7ad9b5e5714b79808af26683eed5bf": {
     "model_module": "@jupyter-widgets/controls",
     "model_module_version": "1.5.0",
     "model_name": "ProgressStyleModel",
     "state": {
      "_model_module": "@jupyter-widgets/controls",
      "_model_module_version": "1.5.0",
      "_model_name": "ProgressStyleModel",
      "_view_count": null,
      "_view_module": "@jupyter-widgets/base",
      "_view_module_version": "1.2.0",
      "_view_name": "StyleView",
      "bar_color": null,
      "description_width": ""
     }
    },
    "3e80fbe072e84e05991b83a78340ea49": {
     "model_module": "@jupyter-widgets/controls",
     "model_module_version": "1.5.0",
     "model_name": "FloatProgressModel",
     "state": {
      "_dom_classes": [],
      "_model_module": "@jupyter-widgets/controls",
      "_model_module_version": "1.5.0",
      "_model_name": "FloatProgressModel",
      "_view_count": null,
      "_view_module": "@jupyter-widgets/controls",
      "_view_module_version": "1.5.0",
      "_view_name": "ProgressView",
      "bar_style": "success",
      "description": "",
      "description_tooltip": null,
      "layout": "IPY_MODEL_b237d85c7ecb49ea8f82dae598beca8e",
      "max": 26763,
      "min": 0,
      "orientation": "horizontal",
      "style": "IPY_MODEL_576d833d2461464087b8cb2035b8fb73",
      "value": 26763
     }
    },
    "53b2e8c06ddf416d9efeeb9f24deb4f0": {
     "model_module": "@jupyter-widgets/base",
     "model_module_version": "1.2.0",
     "model_name": "LayoutModel",
     "state": {
      "_model_module": "@jupyter-widgets/base",
      "_model_module_version": "1.2.0",
      "_model_name": "LayoutModel",
      "_view_count": null,
      "_view_module": "@jupyter-widgets/base",
      "_view_module_version": "1.2.0",
      "_view_name": "LayoutView",
      "align_content": null,
      "align_items": null,
      "align_self": null,
      "border": null,
      "bottom": null,
      "display": null,
      "flex": null,
      "flex_flow": null,
      "grid_area": null,
      "grid_auto_columns": null,
      "grid_auto_flow": null,
      "grid_auto_rows": null,
      "grid_column": null,
      "grid_gap": null,
      "grid_row": null,
      "grid_template_areas": null,
      "grid_template_columns": null,
      "grid_template_rows": null,
      "height": null,
      "justify_content": null,
      "justify_items": null,
      "left": null,
      "margin": null,
      "max_height": null,
      "max_width": null,
      "min_height": null,
      "min_width": null,
      "object_fit": null,
      "object_position": null,
      "order": null,
      "overflow": null,
      "overflow_x": null,
      "overflow_y": null,
      "padding": null,
      "right": null,
      "top": null,
      "visibility": null,
      "width": null
     }
    },
    "576d833d2461464087b8cb2035b8fb73": {
     "model_module": "@jupyter-widgets/controls",
     "model_module_version": "1.5.0",
     "model_name": "ProgressStyleModel",
     "state": {
      "_model_module": "@jupyter-widgets/controls",
      "_model_module_version": "1.5.0",
      "_model_name": "ProgressStyleModel",
      "_view_count": null,
      "_view_module": "@jupyter-widgets/base",
      "_view_module_version": "1.2.0",
      "_view_name": "StyleView",
      "bar_color": null,
      "description_width": ""
     }
    },
    "5a882d44858949f6bf792e65a1c9a26c": {
     "model_module": "@jupyter-widgets/controls",
     "model_module_version": "1.5.0",
     "model_name": "FloatProgressModel",
     "state": {
      "_dom_classes": [],
      "_model_module": "@jupyter-widgets/controls",
      "_model_module_version": "1.5.0",
      "_model_name": "FloatProgressModel",
      "_view_count": null,
      "_view_module": "@jupyter-widgets/controls",
      "_view_module_version": "1.5.0",
      "_view_name": "ProgressView",
      "bar_style": "success",
      "description": "",
      "description_tooltip": null,
      "layout": "IPY_MODEL_7c45e783b8e046b28f2d0afb20d06744",
      "max": 346445675,
      "min": 0,
      "orientation": "horizontal",
      "style": "IPY_MODEL_0f7ad9b5e5714b79808af26683eed5bf",
      "value": 346445675
     }
    },
    "62a828ff73a54574a71df15bc63079d4": {
     "model_module": "@jupyter-widgets/controls",
     "model_module_version": "1.5.0",
     "model_name": "HTMLModel",
     "state": {
      "_dom_classes": [],
      "_model_module": "@jupyter-widgets/controls",
      "_model_module_version": "1.5.0",
      "_model_name": "HTMLModel",
      "_view_count": null,
      "_view_module": "@jupyter-widgets/controls",
      "_view_module_version": "1.5.0",
      "_view_name": "HTMLView",
      "description": "",
      "description_tooltip": null,
      "layout": "IPY_MODEL_e9e4fcca326b465f8c5b357741b61086",
      "placeholder": "​",
      "style": "IPY_MODEL_cd8582d74c4b43d9b77a37a0b1f37ab7",
      "value": "Downloading (…)lve/main/config.json: 100%"
     }
    },
    "6dc8e924c0754cd0a70bfd5abff53630": {
     "model_module": "@jupyter-widgets/controls",
     "model_module_version": "1.5.0",
     "model_name": "DescriptionStyleModel",
     "state": {
      "_model_module": "@jupyter-widgets/controls",
      "_model_module_version": "1.5.0",
      "_model_name": "DescriptionStyleModel",
      "_view_count": null,
      "_view_module": "@jupyter-widgets/base",
      "_view_module_version": "1.2.0",
      "_view_name": "StyleView",
      "description_width": ""
     }
    },
    "720493f907014139ae02d9a4867488ad": {
     "model_module": "@jupyter-widgets/controls",
     "model_module_version": "1.5.0",
     "model_name": "HBoxModel",
     "state": {
      "_dom_classes": [],
      "_model_module": "@jupyter-widgets/controls",
      "_model_module_version": "1.5.0",
      "_model_name": "HBoxModel",
      "_view_count": null,
      "_view_module": "@jupyter-widgets/controls",
      "_view_module_version": "1.5.0",
      "_view_name": "HBoxView",
      "box_style": "",
      "children": [
       "IPY_MODEL_62a828ff73a54574a71df15bc63079d4",
       "IPY_MODEL_3e80fbe072e84e05991b83a78340ea49",
       "IPY_MODEL_9f08931f4b5945dbac2fffd26672567a"
      ],
      "layout": "IPY_MODEL_9900c40e644e4b1f9aa2fbf575255b0b"
     }
    },
    "7c45e783b8e046b28f2d0afb20d06744": {
     "model_module": "@jupyter-widgets/base",
     "model_module_version": "1.2.0",
     "model_name": "LayoutModel",
     "state": {
      "_model_module": "@jupyter-widgets/base",
      "_model_module_version": "1.2.0",
      "_model_name": "LayoutModel",
      "_view_count": null,
      "_view_module": "@jupyter-widgets/base",
      "_view_module_version": "1.2.0",
      "_view_name": "LayoutView",
      "align_content": null,
      "align_items": null,
      "align_self": null,
      "border": null,
      "bottom": null,
      "display": null,
      "flex": null,
      "flex_flow": null,
      "grid_area": null,
      "grid_auto_columns": null,
      "grid_auto_flow": null,
      "grid_auto_rows": null,
      "grid_column": null,
      "grid_gap": null,
      "grid_row": null,
      "grid_template_areas": null,
      "grid_template_columns": null,
      "grid_template_rows": null,
      "height": null,
      "justify_content": null,
      "justify_items": null,
      "left": null,
      "margin": null,
      "max_height": null,
      "max_width": null,
      "min_height": null,
      "min_width": null,
      "object_fit": null,
      "object_position": null,
      "order": null,
      "overflow": null,
      "overflow_x": null,
      "overflow_y": null,
      "padding": null,
      "right": null,
      "top": null,
      "visibility": null,
      "width": null
     }
    },
    "7de99ff658ff4b70b71e1d926e197c2f": {
     "model_module": "@jupyter-widgets/base",
     "model_module_version": "1.2.0",
     "model_name": "LayoutModel",
     "state": {
      "_model_module": "@jupyter-widgets/base",
      "_model_module_version": "1.2.0",
      "_model_name": "LayoutModel",
      "_view_count": null,
      "_view_module": "@jupyter-widgets/base",
      "_view_module_version": "1.2.0",
      "_view_name": "LayoutView",
      "align_content": null,
      "align_items": null,
      "align_self": null,
      "border": null,
      "bottom": null,
      "display": null,
      "flex": null,
      "flex_flow": null,
      "grid_area": null,
      "grid_auto_columns": null,
      "grid_auto_flow": null,
      "grid_auto_rows": null,
      "grid_column": null,
      "grid_gap": null,
      "grid_row": null,
      "grid_template_areas": null,
      "grid_template_columns": null,
      "grid_template_rows": null,
      "height": null,
      "justify_content": null,
      "justify_items": null,
      "left": null,
      "margin": null,
      "max_height": null,
      "max_width": null,
      "min_height": null,
      "min_width": null,
      "object_fit": null,
      "object_position": null,
      "order": null,
      "overflow": null,
      "overflow_x": null,
      "overflow_y": null,
      "padding": null,
      "right": null,
      "top": null,
      "visibility": null,
      "width": null
     }
    },
    "8cdb1dfc15eb4f15a5b891c60270044d": {
     "model_module": "@jupyter-widgets/base",
     "model_module_version": "1.2.0",
     "model_name": "LayoutModel",
     "state": {
      "_model_module": "@jupyter-widgets/base",
      "_model_module_version": "1.2.0",
      "_model_name": "LayoutModel",
      "_view_count": null,
      "_view_module": "@jupyter-widgets/base",
      "_view_module_version": "1.2.0",
      "_view_name": "LayoutView",
      "align_content": null,
      "align_items": null,
      "align_self": null,
      "border": null,
      "bottom": null,
      "display": null,
      "flex": null,
      "flex_flow": null,
      "grid_area": null,
      "grid_auto_columns": null,
      "grid_auto_flow": null,
      "grid_auto_rows": null,
      "grid_column": null,
      "grid_gap": null,
      "grid_row": null,
      "grid_template_areas": null,
      "grid_template_columns": null,
      "grid_template_rows": null,
      "height": null,
      "justify_content": null,
      "justify_items": null,
      "left": null,
      "margin": null,
      "max_height": null,
      "max_width": null,
      "min_height": null,
      "min_width": null,
      "object_fit": null,
      "object_position": null,
      "order": null,
      "overflow": null,
      "overflow_x": null,
      "overflow_y": null,
      "padding": null,
      "right": null,
      "top": null,
      "visibility": null,
      "width": null
     }
    },
    "924adba37e6c41a9a6918b23b17ca01a": {
     "model_module": "@jupyter-widgets/controls",
     "model_module_version": "1.5.0",
     "model_name": "DescriptionStyleModel",
     "state": {
      "_model_module": "@jupyter-widgets/controls",
      "_model_module_version": "1.5.0",
      "_model_name": "DescriptionStyleModel",
      "_view_count": null,
      "_view_module": "@jupyter-widgets/base",
      "_view_module_version": "1.2.0",
      "_view_name": "StyleView",
      "description_width": ""
     }
    },
    "9900c40e644e4b1f9aa2fbf575255b0b": {
     "model_module": "@jupyter-widgets/base",
     "model_module_version": "1.2.0",
     "model_name": "LayoutModel",
     "state": {
      "_model_module": "@jupyter-widgets/base",
      "_model_module_version": "1.2.0",
      "_model_name": "LayoutModel",
      "_view_count": null,
      "_view_module": "@jupyter-widgets/base",
      "_view_module_version": "1.2.0",
      "_view_name": "LayoutView",
      "align_content": null,
      "align_items": null,
      "align_self": null,
      "border": null,
      "bottom": null,
      "display": null,
      "flex": null,
      "flex_flow": null,
      "grid_area": null,
      "grid_auto_columns": null,
      "grid_auto_flow": null,
      "grid_auto_rows": null,
      "grid_column": null,
      "grid_gap": null,
      "grid_row": null,
      "grid_template_areas": null,
      "grid_template_columns": null,
      "grid_template_rows": null,
      "height": null,
      "justify_content": null,
      "justify_items": null,
      "left": null,
      "margin": null,
      "max_height": null,
      "max_width": null,
      "min_height": null,
      "min_width": null,
      "object_fit": null,
      "object_position": null,
      "order": null,
      "overflow": null,
      "overflow_x": null,
      "overflow_y": null,
      "padding": null,
      "right": null,
      "top": null,
      "visibility": null,
      "width": null
     }
    },
    "9f08931f4b5945dbac2fffd26672567a": {
     "model_module": "@jupyter-widgets/controls",
     "model_module_version": "1.5.0",
     "model_name": "HTMLModel",
     "state": {
      "_dom_classes": [],
      "_model_module": "@jupyter-widgets/controls",
      "_model_module_version": "1.5.0",
      "_model_name": "HTMLModel",
      "_view_count": null,
      "_view_module": "@jupyter-widgets/controls",
      "_view_module_version": "1.5.0",
      "_view_name": "HTMLView",
      "description": "",
      "description_tooltip": null,
      "layout": "IPY_MODEL_7de99ff658ff4b70b71e1d926e197c2f",
      "placeholder": "​",
      "style": "IPY_MODEL_924adba37e6c41a9a6918b23b17ca01a",
      "value": " 26.8k/26.8k [00:00&lt;00:00, 1.23MB/s]"
     }
    },
    "b15b7306794a4899b1d886e98203265a": {
     "model_module": "@jupyter-widgets/controls",
     "model_module_version": "1.5.0",
     "model_name": "HBoxModel",
     "state": {
      "_dom_classes": [],
      "_model_module": "@jupyter-widgets/controls",
      "_model_module_version": "1.5.0",
      "_model_name": "HBoxModel",
      "_view_count": null,
      "_view_module": "@jupyter-widgets/controls",
      "_view_module_version": "1.5.0",
      "_view_name": "HBoxView",
      "box_style": "",
      "children": [
       "IPY_MODEL_0464574a102b46ae987a0351ec5627c2",
       "IPY_MODEL_5a882d44858949f6bf792e65a1c9a26c",
       "IPY_MODEL_ef9d8f5543924688b0699c2012ff170f"
      ],
      "layout": "IPY_MODEL_53b2e8c06ddf416d9efeeb9f24deb4f0"
     }
    },
    "b237d85c7ecb49ea8f82dae598beca8e": {
     "model_module": "@jupyter-widgets/base",
     "model_module_version": "1.2.0",
     "model_name": "LayoutModel",
     "state": {
      "_model_module": "@jupyter-widgets/base",
      "_model_module_version": "1.2.0",
      "_model_name": "LayoutModel",
      "_view_count": null,
      "_view_module": "@jupyter-widgets/base",
      "_view_module_version": "1.2.0",
      "_view_name": "LayoutView",
      "align_content": null,
      "align_items": null,
      "align_self": null,
      "border": null,
      "bottom": null,
      "display": null,
      "flex": null,
      "flex_flow": null,
      "grid_area": null,
      "grid_auto_columns": null,
      "grid_auto_flow": null,
      "grid_auto_rows": null,
      "grid_column": null,
      "grid_gap": null,
      "grid_row": null,
      "grid_template_areas": null,
      "grid_template_columns": null,
      "grid_template_rows": null,
      "height": null,
      "justify_content": null,
      "justify_items": null,
      "left": null,
      "margin": null,
      "max_height": null,
      "max_width": null,
      "min_height": null,
      "min_width": null,
      "object_fit": null,
      "object_position": null,
      "order": null,
      "overflow": null,
      "overflow_x": null,
      "overflow_y": null,
      "padding": null,
      "right": null,
      "top": null,
      "visibility": null,
      "width": null
     }
    },
    "cd8582d74c4b43d9b77a37a0b1f37ab7": {
     "model_module": "@jupyter-widgets/controls",
     "model_module_version": "1.5.0",
     "model_name": "DescriptionStyleModel",
     "state": {
      "_model_module": "@jupyter-widgets/controls",
      "_model_module_version": "1.5.0",
      "_model_name": "DescriptionStyleModel",
      "_view_count": null,
      "_view_module": "@jupyter-widgets/base",
      "_view_module_version": "1.2.0",
      "_view_name": "StyleView",
      "description_width": ""
     }
    },
    "e9e4fcca326b465f8c5b357741b61086": {
     "model_module": "@jupyter-widgets/base",
     "model_module_version": "1.2.0",
     "model_name": "LayoutModel",
     "state": {
      "_model_module": "@jupyter-widgets/base",
      "_model_module_version": "1.2.0",
      "_model_name": "LayoutModel",
      "_view_count": null,
      "_view_module": "@jupyter-widgets/base",
      "_view_module_version": "1.2.0",
      "_view_name": "LayoutView",
      "align_content": null,
      "align_items": null,
      "align_self": null,
      "border": null,
      "bottom": null,
      "display": null,
      "flex": null,
      "flex_flow": null,
      "grid_area": null,
      "grid_auto_columns": null,
      "grid_auto_flow": null,
      "grid_auto_rows": null,
      "grid_column": null,
      "grid_gap": null,
      "grid_row": null,
      "grid_template_areas": null,
      "grid_template_columns": null,
      "grid_template_rows": null,
      "height": null,
      "justify_content": null,
      "justify_items": null,
      "left": null,
      "margin": null,
      "max_height": null,
      "max_width": null,
      "min_height": null,
      "min_width": null,
      "object_fit": null,
      "object_position": null,
      "order": null,
      "overflow": null,
      "overflow_x": null,
      "overflow_y": null,
      "padding": null,
      "right": null,
      "top": null,
      "visibility": null,
      "width": null
     }
    },
    "ec7c2cf30a5a4535af4325aa8270a184": {
     "model_module": "@jupyter-widgets/controls",
     "model_module_version": "1.5.0",
     "model_name": "DescriptionStyleModel",
     "state": {
      "_model_module": "@jupyter-widgets/controls",
      "_model_module_version": "1.5.0",
      "_model_name": "DescriptionStyleModel",
      "_view_count": null,
      "_view_module": "@jupyter-widgets/base",
      "_view_module_version": "1.2.0",
      "_view_name": "StyleView",
      "description_width": ""
     }
    },
    "ef9d8f5543924688b0699c2012ff170f": {
     "model_module": "@jupyter-widgets/controls",
     "model_module_version": "1.5.0",
     "model_name": "HTMLModel",
     "state": {
      "_dom_classes": [],
      "_model_module": "@jupyter-widgets/controls",
      "_model_module_version": "1.5.0",
      "_model_name": "HTMLModel",
      "_view_count": null,
      "_view_module": "@jupyter-widgets/controls",
      "_view_module_version": "1.5.0",
      "_view_name": "HTMLView",
      "description": "",
      "description_tooltip": null,
      "layout": "IPY_MODEL_8cdb1dfc15eb4f15a5b891c60270044d",
      "placeholder": "​",
      "style": "IPY_MODEL_6dc8e924c0754cd0a70bfd5abff53630",
      "value": " 346M/346M [00:01&lt;00:00, 166MB/s]"
     }
    }
   }
  }
 },
 "nbformat": 4,
 "nbformat_minor": 1
}
