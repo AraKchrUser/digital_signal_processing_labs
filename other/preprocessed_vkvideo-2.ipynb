{
 "cells": [
  {
   "cell_type": "code",
   "execution_count": 1,
   "metadata": {},
   "outputs": [
    {
     "name": "stdout",
     "output_type": "stream",
     "text": [
      "/home/armen.kocharyan/dev_env/bin/python\n"
     ]
    }
   ],
   "source": [
    "import sys\n",
    "print(sys.executable)\n",
    "\n",
    "import pandas as pd\n",
    "import numpy as np\n",
    "import os, glob\n",
    "\n",
    "from pathlib import Path\n",
    "import typing\n",
    "\n",
    "from typing import List, Dict, Any, Union, Optional"
   ]
  },
  {
   "cell_type": "code",
   "execution_count": 68,
   "metadata": {},
   "outputs": [],
   "source": []
  },
  {
   "cell_type": "code",
   "execution_count": 141,
   "metadata": {},
   "outputs": [],
   "source": [
    "ds_path = \"/home/armen.kocharyan/datasets/2023_12_datasets/youtube_markers.20231205.dset.train.tsv.gz\"\n",
    "df_ds = pd.read_csv(ds_path, sep='\\t', compression='gzip', header=None)"
   ]
  },
  {
   "cell_type": "code",
   "execution_count": 32,
   "metadata": {},
   "outputs": [
    {
     "data": {
      "text/plain": [
       "30658"
      ]
     },
     "execution_count": 32,
     "metadata": {},
     "output_type": "execute_result"
    }
   ],
   "source": [
    "len(df_ds)"
   ]
  },
  {
   "cell_type": "code",
   "execution_count": 65,
   "metadata": {},
   "outputs": [
    {
     "data": {
      "text/plain": [
       "(324329, 324329)"
      ]
     },
     "execution_count": 65,
     "metadata": {},
     "output_type": "execute_result"
    }
   ],
   "source": [
    "vk_markers = \"../2023_12_datasets/vk_markers.20231205.dset.train.tsv.gz\"\n",
    "vk_markers = pd.read_csv(vk_markers, sep='\\t', compression='gzip', header=None)\n",
    "len(vk_markers), 324329"
   ]
  },
  {
   "cell_type": "code",
   "execution_count": 64,
   "metadata": {},
   "outputs": [
    {
     "data": {
      "text/html": [
       "<div>\n",
       "<style scoped>\n",
       "    .dataframe tbody tr th:only-of-type {\n",
       "        vertical-align: middle;\n",
       "    }\n",
       "\n",
       "    .dataframe tbody tr th {\n",
       "        vertical-align: top;\n",
       "    }\n",
       "\n",
       "    .dataframe thead th {\n",
       "        text-align: right;\n",
       "    }\n",
       "</style>\n",
       "<table border=\"1\" class=\"dataframe\">\n",
       "  <thead>\n",
       "    <tr style=\"text-align: right;\">\n",
       "      <th></th>\n",
       "      <th>0</th>\n",
       "      <th>1</th>\n",
       "      <th>2</th>\n",
       "      <th>3</th>\n",
       "      <th>4</th>\n",
       "      <th>5</th>\n",
       "      <th>6</th>\n",
       "      <th>7</th>\n",
       "      <th>8</th>\n",
       "      <th>9</th>\n",
       "      <th>...</th>\n",
       "      <th>348</th>\n",
       "      <th>349</th>\n",
       "      <th>350</th>\n",
       "      <th>351</th>\n",
       "      <th>352</th>\n",
       "      <th>353</th>\n",
       "      <th>354</th>\n",
       "      <th>355</th>\n",
       "      <th>356</th>\n",
       "      <th>357</th>\n",
       "    </tr>\n",
       "  </thead>\n",
       "  <tbody>\n",
       "    <tr>\n",
       "      <th>0</th>\n",
       "      <td>12</td>\n",
       "      <td>1</td>\n",
       "      <td>-</td>\n",
       "      <td>-</td>\n",
       "      <td>1</td>\n",
       "      <td>3</td>\n",
       "      <td>1</td>\n",
       "      <td>408</td>\n",
       "      <td>-</td>\n",
       "      <td>#SAINTCYPHER / ВЕТЛ УДАЛЫХ</td>\n",
       "      <td>...</td>\n",
       "      <td>-1.000000</td>\n",
       "      <td>0</td>\n",
       "      <td>0</td>\n",
       "      <td>1</td>\n",
       "      <td>0.5234</td>\n",
       "      <td>1.5232</td>\n",
       "      <td>319.667786</td>\n",
       "      <td>984.555664</td>\n",
       "      <td>984.555664</td>\n",
       "      <td>1</td>\n",
       "    </tr>\n",
       "    <tr>\n",
       "      <th>1</th>\n",
       "      <td>18</td>\n",
       "      <td>1</td>\n",
       "      <td>-</td>\n",
       "      <td>-</td>\n",
       "      <td>1</td>\n",
       "      <td>2</td>\n",
       "      <td>1</td>\n",
       "      <td>410</td>\n",
       "      <td>-</td>\n",
       "      <td>#SAINTCYPHER / ВЕТЛ УДАЛЫХ</td>\n",
       "      <td>...</td>\n",
       "      <td>0.175000</td>\n",
       "      <td>0</td>\n",
       "      <td>0</td>\n",
       "      <td>1</td>\n",
       "      <td>0.5234</td>\n",
       "      <td>1.5232</td>\n",
       "      <td>319.667786</td>\n",
       "      <td>976.653809</td>\n",
       "      <td>976.653809</td>\n",
       "      <td>1</td>\n",
       "    </tr>\n",
       "    <tr>\n",
       "      <th>2</th>\n",
       "      <td>31</td>\n",
       "      <td>1</td>\n",
       "      <td>-</td>\n",
       "      <td>-</td>\n",
       "      <td>1</td>\n",
       "      <td>2</td>\n",
       "      <td>1</td>\n",
       "      <td>412</td>\n",
       "      <td>-</td>\n",
       "      <td>#SAINTCYPHER / ВЕТЛ УДАЛЫХ</td>\n",
       "      <td>...</td>\n",
       "      <td>-1.000000</td>\n",
       "      <td>0</td>\n",
       "      <td>0</td>\n",
       "      <td>1</td>\n",
       "      <td>0.5234</td>\n",
       "      <td>1.5232</td>\n",
       "      <td>319.667786</td>\n",
       "      <td>981.753784</td>\n",
       "      <td>981.753784</td>\n",
       "      <td>1</td>\n",
       "    </tr>\n",
       "    <tr>\n",
       "      <th>3</th>\n",
       "      <td>5</td>\n",
       "      <td>1</td>\n",
       "      <td>-</td>\n",
       "      <td>-</td>\n",
       "      <td>1</td>\n",
       "      <td>3</td>\n",
       "      <td>1</td>\n",
       "      <td>413</td>\n",
       "      <td>-</td>\n",
       "      <td>#SAINTCYPHER / ВЕТЛ УДАЛЫХ</td>\n",
       "      <td>...</td>\n",
       "      <td>-1.000000</td>\n",
       "      <td>0</td>\n",
       "      <td>0</td>\n",
       "      <td>1</td>\n",
       "      <td>0.5234</td>\n",
       "      <td>1.5232</td>\n",
       "      <td>319.667786</td>\n",
       "      <td>970.617310</td>\n",
       "      <td>970.617310</td>\n",
       "      <td>1</td>\n",
       "    </tr>\n",
       "    <tr>\n",
       "      <th>4</th>\n",
       "      <td>39</td>\n",
       "      <td>1</td>\n",
       "      <td>-</td>\n",
       "      <td>-</td>\n",
       "      <td>1</td>\n",
       "      <td>2</td>\n",
       "      <td>1</td>\n",
       "      <td>407</td>\n",
       "      <td>-</td>\n",
       "      <td>#SAINTCYPHER / ВЕТЛ УДАЛЫХ</td>\n",
       "      <td>...</td>\n",
       "      <td>0.416667</td>\n",
       "      <td>0</td>\n",
       "      <td>0</td>\n",
       "      <td>1</td>\n",
       "      <td>0.5234</td>\n",
       "      <td>1.5232</td>\n",
       "      <td>319.729309</td>\n",
       "      <td>1071.352539</td>\n",
       "      <td>1071.352539</td>\n",
       "      <td>1</td>\n",
       "    </tr>\n",
       "  </tbody>\n",
       "</table>\n",
       "<p>5 rows × 358 columns</p>\n",
       "</div>"
      ],
      "text/plain": [
       "   0    1   2   3    4    5    6    7   8                           9    ...  \\\n",
       "0   12    1   -   -    1    3    1  408   -  #SAINTCYPHER / ВЕТЛ УДАЛЫХ  ...   \n",
       "1   18    1   -   -    1    2    1  410   -  #SAINTCYPHER / ВЕТЛ УДАЛЫХ  ...   \n",
       "2   31    1   -   -    1    2    1  412   -  #SAINTCYPHER / ВЕТЛ УДАЛЫХ  ...   \n",
       "3    5    1   -   -    1    3    1  413   -  #SAINTCYPHER / ВЕТЛ УДАЛЫХ  ...   \n",
       "4   39    1   -   -    1    2    1  407   -  #SAINTCYPHER / ВЕТЛ УДАЛЫХ  ...   \n",
       "\n",
       "        348  349  350  351     352     353         354          355  \\\n",
       "0 -1.000000    0    0    1  0.5234  1.5232  319.667786   984.555664   \n",
       "1  0.175000    0    0    1  0.5234  1.5232  319.667786   976.653809   \n",
       "2 -1.000000    0    0    1  0.5234  1.5232  319.667786   981.753784   \n",
       "3 -1.000000    0    0    1  0.5234  1.5232  319.667786   970.617310   \n",
       "4  0.416667    0    0    1  0.5234  1.5232  319.729309  1071.352539   \n",
       "\n",
       "           356  357  \n",
       "0   984.555664    1  \n",
       "1   976.653809    1  \n",
       "2   981.753784    1  \n",
       "3   970.617310    1  \n",
       "4  1071.352539    1  \n",
       "\n",
       "[5 rows x 358 columns]"
      ]
     },
     "execution_count": 64,
     "metadata": {},
     "output_type": "execute_result"
    }
   ],
   "source": [
    "vk_markers.head()"
   ]
  },
  {
   "cell_type": "code",
   "execution_count": 138,
   "metadata": {},
   "outputs": [],
   "source": [
    "ds_path = \"../2023_12_datasets/video_urls.20231207.text_fields.tsv.gz\"\n",
    "df_fileds = pd.read_csv(ds_path, sep='\\t', compression='gzip', low_memory=False)"
   ]
  },
  {
   "cell_type": "code",
   "execution_count": 139,
   "metadata": {},
   "outputs": [
    {
     "data": {
      "text/plain": [
       "1926167"
      ]
     },
     "execution_count": 139,
     "metadata": {},
     "output_type": "execute_result"
    }
   ],
   "source": [
    "len(df_fileds)"
   ]
  },
  {
   "cell_type": "code",
   "execution_count": 39,
   "metadata": {},
   "outputs": [
    {
     "data": {
      "text/html": [
       "<div>\n",
       "<style scoped>\n",
       "    .dataframe tbody tr th:only-of-type {\n",
       "        vertical-align: middle;\n",
       "    }\n",
       "\n",
       "    .dataframe tbody tr th {\n",
       "        vertical-align: top;\n",
       "    }\n",
       "\n",
       "    .dataframe thead th {\n",
       "        text-align: right;\n",
       "    }\n",
       "</style>\n",
       "<table border=\"1\" class=\"dataframe\">\n",
       "  <thead>\n",
       "    <tr style=\"text-align: right;\">\n",
       "      <th></th>\n",
       "      <th>0</th>\n",
       "      <th>1</th>\n",
       "      <th>2</th>\n",
       "      <th>3</th>\n",
       "      <th>4</th>\n",
       "      <th>5</th>\n",
       "      <th>6</th>\n",
       "      <th>7</th>\n",
       "      <th>8</th>\n",
       "      <th>9</th>\n",
       "      <th>...</th>\n",
       "      <th>350</th>\n",
       "      <th>351</th>\n",
       "      <th>352</th>\n",
       "      <th>353</th>\n",
       "      <th>354</th>\n",
       "      <th>355</th>\n",
       "      <th>356</th>\n",
       "      <th>357</th>\n",
       "      <th>query</th>\n",
       "      <th>url</th>\n",
       "    </tr>\n",
       "  </thead>\n",
       "  <tbody>\n",
       "    <tr>\n",
       "      <th>0</th>\n",
       "      <td>16</td>\n",
       "      <td>0</td>\n",
       "      <td>-</td>\n",
       "      <td>-</td>\n",
       "      <td>1</td>\n",
       "      <td>2</td>\n",
       "      <td>1</td>\n",
       "      <td>1607</td>\n",
       "      <td>-</td>\n",
       "      <td>1</td>\n",
       "      <td>...</td>\n",
       "      <td>0</td>\n",
       "      <td>1</td>\n",
       "      <td>0.0000</td>\n",
       "      <td>0.0252</td>\n",
       "      <td>0.000000</td>\n",
       "      <td>958.494263</td>\n",
       "      <td>958.494263</td>\n",
       "      <td>0</td>\n",
       "      <td>1</td>\n",
       "      <td>http://my.mail.ru/mail/kirgizmustafa17/video/_...</td>\n",
       "    </tr>\n",
       "    <tr>\n",
       "      <th>1</th>\n",
       "      <td>21</td>\n",
       "      <td>1</td>\n",
       "      <td>-</td>\n",
       "      <td>-</td>\n",
       "      <td>1</td>\n",
       "      <td>1</td>\n",
       "      <td>1</td>\n",
       "      <td>198</td>\n",
       "      <td>-</td>\n",
       "      <td>1 выжывший против 100 зомби пабг</td>\n",
       "      <td>...</td>\n",
       "      <td>0</td>\n",
       "      <td>1</td>\n",
       "      <td>0.0000</td>\n",
       "      <td>1.8170</td>\n",
       "      <td>221.608261</td>\n",
       "      <td>723.376282</td>\n",
       "      <td>723.376282</td>\n",
       "      <td>1</td>\n",
       "      <td>1 выжывший против 100 зомби пабг</td>\n",
       "      <td>http://kino.mail.ru/series_803429_vyzhit_posle...</td>\n",
       "    </tr>\n",
       "    <tr>\n",
       "      <th>2</th>\n",
       "      <td>16</td>\n",
       "      <td>1</td>\n",
       "      <td>-</td>\n",
       "      <td>-</td>\n",
       "      <td>1</td>\n",
       "      <td>1</td>\n",
       "      <td>1</td>\n",
       "      <td>199</td>\n",
       "      <td>-</td>\n",
       "      <td>1 выжывший против 100 зомби пабг</td>\n",
       "      <td>...</td>\n",
       "      <td>0</td>\n",
       "      <td>1</td>\n",
       "      <td>0.0000</td>\n",
       "      <td>1.8170</td>\n",
       "      <td>178.695862</td>\n",
       "      <td>694.782715</td>\n",
       "      <td>694.782715</td>\n",
       "      <td>1</td>\n",
       "      <td>1 выжывший против 100 зомби пабг</td>\n",
       "      <td>http://ok.ru/video/288772851174</td>\n",
       "    </tr>\n",
       "    <tr>\n",
       "      <th>3</th>\n",
       "      <td>3</td>\n",
       "      <td>1</td>\n",
       "      <td>-</td>\n",
       "      <td>-</td>\n",
       "      <td>1</td>\n",
       "      <td>1</td>\n",
       "      <td>1</td>\n",
       "      <td>202</td>\n",
       "      <td>-</td>\n",
       "      <td>1 выжывший против 100 зомби пабг</td>\n",
       "      <td>...</td>\n",
       "      <td>0</td>\n",
       "      <td>1</td>\n",
       "      <td>0.0252</td>\n",
       "      <td>1.8170</td>\n",
       "      <td>221.438309</td>\n",
       "      <td>672.774048</td>\n",
       "      <td>672.774048</td>\n",
       "      <td>1</td>\n",
       "      <td>1 выжывший против 100 зомби пабг</td>\n",
       "      <td>http://www.youtube.com/watch?v=Sq4sVR66SpA</td>\n",
       "    </tr>\n",
       "    <tr>\n",
       "      <th>4</th>\n",
       "      <td>14</td>\n",
       "      <td>1</td>\n",
       "      <td>-</td>\n",
       "      <td>-</td>\n",
       "      <td>1</td>\n",
       "      <td>1</td>\n",
       "      <td>1</td>\n",
       "      <td>205</td>\n",
       "      <td>-</td>\n",
       "      <td>1 выжывший против 100 зомби пабг</td>\n",
       "      <td>...</td>\n",
       "      <td>0</td>\n",
       "      <td>1</td>\n",
       "      <td>0.0000</td>\n",
       "      <td>1.8170</td>\n",
       "      <td>235.272354</td>\n",
       "      <td>680.395508</td>\n",
       "      <td>680.395508</td>\n",
       "      <td>1</td>\n",
       "      <td>1 выжывший против 100 зомби пабг</td>\n",
       "      <td>http://www.youtube.com/watch?v=kGhOOuV6_d4</td>\n",
       "    </tr>\n",
       "  </tbody>\n",
       "</table>\n",
       "<p>5 rows × 360 columns</p>\n",
       "</div>"
      ],
      "text/plain": [
       "    0  1  2  3  4  5  6     7  8                                 9  ... 350  \\\n",
       "0  16  0  -  -  1  2  1  1607  -                                 1  ...   0   \n",
       "1  21  1  -  -  1  1  1   198  -  1 выжывший против 100 зомби пабг  ...   0   \n",
       "2  16  1  -  -  1  1  1   199  -  1 выжывший против 100 зомби пабг  ...   0   \n",
       "3   3  1  -  -  1  1  1   202  -  1 выжывший против 100 зомби пабг  ...   0   \n",
       "4  14  1  -  -  1  1  1   205  -  1 выжывший против 100 зомби пабг  ...   0   \n",
       "\n",
       "   351     352     353         354         355         356  357  \\\n",
       "0    1  0.0000  0.0252    0.000000  958.494263  958.494263    0   \n",
       "1    1  0.0000  1.8170  221.608261  723.376282  723.376282    1   \n",
       "2    1  0.0000  1.8170  178.695862  694.782715  694.782715    1   \n",
       "3    1  0.0252  1.8170  221.438309  672.774048  672.774048    1   \n",
       "4    1  0.0000  1.8170  235.272354  680.395508  680.395508    1   \n",
       "\n",
       "                              query  \\\n",
       "0                                 1   \n",
       "1  1 выжывший против 100 зомби пабг   \n",
       "2  1 выжывший против 100 зомби пабг   \n",
       "3  1 выжывший против 100 зомби пабг   \n",
       "4  1 выжывший против 100 зомби пабг   \n",
       "\n",
       "                                                 url  \n",
       "0  http://my.mail.ru/mail/kirgizmustafa17/video/_...  \n",
       "1  http://kino.mail.ru/series_803429_vyzhit_posle...  \n",
       "2                    http://ok.ru/video/288772851174  \n",
       "3         http://www.youtube.com/watch?v=Sq4sVR66SpA  \n",
       "4         http://www.youtube.com/watch?v=kGhOOuV6_d4  \n",
       "\n",
       "[5 rows x 360 columns]"
      ]
     },
     "execution_count": 39,
     "metadata": {},
     "output_type": "execute_result"
    }
   ],
   "source": [
    "df_ds.head()"
   ]
  },
  {
   "cell_type": "code",
   "execution_count": 41,
   "metadata": {},
   "outputs": [
    {
     "data": {
      "text/html": [
       "<div>\n",
       "<style scoped>\n",
       "    .dataframe tbody tr th:only-of-type {\n",
       "        vertical-align: middle;\n",
       "    }\n",
       "\n",
       "    .dataframe tbody tr th {\n",
       "        vertical-align: top;\n",
       "    }\n",
       "\n",
       "    .dataframe thead th {\n",
       "        text-align: right;\n",
       "    }\n",
       "</style>\n",
       "<table border=\"1\" class=\"dataframe\">\n",
       "  <thead>\n",
       "    <tr style=\"text-align: right;\">\n",
       "      <th></th>\n",
       "      <th>key</th>\n",
       "      <th>name</th>\n",
       "      <th>description</th>\n",
       "      <th>userNick</th>\n",
       "    </tr>\n",
       "  </thead>\n",
       "  <tbody>\n",
       "    <tr>\n",
       "      <th>0</th>\n",
       "      <td>1tv.ru/doc/pro-voynu/gorod-v-ogne</td>\n",
       "      <td>«Город в огне». Документальный фильм о Сталинг...</td>\n",
       "      <td>Фильм о Сталинградской битве, которая переломи...</td>\n",
       "      <td>NaN</td>\n",
       "    </tr>\n",
       "    <tr>\n",
       "      <th>1</th>\n",
       "      <td>1tv.ru/doc/pro-voynu/parad-1941-goda-na-krasno...</td>\n",
       "      <td>«Парад 1941 года на Красной площади». Документ...</td>\n",
       "      <td>Первое международное признание советского кино...</td>\n",
       "      <td>NaN</td>\n",
       "    </tr>\n",
       "    <tr>\n",
       "      <th>2</th>\n",
       "      <td>1tv.ru/doc/pro-vse-na-svete/tayny-smerti-dokum...</td>\n",
       "      <td>«Тайны смерти». Документальный фильм</td>\n",
       "      <td>Современная наука вслед за религией приходит к...</td>\n",
       "      <td>NaN</td>\n",
       "    </tr>\n",
       "    <tr>\n",
       "      <th>3</th>\n",
       "      <td>1tv.ru/doc/pro-zhizn-zamechatelnyh-lyudey/dmit...</td>\n",
       "      <td>«Дмитрий Харатьян. Я ни в чем не знаю меры». Д...</td>\n",
       "      <td>Дмитрий Харатьян и в 60 умудряется выглядеть н...</td>\n",
       "      <td>NaN</td>\n",
       "    </tr>\n",
       "    <tr>\n",
       "      <th>4</th>\n",
       "      <td>1tv.ru/doc/pro-zhizn-zamechatelnyh-lyudey/elen...</td>\n",
       "      <td>«Елена Проклова. До слез бывает одиноко...». Д...</td>\n",
       "      <td>Это фильм о человеке, которого счастливым сдел...</td>\n",
       "      <td>NaN</td>\n",
       "    </tr>\n",
       "  </tbody>\n",
       "</table>\n",
       "</div>"
      ],
      "text/plain": [
       "                                                 key  \\\n",
       "0                  1tv.ru/doc/pro-voynu/gorod-v-ogne   \n",
       "1  1tv.ru/doc/pro-voynu/parad-1941-goda-na-krasno...   \n",
       "2  1tv.ru/doc/pro-vse-na-svete/tayny-smerti-dokum...   \n",
       "3  1tv.ru/doc/pro-zhizn-zamechatelnyh-lyudey/dmit...   \n",
       "4  1tv.ru/doc/pro-zhizn-zamechatelnyh-lyudey/elen...   \n",
       "\n",
       "                                                name  \\\n",
       "0  «Город в огне». Документальный фильм о Сталинг...   \n",
       "1  «Парад 1941 года на Красной площади». Документ...   \n",
       "2               «Тайны смерти». Документальный фильм   \n",
       "3  «Дмитрий Харатьян. Я ни в чем не знаю меры». Д...   \n",
       "4  «Елена Проклова. До слез бывает одиноко...». Д...   \n",
       "\n",
       "                                         description userNick  \n",
       "0  Фильм о Сталинградской битве, которая переломи...      NaN  \n",
       "1  Первое международное признание советского кино...      NaN  \n",
       "2  Современная наука вслед за религией приходит к...      NaN  \n",
       "3  Дмитрий Харатьян и в 60 умудряется выглядеть н...      NaN  \n",
       "4  Это фильм о человеке, которого счастливым сдел...      NaN  "
      ]
     },
     "execution_count": 41,
     "metadata": {},
     "output_type": "execute_result"
    }
   ],
   "source": [
    "df_fileds.head()"
   ]
  },
  {
   "cell_type": "code",
   "execution_count": 67,
   "metadata": {},
   "outputs": [],
   "source": [
    "df_ds[\"query\"] = df_ds[9]\n",
    "df_ds[\"url\"]   = df_ds[10]\n",
    "\n",
    "df_fileds[\"url\"] = df_fileds[\"key\"]\n",
    "\n",
    "res = df_fileds.merge(df_ds, on=[\"url\"])[[\"url\", \"query\", \"name\", \"description\", \"userNick\", 5]]\n",
    "# res[res[5] == 3]"
   ]
  },
  {
   "cell_type": "code",
   "execution_count": 56,
   "metadata": {},
   "outputs": [
    {
     "data": {
      "text/plain": [
       "0                                        чья фирма хавал\n",
       "1                            заставка тв бинго казахстан\n",
       "2        что где когда зимняя серия игр 2017 игра вторая\n",
       "3        что где когда зимняя серия игр 2017 игра вторая\n",
       "4                  noodlemagazine порно майнкрафт трансы\n",
       "                              ...                       \n",
       "29723                               гей порно с насилием\n",
       "29724                                        гермиона 18\n",
       "29725                               гей порно с насилием\n",
       "29726           видео по демченко при грыже позвоночника\n",
       "29727                                               амик\n",
       "Name: query, Length: 29728, dtype: object"
      ]
     },
     "execution_count": 56,
     "metadata": {},
     "output_type": "execute_result"
    }
   ],
   "source": [
    "res[\"query\"] = [query.split(\"@\")[0] for query in res[\"query\"]]\n",
    "res[\"query\"]"
   ]
  },
  {
   "cell_type": "code",
   "execution_count": 29,
   "metadata": {},
   "outputs": [
    {
     "data": {
      "text/html": [
       "<div>\n",
       "<style scoped>\n",
       "    .dataframe tbody tr th:only-of-type {\n",
       "        vertical-align: middle;\n",
       "    }\n",
       "\n",
       "    .dataframe tbody tr th {\n",
       "        vertical-align: top;\n",
       "    }\n",
       "\n",
       "    .dataframe thead th {\n",
       "        text-align: right;\n",
       "    }\n",
       "</style>\n",
       "<table border=\"1\" class=\"dataframe\">\n",
       "  <thead>\n",
       "    <tr style=\"text-align: right;\">\n",
       "      <th></th>\n",
       "      <th>a</th>\n",
       "      <th>b</th>\n",
       "      <th>c</th>\n",
       "    </tr>\n",
       "  </thead>\n",
       "  <tbody>\n",
       "    <tr>\n",
       "      <th>0</th>\n",
       "      <td>foo</td>\n",
       "      <td>1</td>\n",
       "      <td>3</td>\n",
       "    </tr>\n",
       "  </tbody>\n",
       "</table>\n",
       "</div>"
      ],
      "text/plain": [
       "     a  b  c\n",
       "0  foo  1  3"
      ]
     },
     "execution_count": 29,
     "metadata": {},
     "output_type": "execute_result"
    }
   ],
   "source": [
    "df1 = pd.DataFrame({'a': ['foo', 'bar'], 'b': [1, 2]})\n",
    "df2 = pd.DataFrame({'a': ['foo', 'baz'], 'c': [3, 4]})\n",
    "df1.merge(df2, how='inner', on='a')"
   ]
  },
  {
   "cell_type": "code",
   "execution_count": 48,
   "metadata": {},
   "outputs": [
    {
     "data": {
      "text/plain": [
       "(1926167, 1926167)"
      ]
     },
     "execution_count": 48,
     "metadata": {},
     "output_type": "execute_result"
    }
   ],
   "source": [
    "len(df_fileds.key), len(set(df_fileds.key))"
   ]
  },
  {
   "cell_type": "code",
   "execution_count": 59,
   "metadata": {},
   "outputs": [
    {
     "name": "stdout",
     "output_type": "stream",
     "text": [
      "../../datasets/2023_12_datasets/vk_catalog_markers.20231205.dset.train.tsv.gz\n",
      "../../datasets/2023_12_datasets/vk_markers.20231205.dset.train.tsv.gz\n",
      "../../datasets/2023_12_datasets/vk_ab_iphone_markers.20231205.dset.train.tsv.gz\n",
      "../../datasets/2023_12_datasets/vk_rich_serps_markers.20231101-20231105.mail.20231205.dset.train.tsv.gz\n",
      "../../datasets/2023_12_datasets/old_sq_markers.20231205.dset.train.tsv.gz\n",
      "../../datasets/2023_12_datasets/youtube_markers.20231205.dset.train.tsv.gz\n"
     ]
    }
   ],
   "source": [
    "\n",
    "datasets_path = \"../../datasets/2023_12_datasets/\"\n",
    "datasets_suffix = \"dset.train.tsv.gz\"\n",
    "dir = os.path.join(datasets_path, \"*\" + datasets_suffix)\n",
    "for file in glob.glob(dir):\n",
    "    print(file)"
   ]
  },
  {
   "cell_type": "code",
   "execution_count": 62,
   "metadata": {},
   "outputs": [
    {
     "ename": "FileNotFoundError",
     "evalue": "[Errno 2] No such file or directory: '/mnt/DATA/armen.kocharyan/datasets/notebooks/*'",
     "output_type": "error",
     "traceback": [
      "\u001b[0;31m---------------------------------------------------------------------------\u001b[0m",
      "\u001b[0;31mFileNotFoundError\u001b[0m                         Traceback (most recent call last)",
      "Cell \u001b[0;32mIn[62], line 1\u001b[0m\n\u001b[0;32m----> 1\u001b[0m \u001b[43mos\u001b[49m\u001b[38;5;241;43m.\u001b[39;49m\u001b[43mlistdir\u001b[49m\u001b[43m(\u001b[49m\u001b[38;5;124;43m\"\u001b[39;49m\u001b[38;5;124;43m/mnt/DATA/armen.kocharyan/datasets/notebooks/*\u001b[39;49m\u001b[38;5;124;43m\"\u001b[39;49m\u001b[43m)\u001b[49m\n",
      "\u001b[0;31mFileNotFoundError\u001b[0m: [Errno 2] No such file or directory: '/mnt/DATA/armen.kocharyan/datasets/notebooks/*'"
     ]
    }
   ],
   "source": [
    "os.listdir(\"/mnt/DATA/armen.kocharyan/datasets/notebooks/*\")"
   ]
  },
  {
   "cell_type": "code",
   "execution_count": 69,
   "metadata": {},
   "outputs": [],
   "source": [
    "df_ = pd.read_csv('/mnt/DATA/armen.kocharyan/datasets/2023_12_datasets/vk_markers.20231205.dset.train.tsv.gz', header=None, sep='\\t')"
   ]
  },
  {
   "cell_type": "code",
   "execution_count": 81,
   "metadata": {},
   "outputs": [
    {
     "data": {
      "text/html": [
       "<div>\n",
       "<style scoped>\n",
       "    .dataframe tbody tr th:only-of-type {\n",
       "        vertical-align: middle;\n",
       "    }\n",
       "\n",
       "    .dataframe tbody tr th {\n",
       "        vertical-align: top;\n",
       "    }\n",
       "\n",
       "    .dataframe thead th {\n",
       "        text-align: right;\n",
       "    }\n",
       "</style>\n",
       "<table border=\"1\" class=\"dataframe\">\n",
       "  <thead>\n",
       "    <tr style=\"text-align: right;\">\n",
       "      <th></th>\n",
       "      <th>0</th>\n",
       "      <th>1</th>\n",
       "      <th>2</th>\n",
       "      <th>3</th>\n",
       "      <th>4</th>\n",
       "      <th>5</th>\n",
       "      <th>6</th>\n",
       "      <th>7</th>\n",
       "      <th>8</th>\n",
       "      <th>9</th>\n",
       "      <th>...</th>\n",
       "      <th>348</th>\n",
       "      <th>349</th>\n",
       "      <th>350</th>\n",
       "      <th>351</th>\n",
       "      <th>352</th>\n",
       "      <th>353</th>\n",
       "      <th>354</th>\n",
       "      <th>355</th>\n",
       "      <th>356</th>\n",
       "      <th>357</th>\n",
       "    </tr>\n",
       "  </thead>\n",
       "  <tbody>\n",
       "    <tr>\n",
       "      <th>0</th>\n",
       "      <td>12</td>\n",
       "      <td>1</td>\n",
       "      <td>-</td>\n",
       "      <td>-</td>\n",
       "      <td>1</td>\n",
       "      <td>3</td>\n",
       "      <td>1</td>\n",
       "      <td>408</td>\n",
       "      <td>-</td>\n",
       "      <td>#SAINTCYPHER / ВЕТЛ УДАЛЫХ</td>\n",
       "      <td>...</td>\n",
       "      <td>-1.000000</td>\n",
       "      <td>0</td>\n",
       "      <td>0</td>\n",
       "      <td>1</td>\n",
       "      <td>0.5234</td>\n",
       "      <td>1.5232</td>\n",
       "      <td>319.667786</td>\n",
       "      <td>984.555664</td>\n",
       "      <td>984.555664</td>\n",
       "      <td>1</td>\n",
       "    </tr>\n",
       "    <tr>\n",
       "      <th>1</th>\n",
       "      <td>18</td>\n",
       "      <td>1</td>\n",
       "      <td>-</td>\n",
       "      <td>-</td>\n",
       "      <td>1</td>\n",
       "      <td>2</td>\n",
       "      <td>1</td>\n",
       "      <td>410</td>\n",
       "      <td>-</td>\n",
       "      <td>#SAINTCYPHER / ВЕТЛ УДАЛЫХ</td>\n",
       "      <td>...</td>\n",
       "      <td>0.175000</td>\n",
       "      <td>0</td>\n",
       "      <td>0</td>\n",
       "      <td>1</td>\n",
       "      <td>0.5234</td>\n",
       "      <td>1.5232</td>\n",
       "      <td>319.667786</td>\n",
       "      <td>976.653809</td>\n",
       "      <td>976.653809</td>\n",
       "      <td>1</td>\n",
       "    </tr>\n",
       "    <tr>\n",
       "      <th>2</th>\n",
       "      <td>31</td>\n",
       "      <td>1</td>\n",
       "      <td>-</td>\n",
       "      <td>-</td>\n",
       "      <td>1</td>\n",
       "      <td>2</td>\n",
       "      <td>1</td>\n",
       "      <td>412</td>\n",
       "      <td>-</td>\n",
       "      <td>#SAINTCYPHER / ВЕТЛ УДАЛЫХ</td>\n",
       "      <td>...</td>\n",
       "      <td>-1.000000</td>\n",
       "      <td>0</td>\n",
       "      <td>0</td>\n",
       "      <td>1</td>\n",
       "      <td>0.5234</td>\n",
       "      <td>1.5232</td>\n",
       "      <td>319.667786</td>\n",
       "      <td>981.753784</td>\n",
       "      <td>981.753784</td>\n",
       "      <td>1</td>\n",
       "    </tr>\n",
       "    <tr>\n",
       "      <th>3</th>\n",
       "      <td>5</td>\n",
       "      <td>1</td>\n",
       "      <td>-</td>\n",
       "      <td>-</td>\n",
       "      <td>1</td>\n",
       "      <td>3</td>\n",
       "      <td>1</td>\n",
       "      <td>413</td>\n",
       "      <td>-</td>\n",
       "      <td>#SAINTCYPHER / ВЕТЛ УДАЛЫХ</td>\n",
       "      <td>...</td>\n",
       "      <td>-1.000000</td>\n",
       "      <td>0</td>\n",
       "      <td>0</td>\n",
       "      <td>1</td>\n",
       "      <td>0.5234</td>\n",
       "      <td>1.5232</td>\n",
       "      <td>319.667786</td>\n",
       "      <td>970.617310</td>\n",
       "      <td>970.617310</td>\n",
       "      <td>1</td>\n",
       "    </tr>\n",
       "    <tr>\n",
       "      <th>4</th>\n",
       "      <td>39</td>\n",
       "      <td>1</td>\n",
       "      <td>-</td>\n",
       "      <td>-</td>\n",
       "      <td>1</td>\n",
       "      <td>2</td>\n",
       "      <td>1</td>\n",
       "      <td>407</td>\n",
       "      <td>-</td>\n",
       "      <td>#SAINTCYPHER / ВЕТЛ УДАЛЫХ</td>\n",
       "      <td>...</td>\n",
       "      <td>0.416667</td>\n",
       "      <td>0</td>\n",
       "      <td>0</td>\n",
       "      <td>1</td>\n",
       "      <td>0.5234</td>\n",
       "      <td>1.5232</td>\n",
       "      <td>319.729309</td>\n",
       "      <td>1071.352539</td>\n",
       "      <td>1071.352539</td>\n",
       "      <td>1</td>\n",
       "    </tr>\n",
       "  </tbody>\n",
       "</table>\n",
       "<p>5 rows × 358 columns</p>\n",
       "</div>"
      ],
      "text/plain": [
       "   0    1   2   3    4    5    6    7   8                           9    ...  \\\n",
       "0   12    1   -   -    1    3    1  408   -  #SAINTCYPHER / ВЕТЛ УДАЛЫХ  ...   \n",
       "1   18    1   -   -    1    2    1  410   -  #SAINTCYPHER / ВЕТЛ УДАЛЫХ  ...   \n",
       "2   31    1   -   -    1    2    1  412   -  #SAINTCYPHER / ВЕТЛ УДАЛЫХ  ...   \n",
       "3    5    1   -   -    1    3    1  413   -  #SAINTCYPHER / ВЕТЛ УДАЛЫХ  ...   \n",
       "4   39    1   -   -    1    2    1  407   -  #SAINTCYPHER / ВЕТЛ УДАЛЫХ  ...   \n",
       "\n",
       "        348  349  350  351     352     353         354          355  \\\n",
       "0 -1.000000    0    0    1  0.5234  1.5232  319.667786   984.555664   \n",
       "1  0.175000    0    0    1  0.5234  1.5232  319.667786   976.653809   \n",
       "2 -1.000000    0    0    1  0.5234  1.5232  319.667786   981.753784   \n",
       "3 -1.000000    0    0    1  0.5234  1.5232  319.667786   970.617310   \n",
       "4  0.416667    0    0    1  0.5234  1.5232  319.729309  1071.352539   \n",
       "\n",
       "           356  357  \n",
       "0   984.555664    1  \n",
       "1   976.653809    1  \n",
       "2   981.753784    1  \n",
       "3   970.617310    1  \n",
       "4  1071.352539    1  \n",
       "\n",
       "[5 rows x 358 columns]"
      ]
     },
     "execution_count": 81,
     "metadata": {},
     "output_type": "execute_result"
    }
   ],
   "source": [
    "df_.head()"
   ]
  },
  {
   "cell_type": "code",
   "execution_count": 92,
   "metadata": {},
   "outputs": [
    {
     "data": {
      "text/plain": [
       "(        0      1   2   3    4    5    6       7   8    \\\n",
       " 0        12      1   -   -    1    3    1     408   -   \n",
       " 1        18      1   -   -    1    2    1     410   -   \n",
       " 2        31      1   -   -    1    2    1     412   -   \n",
       " 3         5      1   -   -    1    3    1     413   -   \n",
       " 4        39      1   -   -    1    2    1     407   -   \n",
       " ...     ...    ...  ..  ..  ...  ...  ...     ...  ..   \n",
       " 324324   34  78288   -   -    1    2    1  486482   -   \n",
       " 324325    0  78288   -   -    1    2    1  486485   -   \n",
       " 324326   14  78288   -   -    1    2    1  486484   -   \n",
       " 324327   10  78288   -   -    1    2    1  486481   -   \n",
       " 324328   11  78288   -   -    1    2    1  486477   -   \n",
       " \n",
       "                                9    ...       348  349  350  351     352  \\\n",
       " 0       #SAINTCYPHER / ВЕТЛ УДАЛЫХ  ... -1.000000    0    0    1  0.5234   \n",
       " 1       #SAINTCYPHER / ВЕТЛ УДАЛЫХ  ...  0.175000    0    0    1  0.5234   \n",
       " 2       #SAINTCYPHER / ВЕТЛ УДАЛЫХ  ... -1.000000    0    0    1  0.5234   \n",
       " 3       #SAINTCYPHER / ВЕТЛ УДАЛЫХ  ... -1.000000    0    0    1  0.5234   \n",
       " 4       #SAINTCYPHER / ВЕТЛ УДАЛЫХ  ...  0.416667    0    0    1  0.5234   \n",
       " ...                            ...  ...       ...  ...  ...  ...     ...   \n",
       " 324324    방탄소년단 кириллизация песен  ... -1.000000    0    0    1  0.0000   \n",
       " 324325    방탄소년단 кириллизация песен  ... -1.000000    0    0    0  0.0000   \n",
       " 324326    방탄소년단 кириллизация песен  ... -1.000000    0    0    1  0.0000   \n",
       " 324327    방탄소년단 кириллизация песен  ... -1.000000    0    0    1  0.0000   \n",
       " 324328    방탄소년단 кириллизация песен  ... -1.000000    0    0    1  0.4067   \n",
       " \n",
       "            353         354          355          356  357  \n",
       " 0       1.5232  319.667786   984.555664   984.555664    1  \n",
       " 1       1.5232  319.667786   976.653809   976.653809    1  \n",
       " 2       1.5232  319.667786   981.753784   981.753784    1  \n",
       " 3       1.5232  319.667786   970.617310   970.617310    1  \n",
       " 4       1.5232  319.729309  1071.352539  1071.352539    1  \n",
       " ...        ...         ...          ...          ...  ...  \n",
       " 324324  1.0989  257.337097   808.891907   808.891907    1  \n",
       " 324325  1.0989  257.380005   847.805908   847.805908    1  \n",
       " 324326  1.0989  319.667816   871.459717   871.459717    1  \n",
       " 324327  1.0989  257.337097   804.660278   804.660278    1  \n",
       " 324328  1.0989  257.347809   854.328247   854.328247    1  \n",
       " \n",
       " [324326 rows x 358 columns],\n",
       " 324329)"
      ]
     },
     "execution_count": 92,
     "metadata": {},
     "output_type": "execute_result"
    }
   ],
   "source": [
    "DCOLS = [5, 9, 10]\n",
    "df_.iloc[df_[DCOLS].dropna().index, :], len(df_)"
   ]
  },
  {
   "cell_type": "code",
   "execution_count": 3,
   "metadata": {},
   "outputs": [
    {
     "data": {
      "text/plain": [
       "(False, False)"
      ]
     },
     "execution_count": 3,
     "metadata": {},
     "output_type": "execute_result"
    }
   ],
   "source": [
    "x = [\"1\", \"2\", \"3\", \"44\", \"r\"]\n",
    "all([col.isdigit() for col in x]), \",\".join(x[:-1]).isdigit()"
   ]
  },
  {
   "cell_type": "code",
   "execution_count": 104,
   "metadata": {},
   "outputs": [
    {
     "data": {
      "text/html": [
       "<div>\n",
       "<style scoped>\n",
       "    .dataframe tbody tr th:only-of-type {\n",
       "        vertical-align: middle;\n",
       "    }\n",
       "\n",
       "    .dataframe tbody tr th {\n",
       "        vertical-align: top;\n",
       "    }\n",
       "\n",
       "    .dataframe thead th {\n",
       "        text-align: right;\n",
       "    }\n",
       "</style>\n",
       "<table border=\"1\" class=\"dataframe\">\n",
       "  <thead>\n",
       "    <tr style=\"text-align: right;\">\n",
       "      <th></th>\n",
       "      <th>0</th>\n",
       "      <th>1</th>\n",
       "      <th>2</th>\n",
       "      <th>3</th>\n",
       "    </tr>\n",
       "  </thead>\n",
       "  <tbody>\n",
       "    <tr>\n",
       "      <th>0</th>\n",
       "      <td>key</td>\n",
       "      <td>name</td>\n",
       "      <td>description</td>\n",
       "      <td>userNick</td>\n",
       "    </tr>\n",
       "    <tr>\n",
       "      <th>1</th>\n",
       "      <td>1tv.ru/doc/pro-voynu/gorod-v-ogne</td>\n",
       "      <td>«Город в огне». Документальный фильм о Сталинг...</td>\n",
       "      <td>Фильм о Сталинградской битве, которая переломи...</td>\n",
       "      <td>NaN</td>\n",
       "    </tr>\n",
       "    <tr>\n",
       "      <th>2</th>\n",
       "      <td>1tv.ru/doc/pro-voynu/parad-1941-goda-na-krasno...</td>\n",
       "      <td>«Парад 1941 года на Красной площади». Документ...</td>\n",
       "      <td>Первое международное признание советского кино...</td>\n",
       "      <td>NaN</td>\n",
       "    </tr>\n",
       "    <tr>\n",
       "      <th>3</th>\n",
       "      <td>1tv.ru/doc/pro-vse-na-svete/tayny-smerti-dokum...</td>\n",
       "      <td>«Тайны смерти». Документальный фильм</td>\n",
       "      <td>Современная наука вслед за религией приходит к...</td>\n",
       "      <td>NaN</td>\n",
       "    </tr>\n",
       "    <tr>\n",
       "      <th>4</th>\n",
       "      <td>1tv.ru/doc/pro-zhizn-zamechatelnyh-lyudey/dmit...</td>\n",
       "      <td>«Дмитрий Харатьян. Я ни в чем не знаю меры». Д...</td>\n",
       "      <td>Дмитрий Харатьян и в 60 умудряется выглядеть н...</td>\n",
       "      <td>NaN</td>\n",
       "    </tr>\n",
       "    <tr>\n",
       "      <th>5</th>\n",
       "      <td>1tv.ru/doc/pro-zhizn-zamechatelnyh-lyudey/elen...</td>\n",
       "      <td>«Елена Проклова. До слез бывает одиноко...». Д...</td>\n",
       "      <td>Это фильм о человеке, которого счастливым сдел...</td>\n",
       "      <td>NaN</td>\n",
       "    </tr>\n",
       "    <tr>\n",
       "      <th>6</th>\n",
       "      <td>1tv.ru/doc/pro-zhizn-zamechatelnyh-lyudey/miry...</td>\n",
       "      <td>«Миры и войны Сергея Бондарчука». Документальн...</td>\n",
       "      <td>Его кинополотна знает весь мир, он был на войн...</td>\n",
       "      <td>NaN</td>\n",
       "    </tr>\n",
       "    <tr>\n",
       "      <th>7</th>\n",
       "      <td>1tv.ru/doc/pro-zhizn-zamechatelnyh-lyudey/nata...</td>\n",
       "      <td>«Наталья Гундарева. О том, что не сбылось». До...</td>\n",
       "      <td>Наталью Гундареву не просто любили — обожали. ...</td>\n",
       "      <td>NaN</td>\n",
       "    </tr>\n",
       "    <tr>\n",
       "      <th>8</th>\n",
       "      <td>1tv.ru/movies/operaciya-satana/operaciya-satan...</td>\n",
       "      <td>Операция «Сатана». 1 серия</td>\n",
       "      <td>После громкого скандала Черкасов работает рядо...</td>\n",
       "      <td>NaN</td>\n",
       "    </tr>\n",
       "    <tr>\n",
       "      <th>9</th>\n",
       "      <td>1tv.ru/news/2001/02/24/283024-v_rossii_segodny...</td>\n",
       "      <td>В России сегодня последний день Масленицы. Дре...</td>\n",
       "      <td>Гимны весне звучат сегодня отовсюду. Завтра с ...</td>\n",
       "      <td>NaN</td>\n",
       "    </tr>\n",
       "  </tbody>\n",
       "</table>\n",
       "</div>"
      ],
      "text/plain": [
       "                                                   0  \\\n",
       "0                                                key   \n",
       "1                  1tv.ru/doc/pro-voynu/gorod-v-ogne   \n",
       "2  1tv.ru/doc/pro-voynu/parad-1941-goda-na-krasno...   \n",
       "3  1tv.ru/doc/pro-vse-na-svete/tayny-smerti-dokum...   \n",
       "4  1tv.ru/doc/pro-zhizn-zamechatelnyh-lyudey/dmit...   \n",
       "5  1tv.ru/doc/pro-zhizn-zamechatelnyh-lyudey/elen...   \n",
       "6  1tv.ru/doc/pro-zhizn-zamechatelnyh-lyudey/miry...   \n",
       "7  1tv.ru/doc/pro-zhizn-zamechatelnyh-lyudey/nata...   \n",
       "8  1tv.ru/movies/operaciya-satana/operaciya-satan...   \n",
       "9  1tv.ru/news/2001/02/24/283024-v_rossii_segodny...   \n",
       "\n",
       "                                                   1  \\\n",
       "0                                               name   \n",
       "1  «Город в огне». Документальный фильм о Сталинг...   \n",
       "2  «Парад 1941 года на Красной площади». Документ...   \n",
       "3               «Тайны смерти». Документальный фильм   \n",
       "4  «Дмитрий Харатьян. Я ни в чем не знаю меры». Д...   \n",
       "5  «Елена Проклова. До слез бывает одиноко...». Д...   \n",
       "6  «Миры и войны Сергея Бондарчука». Документальн...   \n",
       "7  «Наталья Гундарева. О том, что не сбылось». До...   \n",
       "8                         Операция «Сатана». 1 серия   \n",
       "9  В России сегодня последний день Масленицы. Дре...   \n",
       "\n",
       "                                                   2         3  \n",
       "0                                        description  userNick  \n",
       "1  Фильм о Сталинградской битве, которая переломи...       NaN  \n",
       "2  Первое международное признание советского кино...       NaN  \n",
       "3  Современная наука вслед за религией приходит к...       NaN  \n",
       "4  Дмитрий Харатьян и в 60 умудряется выглядеть н...       NaN  \n",
       "5  Это фильм о человеке, которого счастливым сдел...       NaN  \n",
       "6  Его кинополотна знает весь мир, он был на войн...       NaN  \n",
       "7  Наталью Гундареву не просто любили — обожали. ...       NaN  \n",
       "8  После громкого скандала Черкасов работает рядо...       NaN  \n",
       "9  Гимны весне звучат сегодня отовсюду. Завтра с ...       NaN  "
      ]
     },
     "execution_count": 104,
     "metadata": {},
     "output_type": "execute_result"
    }
   ],
   "source": [
    "pd.read_csv(ds_path, sep='\\t', compression='gzip', low_memory=False, nrows=10, header=None)"
   ]
  },
  {
   "cell_type": "code",
   "execution_count": null,
   "metadata": {},
   "outputs": [],
   "source": []
  },
  {
   "cell_type": "markdown",
   "metadata": {},
   "source": [
    "## Check data"
   ]
  },
  {
   "cell_type": "code",
   "execution_count": 16,
   "metadata": {},
   "outputs": [],
   "source": [
    "import os, glob\n",
    "import pandas as pd"
   ]
  },
  {
   "cell_type": "code",
   "execution_count": 85,
   "metadata": {},
   "outputs": [
    {
     "data": {
      "text/plain": [
       "['../test_video/vk_catalog_markers/data_train.tsv',\n",
       " '../test_video/vk_rich_serps_markers/data_train.tsv',\n",
       " '../test_video/vk_markers/data_train.tsv',\n",
       " '../test_video/vk_ab_iphone_markers/data_train.tsv',\n",
       " '../test_video/youtube_markers/data_train.tsv',\n",
       " '../test_video/old_sq_markers/data_train.tsv']"
      ]
     },
     "execution_count": 85,
     "metadata": {},
     "output_type": "execute_result"
    }
   ],
   "source": [
    "def main(subset):\n",
    "    datasets = []\n",
    "    basedir = \"../test_video/\"\n",
    "    for dir in os.listdir(basedir):\n",
    "        dir = os.path.join(basedir, dir, subset)\n",
    "        for file in glob.glob(dir):\n",
    "            datasets.append(file)\n",
    "    return datasets\n",
    "\n",
    "res = main(\"data_train*\")\n",
    "res"
   ]
  },
  {
   "cell_type": "code",
   "execution_count": 86,
   "metadata": {},
   "outputs": [],
   "source": [
    "df = pd.read_csv(res[4], sep='\\t', header=None)"
   ]
  },
  {
   "cell_type": "code",
   "execution_count": 92,
   "metadata": {},
   "outputs": [
    {
     "data": {
      "text/html": [
       "<div>\n",
       "<style scoped>\n",
       "    .dataframe tbody tr th:only-of-type {\n",
       "        vertical-align: middle;\n",
       "    }\n",
       "\n",
       "    .dataframe tbody tr th {\n",
       "        vertical-align: top;\n",
       "    }\n",
       "\n",
       "    .dataframe thead th {\n",
       "        text-align: right;\n",
       "    }\n",
       "</style>\n",
       "<table border=\"1\" class=\"dataframe\">\n",
       "  <thead>\n",
       "    <tr style=\"text-align: right;\">\n",
       "      <th></th>\n",
       "      <th>0</th>\n",
       "      <th>1</th>\n",
       "      <th>2</th>\n",
       "      <th>3</th>\n",
       "      <th>4</th>\n",
       "    </tr>\n",
       "  </thead>\n",
       "  <tbody>\n",
       "    <tr>\n",
       "      <th>37</th>\n",
       "      <td>little mix i love you</td>\n",
       "      <td>Little Mix - Love Me Like You</td>\n",
       "      <td>Шоу Бизнес - новости, музыка, кино, звезды! ht...</td>\n",
       "      <td>Шоу Бизнес - новости, музыка, кино, звезды</td>\n",
       "      <td>3</td>\n",
       "    </tr>\n",
       "    <tr>\n",
       "      <th>55</th>\n",
       "      <td>Властелин колец</td>\n",
       "      <td>Властелин колец (1978) 1080p</td>\n",
       "      <td>Сказания Средиземья - это хроника Великой войн...</td>\n",
       "      <td>Лучшие Мультсериалы и Мультфильмы</td>\n",
       "      <td>3</td>\n",
       "    </tr>\n",
       "    <tr>\n",
       "      <th>59</th>\n",
       "      <td>abba gimme gimme gimme</td>\n",
       "      <td>Abba - Gimme! Gimme! Gimme!</td>\n",
       "      <td>NaN</td>\n",
       "      <td>Легендарные Хиты 70-80-90-х</td>\n",
       "      <td>3</td>\n",
       "    </tr>\n",
       "    <tr>\n",
       "      <th>60</th>\n",
       "      <td>sabrina boys</td>\n",
       "      <td>Sabrina - Boys</td>\n",
       "      <td>NaN</td>\n",
       "      <td>Легендарные Хиты 70-80-90-х</td>\n",
       "      <td>3</td>\n",
       "    </tr>\n",
       "    <tr>\n",
       "      <th>65</th>\n",
       "      <td>пора домой сектор газа</td>\n",
       "      <td>Сектор Газа - Пора домой</td>\n",
       "      <td>NaN</td>\n",
       "      <td>Легендарные Хиты 70-80-90-х</td>\n",
       "      <td>3</td>\n",
       "    </tr>\n",
       "    <tr>\n",
       "      <th>...</th>\n",
       "      <td>...</td>\n",
       "      <td>...</td>\n",
       "      <td>...</td>\n",
       "      <td>...</td>\n",
       "      <td>...</td>\n",
       "    </tr>\n",
       "    <tr>\n",
       "      <th>385068</th>\n",
       "      <td>Гарри Повар и Тайная комната</td>\n",
       "      <td>Гарри Повар и Тайная комната | RYTP</td>\n",
       "      <td>NaN</td>\n",
       "      <td>NaN</td>\n",
       "      <td>3</td>\n",
       "    </tr>\n",
       "    <tr>\n",
       "      <th>385078</th>\n",
       "      <td>оппенгеймер трейлер</td>\n",
       "      <td>«Оппенгеймер» | Трейлер</td>\n",
       "      <td>vk.com/kinokritika_pro</td>\n",
       "      <td>NaN</td>\n",
       "      <td>3</td>\n",
       "    </tr>\n",
       "    <tr>\n",
       "      <th>385094</th>\n",
       "      <td>круг михаил пощенячи по волчьим</td>\n",
       "      <td>Михаил Круг - По щенячьи, по волчьи</td>\n",
       "      <td>NaN</td>\n",
       "      <td>NaN</td>\n",
       "      <td>3</td>\n",
       "    </tr>\n",
       "    <tr>\n",
       "      <th>385115</th>\n",
       "      <td>до утра дан балан</td>\n",
       "      <td>Дан Балан - до утра</td>\n",
       "      <td>NaN</td>\n",
       "      <td>NaN</td>\n",
       "      <td>3</td>\n",
       "    </tr>\n",
       "    <tr>\n",
       "      <th>385116</th>\n",
       "      <td>de-grees - circle in the sand</td>\n",
       "      <td>De-Grees — Circle In The Sand (Ti-Mo Edit)</td>\n",
       "      <td>NaN</td>\n",
       "      <td>NaN</td>\n",
       "      <td>3</td>\n",
       "    </tr>\n",
       "  </tbody>\n",
       "</table>\n",
       "<p>22048 rows × 5 columns</p>\n",
       "</div>"
      ],
      "text/plain": [
       "                                      0  ...  4\n",
       "37                little mix i love you  ...  3\n",
       "55                      Властелин колец  ...  3\n",
       "59               abba gimme gimme gimme  ...  3\n",
       "60                         sabrina boys  ...  3\n",
       "65               пора домой сектор газа  ...  3\n",
       "...                                 ...  ... ..\n",
       "385068     Гарри Повар и Тайная комната  ...  3\n",
       "385078              оппенгеймер трейлер  ...  3\n",
       "385094  круг михаил пощенячи по волчьим  ...  3\n",
       "385115                до утра дан балан  ...  3\n",
       "385116    de-grees - circle in the sand  ...  3\n",
       "\n",
       "[22048 rows x 5 columns]"
      ]
     },
     "execution_count": 92,
     "metadata": {},
     "output_type": "execute_result"
    }
   ],
   "source": [
    "df[df[4] == 3]"
   ]
  },
  {
   "cell_type": "code",
   "execution_count": 98,
   "metadata": {},
   "outputs": [
    {
     "data": {
      "text/plain": [
       "(385134, 270563)"
      ]
     },
     "execution_count": 98,
     "metadata": {},
     "output_type": "execute_result"
    }
   ],
   "source": [
    "len(df), len(df[~df[2].isna()])"
   ]
  },
  {
   "cell_type": "code",
   "execution_count": 140,
   "metadata": {},
   "outputs": [
    {
     "data": {
      "text/html": [
       "<div>\n",
       "<style scoped>\n",
       "    .dataframe tbody tr th:only-of-type {\n",
       "        vertical-align: middle;\n",
       "    }\n",
       "\n",
       "    .dataframe tbody tr th {\n",
       "        vertical-align: top;\n",
       "    }\n",
       "\n",
       "    .dataframe thead th {\n",
       "        text-align: right;\n",
       "    }\n",
       "</style>\n",
       "<table border=\"1\" class=\"dataframe\">\n",
       "  <thead>\n",
       "    <tr style=\"text-align: right;\">\n",
       "      <th></th>\n",
       "      <th>key</th>\n",
       "      <th>name</th>\n",
       "      <th>description</th>\n",
       "      <th>userNick</th>\n",
       "    </tr>\n",
       "  </thead>\n",
       "  <tbody>\n",
       "    <tr>\n",
       "      <th>1885244</th>\n",
       "      <td>vk.com/video99711455_456244190</td>\n",
       "      <td>«Оппенгеймер» | Трейлер</td>\n",
       "      <td>vk.com/kinokritika_pro</td>\n",
       "      <td>NaN</td>\n",
       "    </tr>\n",
       "  </tbody>\n",
       "</table>\n",
       "</div>"
      ],
      "text/plain": [
       "                                    key  ... userNick\n",
       "1885244  vk.com/video99711455_456244190  ...      NaN\n",
       "\n",
       "[1 rows x 4 columns]"
      ]
     },
     "execution_count": 140,
     "metadata": {},
     "output_type": "execute_result"
    }
   ],
   "source": [
    "_ = df_fileds[df_fileds[\"description\"].isin([\"vk.com/kinokritika_pro\"])] #[\"key\"] #== \"vk.com/video99711455_456244190\"\n",
    "_[_[\"key\"] == \"vk.com/video99711455_456244190\"]"
   ]
  },
  {
   "cell_type": "code",
   "execution_count": 142,
   "metadata": {},
   "outputs": [
    {
     "data": {
      "text/html": [
       "<div>\n",
       "<style scoped>\n",
       "    .dataframe tbody tr th:only-of-type {\n",
       "        vertical-align: middle;\n",
       "    }\n",
       "\n",
       "    .dataframe tbody tr th {\n",
       "        vertical-align: top;\n",
       "    }\n",
       "\n",
       "    .dataframe thead th {\n",
       "        text-align: right;\n",
       "    }\n",
       "</style>\n",
       "<table border=\"1\" class=\"dataframe\">\n",
       "  <thead>\n",
       "    <tr style=\"text-align: right;\">\n",
       "      <th></th>\n",
       "      <th>5</th>\n",
       "      <th>9</th>\n",
       "      <th>10</th>\n",
       "    </tr>\n",
       "  </thead>\n",
       "  <tbody>\n",
       "    <tr>\n",
       "      <th>371836</th>\n",
       "      <td>3</td>\n",
       "      <td>оппенгеймер трейлер</td>\n",
       "      <td>vk.com/video99711455_456244190</td>\n",
       "    </tr>\n",
       "  </tbody>\n",
       "</table>\n",
       "</div>"
      ],
      "text/plain": [
       "        5                    9                               10\n",
       "371836   3  оппенгеймер трейлер  vk.com/video99711455_456244190"
      ]
     },
     "execution_count": 142,
     "metadata": {},
     "output_type": "execute_result"
    }
   ],
   "source": [
    "_ = df_ds[df_ds[9].isin([\"оппенгеймер трейлер\"])][[5, 9, 10]]\n",
    "_[_[10] == \"vk.com/video99711455_456244190\"]"
   ]
  },
  {
   "cell_type": "code",
   "execution_count": 137,
   "metadata": {},
   "outputs": [
    {
     "data": {
      "text/html": [
       "<div>\n",
       "<style scoped>\n",
       "    .dataframe tbody tr th:only-of-type {\n",
       "        vertical-align: middle;\n",
       "    }\n",
       "\n",
       "    .dataframe tbody tr th {\n",
       "        vertical-align: top;\n",
       "    }\n",
       "\n",
       "    .dataframe thead th {\n",
       "        text-align: right;\n",
       "    }\n",
       "</style>\n",
       "<table border=\"1\" class=\"dataframe\">\n",
       "  <thead>\n",
       "    <tr style=\"text-align: right;\">\n",
       "      <th></th>\n",
       "      <th>0</th>\n",
       "      <th>1</th>\n",
       "      <th>2</th>\n",
       "      <th>3</th>\n",
       "      <th>4</th>\n",
       "    </tr>\n",
       "  </thead>\n",
       "  <tbody>\n",
       "    <tr>\n",
       "      <th>385078</th>\n",
       "      <td>оппенгеймер трейлер</td>\n",
       "      <td>«Оппенгеймер» | Трейлер</td>\n",
       "      <td>vk.com/kinokritika_pro</td>\n",
       "      <td>NaN</td>\n",
       "      <td>3</td>\n",
       "    </tr>\n",
       "  </tbody>\n",
       "</table>\n",
       "</div>"
      ],
      "text/plain": [
       "                          0                        1  ...    3  4\n",
       "385078  оппенгеймер трейлер  «Оппенгеймер» | Трейлер  ...  NaN  3\n",
       "\n",
       "[1 rows x 5 columns]"
      ]
     },
     "execution_count": 137,
     "metadata": {},
     "output_type": "execute_result"
    }
   ],
   "source": [
    "_  = df[df[4] == 3]\n",
    "_[_[2] == \"vk.com/kinokritika_pro\"]"
   ]
  },
  {
   "cell_type": "code",
   "execution_count": null,
   "metadata": {},
   "outputs": [],
   "source": []
  },
  {
   "cell_type": "code",
   "execution_count": 44,
   "metadata": {},
   "outputs": [],
   "source": [
    "d = pd.DataFrame({\"f\": [\"1\", \"2\", None]})"
   ]
  },
  {
   "cell_type": "code",
   "execution_count": 77,
   "metadata": {},
   "outputs": [
    {
     "data": {
      "text/plain": [
       "True"
      ]
     },
     "execution_count": 77,
     "metadata": {},
     "output_type": "execute_result"
    }
   ],
   "source": [
    "len(df_fileds) == len(df_fileds['key'].dropna()) == len(df_fileds[~df_fileds['key'].isna()])"
   ]
  },
  {
   "cell_type": "code",
   "execution_count": 80,
   "metadata": {},
   "outputs": [
    {
     "data": {
      "text/plain": [
       "6"
      ]
     },
     "execution_count": 80,
     "metadata": {},
     "output_type": "execute_result"
    }
   ],
   "source": [
    "pd.DataFrame({\"f\": [1, 2, 3]})[\"f\"].sum()"
   ]
  },
  {
   "cell_type": "code",
   "execution_count": 147,
   "metadata": {},
   "outputs": [
    {
     "name": "stdout",
     "output_type": "stream",
     "text": [
      "/mnt/DATA/mlearning/n.ermolaev/dataset/vk_video/model_data/processed_train_xlmroberta/data.pck\n"
     ]
    }
   ],
   "source": [
    "!ls /mnt/DATA/mlearning/n.ermolaev/dataset/vk_video/model_data/processed_train_xlmroberta/data.pck"
   ]
  },
  {
   "cell_type": "code",
   "execution_count": 156,
   "metadata": {},
   "outputs": [],
   "source": [
    "# import pickle\n",
    "# os.chdir()\n",
    "# dataset_path = \"/mnt/DATA/mlearning/n.ermolaev/dataset/vk_video/model_data/processed_train_xlmroberta/data.pck\"\n",
    "# with open(dataset_path, \"rb\") as chunk_file:\n",
    "#     data_ = pickle.load(chunk_file)\n"
   ]
  },
  {
   "cell_type": "code",
   "execution_count": 157,
   "metadata": {},
   "outputs": [],
   "source": [
    "# !ls ../../ranking-pipeline"
   ]
  },
  {
   "cell_type": "code",
   "execution_count": null,
   "metadata": {},
   "outputs": [],
   "source": []
  },
  {
   "cell_type": "code",
   "execution_count": null,
   "metadata": {},
   "outputs": [],
   "source": []
  },
  {
   "cell_type": "code",
   "execution_count": null,
   "metadata": {},
   "outputs": [],
   "source": []
  },
  {
   "cell_type": "markdown",
   "metadata": {},
   "source": [
    "# DATA EDA"
   ]
  },
  {
   "cell_type": "markdown",
   "metadata": {},
   "source": [
    "#### Source data"
   ]
  },
  {
   "cell_type": "code",
   "execution_count": 36,
   "metadata": {},
   "outputs": [],
   "source": [
    "# !ls /home/armen.kocharyan/datasets/2023_12_datasets/\n",
    "# !ls /home/armen.kocharyan/datasets/2023_12_datasets/user_features_best_dup_347"
   ]
  },
  {
   "cell_type": "code",
   "execution_count": 37,
   "metadata": {},
   "outputs": [],
   "source": [
    "\n",
    "def main(basedir, subset):\n",
    "    datasets = []\n",
    "    for file in glob.glob(os.path.join(basedir, subset)):\n",
    "        datasets.append(file)\n",
    "    return datasets\n",
    "\n",
    "\n",
    "def rename_index(df, last_idx=-2):\n",
    "    df.index = df.index.map(lambda x: \"/\".join(x.split(\"/\")[last_idx:]))\n",
    "    return df\n",
    "\n",
    "\n",
    "def calc_missing(datasets: List[str], column_idx: List[Union[int, str]], \n",
    "                 column_map: Dict[Any, Any], header: Optional[str] = None, abs: bool = True):\n",
    "    res = []\n",
    "    index = []\n",
    "    for i in range(len(datasets)):\n",
    "        train_df = pd.read_csv(datasets[i], sep='\\t', header=header)\n",
    "        res.append((\n",
    "            train_df[column_idx].rename(columns=column_map).isnull().sum() / ( 1 if abs else len(train_df) )\n",
    "            ).to_dict())\n",
    "        index.append(datasets[i])\n",
    "    return pd.DataFrame(res, index=index)"
   ]
  },
  {
   "cell_type": "code",
   "execution_count": 38,
   "metadata": {},
   "outputs": [],
   "source": [
    "train_datasets = main(\"/home/armen.kocharyan/datasets/2023_12_datasets/\", \"*train*\")\n",
    "test_datasets = main(\"/home/armen.kocharyan/datasets/2023_12_datasets/\", \"*test*\")"
   ]
  },
  {
   "cell_type": "code",
   "execution_count": 39,
   "metadata": {},
   "outputs": [
    {
     "data": {
      "text/plain": [
       "['old_sq_markers.20231205.dset.train.tsv.gz',\n",
       " 'vk_ab_iphone_markers.20231205.dset.train.tsv.gz',\n",
       " 'vk_catalog_markers.20231205.dset.train.tsv.gz',\n",
       " 'vk_markers.20231205.dset.train.tsv.gz',\n",
       " 'vk_rich_serps_markers.20231101-20231105.mail.20231205.dset.train.tsv.gz',\n",
       " 'youtube_markers.20231205.dset.train.tsv.gz']"
      ]
     },
     "execution_count": 39,
     "metadata": {},
     "output_type": "execute_result"
    }
   ],
   "source": [
    "sorted([*map(lambda x: Path(x).name, train_datasets)])"
   ]
  },
  {
   "cell_type": "code",
   "execution_count": 40,
   "metadata": {},
   "outputs": [
    {
     "data": {
      "text/plain": [
       "['old_sq_markers.20231205.dset.test.tsv.gz',\n",
       " 'vk_catalog_markers.20231205.dset.test.tsv.gz',\n",
       " 'vk_markers.20231205.dset.test.tsv.gz',\n",
       " 'vk_rich_serps_markers.20231101-20231105.mail.20231205.dset.test.tsv.gz',\n",
       " 'youtube_markers.20231205.dset.test.tsv.gz']"
      ]
     },
     "execution_count": 40,
     "metadata": {},
     "output_type": "execute_result"
    }
   ],
   "source": [
    "sorted([*map(lambda x: Path(x).name, test_datasets)])"
   ]
  },
  {
   "cell_type": "code",
   "execution_count": 41,
   "metadata": {},
   "outputs": [
    {
     "data": {
      "text/html": [
       "<div>\n",
       "<style scoped>\n",
       "    .dataframe tbody tr th:only-of-type {\n",
       "        vertical-align: middle;\n",
       "    }\n",
       "\n",
       "    .dataframe tbody tr th {\n",
       "        vertical-align: top;\n",
       "    }\n",
       "\n",
       "    .dataframe thead th {\n",
       "        text-align: right;\n",
       "    }\n",
       "</style>\n",
       "<table border=\"1\" class=\"dataframe\">\n",
       "  <thead>\n",
       "    <tr style=\"text-align: right;\">\n",
       "      <th></th>\n",
       "      <th>rel</th>\n",
       "      <th>query</th>\n",
       "      <th>url</th>\n",
       "    </tr>\n",
       "  </thead>\n",
       "  <tbody>\n",
       "    <tr>\n",
       "      <th>/home/armen.kocharyan/datasets/2023_12_datasets/vk_catalog_markers.20231205.dset.train.tsv.gz</th>\n",
       "      <td>0.0</td>\n",
       "      <td>0.0</td>\n",
       "      <td>0.0</td>\n",
       "    </tr>\n",
       "    <tr>\n",
       "      <th>/home/armen.kocharyan/datasets/2023_12_datasets/vk_markers.20231205.dset.train.tsv.gz</th>\n",
       "      <td>0.0</td>\n",
       "      <td>3.0</td>\n",
       "      <td>0.0</td>\n",
       "    </tr>\n",
       "    <tr>\n",
       "      <th>/home/armen.kocharyan/datasets/2023_12_datasets/vk_ab_iphone_markers.20231205.dset.train.tsv.gz</th>\n",
       "      <td>0.0</td>\n",
       "      <td>0.0</td>\n",
       "      <td>0.0</td>\n",
       "    </tr>\n",
       "    <tr>\n",
       "      <th>/home/armen.kocharyan/datasets/2023_12_datasets/vk_rich_serps_markers.20231101-20231105.mail.20231205.dset.train.tsv.gz</th>\n",
       "      <td>0.0</td>\n",
       "      <td>0.0</td>\n",
       "      <td>0.0</td>\n",
       "    </tr>\n",
       "    <tr>\n",
       "      <th>/home/armen.kocharyan/datasets/2023_12_datasets/old_sq_markers.20231205.dset.train.tsv.gz</th>\n",
       "      <td>0.0</td>\n",
       "      <td>0.0</td>\n",
       "      <td>0.0</td>\n",
       "    </tr>\n",
       "    <tr>\n",
       "      <th>/home/armen.kocharyan/datasets/2023_12_datasets/youtube_markers.20231205.dset.train.tsv.gz</th>\n",
       "      <td>0.0</td>\n",
       "      <td>0.0</td>\n",
       "      <td>0.0</td>\n",
       "    </tr>\n",
       "  </tbody>\n",
       "</table>\n",
       "</div>"
      ],
      "text/plain": [
       "                                                    rel  query  url\n",
       "/home/armen.kocharyan/datasets/2023_12_datasets...  0.0    0.0  0.0\n",
       "/home/armen.kocharyan/datasets/2023_12_datasets...  0.0    3.0  0.0\n",
       "/home/armen.kocharyan/datasets/2023_12_datasets...  0.0    0.0  0.0\n",
       "/home/armen.kocharyan/datasets/2023_12_datasets...  0.0    0.0  0.0\n",
       "/home/armen.kocharyan/datasets/2023_12_datasets...  0.0    0.0  0.0\n",
       "/home/armen.kocharyan/datasets/2023_12_datasets...  0.0    0.0  0.0"
      ]
     },
     "execution_count": 41,
     "metadata": {},
     "output_type": "execute_result"
    }
   ],
   "source": [
    "calc_missing(train_datasets, [5, 9, 10], {5: \"rel\", 9: \"query\", 10: \"url\"})"
   ]
  },
  {
   "cell_type": "markdown",
   "metadata": {},
   "source": [
    "<span style=\"color:red\">Можно увидеть, что в исходных новых датасетах практически нет пропусков (в vk_markers.20231205.dset.train.tsv.gz 3 отсутсвующих начения в колонке query). Ниже можно увидеть что в тесте нет пропусков. </span>\n"
   ]
  },
  {
   "cell_type": "code",
   "execution_count": 42,
   "metadata": {},
   "outputs": [
    {
     "data": {
      "text/html": [
       "<div>\n",
       "<style scoped>\n",
       "    .dataframe tbody tr th:only-of-type {\n",
       "        vertical-align: middle;\n",
       "    }\n",
       "\n",
       "    .dataframe tbody tr th {\n",
       "        vertical-align: top;\n",
       "    }\n",
       "\n",
       "    .dataframe thead th {\n",
       "        text-align: right;\n",
       "    }\n",
       "</style>\n",
       "<table border=\"1\" class=\"dataframe\">\n",
       "  <thead>\n",
       "    <tr style=\"text-align: right;\">\n",
       "      <th></th>\n",
       "      <th>rel</th>\n",
       "      <th>query</th>\n",
       "      <th>url</th>\n",
       "    </tr>\n",
       "  </thead>\n",
       "  <tbody>\n",
       "    <tr>\n",
       "      <th>/home/armen.kocharyan/datasets/2023_12_datasets/youtube_markers.20231205.dset.test.tsv.gz</th>\n",
       "      <td>0.0</td>\n",
       "      <td>0.0</td>\n",
       "      <td>0.0</td>\n",
       "    </tr>\n",
       "    <tr>\n",
       "      <th>/home/armen.kocharyan/datasets/2023_12_datasets/vk_catalog_markers.20231205.dset.test.tsv.gz</th>\n",
       "      <td>0.0</td>\n",
       "      <td>0.0</td>\n",
       "      <td>0.0</td>\n",
       "    </tr>\n",
       "    <tr>\n",
       "      <th>/home/armen.kocharyan/datasets/2023_12_datasets/vk_rich_serps_markers.20231101-20231105.mail.20231205.dset.test.tsv.gz</th>\n",
       "      <td>0.0</td>\n",
       "      <td>0.0</td>\n",
       "      <td>0.0</td>\n",
       "    </tr>\n",
       "    <tr>\n",
       "      <th>/home/armen.kocharyan/datasets/2023_12_datasets/vk_markers.20231205.dset.test.tsv.gz</th>\n",
       "      <td>0.0</td>\n",
       "      <td>0.0</td>\n",
       "      <td>0.0</td>\n",
       "    </tr>\n",
       "    <tr>\n",
       "      <th>/home/armen.kocharyan/datasets/2023_12_datasets/old_sq_markers.20231205.dset.test.tsv.gz</th>\n",
       "      <td>0.0</td>\n",
       "      <td>0.0</td>\n",
       "      <td>0.0</td>\n",
       "    </tr>\n",
       "  </tbody>\n",
       "</table>\n",
       "</div>"
      ],
      "text/plain": [
       "                                                    rel  query  url\n",
       "/home/armen.kocharyan/datasets/2023_12_datasets...  0.0    0.0  0.0\n",
       "/home/armen.kocharyan/datasets/2023_12_datasets...  0.0    0.0  0.0\n",
       "/home/armen.kocharyan/datasets/2023_12_datasets...  0.0    0.0  0.0\n",
       "/home/armen.kocharyan/datasets/2023_12_datasets...  0.0    0.0  0.0\n",
       "/home/armen.kocharyan/datasets/2023_12_datasets...  0.0    0.0  0.0"
      ]
     },
     "execution_count": 42,
     "metadata": {},
     "output_type": "execute_result"
    }
   ],
   "source": [
    "calc_missing(test_datasets, [5, 9, 10], {5: \"rel\", 9: \"query\", 10: \"url\"})"
   ]
  },
  {
   "cell_type": "markdown",
   "metadata": {},
   "source": [
    "<span style=\"color:red\"> В двух таблицах ниже можно увидеть отсутсвующие значения для значащих полей в датасете ... fields ... (в долях относительно размера датасета и абсолютное количесвтво) </span> "
   ]
  },
  {
   "cell_type": "code",
   "execution_count": 43,
   "metadata": {},
   "outputs": [
    {
     "name": "stderr",
     "output_type": "stream",
     "text": [
      "/tmp/ipykernel_8744/2279612491.py:1: DtypeWarning: Columns (3) have mixed types.Specify dtype option on import or set low_memory=False.\n",
      "  calc_missing(\n"
     ]
    },
    {
     "data": {
      "text/html": [
       "<div>\n",
       "<style scoped>\n",
       "    .dataframe tbody tr th:only-of-type {\n",
       "        vertical-align: middle;\n",
       "    }\n",
       "\n",
       "    .dataframe tbody tr th {\n",
       "        vertical-align: top;\n",
       "    }\n",
       "\n",
       "    .dataframe thead th {\n",
       "        text-align: right;\n",
       "    }\n",
       "</style>\n",
       "<table border=\"1\" class=\"dataframe\">\n",
       "  <thead>\n",
       "    <tr style=\"text-align: right;\">\n",
       "      <th></th>\n",
       "      <th>url</th>\n",
       "      <th>title</th>\n",
       "      <th>body</th>\n",
       "      <th>user</th>\n",
       "    </tr>\n",
       "  </thead>\n",
       "  <tbody>\n",
       "    <tr>\n",
       "      <th>/home/armen.kocharyan/datasets/2023_12_datasets/video_urls.20231207.text_fields.tsv.gz</th>\n",
       "      <td>0.0</td>\n",
       "      <td>0.000006</td>\n",
       "      <td>0.347521</td>\n",
       "      <td>0.370351</td>\n",
       "    </tr>\n",
       "  </tbody>\n",
       "</table>\n",
       "</div>"
      ],
      "text/plain": [
       "                                                    url     title      body  \\\n",
       "/home/armen.kocharyan/datasets/2023_12_datasets...  0.0  0.000006  0.347521   \n",
       "\n",
       "                                                        user  \n",
       "/home/armen.kocharyan/datasets/2023_12_datasets...  0.370351  "
      ]
     },
     "execution_count": 43,
     "metadata": {},
     "output_type": "execute_result"
    }
   ],
   "source": [
    "calc_missing(\n",
    "    ['/home/armen.kocharyan/datasets/2023_12_datasets/video_urls.20231207.text_fields.tsv.gz'], \n",
    "    ['key', 'name', 'description', 'userNick'], \n",
    "    {\"key\":\"url\", \"name\":\"title\", \"description\":\"body\", \"userNick\":\"user\"},\n",
    "    \"infer\", False,\n",
    "    )"
   ]
  },
  {
   "cell_type": "code",
   "execution_count": 44,
   "metadata": {},
   "outputs": [
    {
     "name": "stderr",
     "output_type": "stream",
     "text": [
      "/tmp/ipykernel_8744/1725126414.py:1: DtypeWarning: Columns (3) have mixed types.Specify dtype option on import or set low_memory=False.\n",
      "  calc_missing(\n"
     ]
    },
    {
     "data": {
      "text/html": [
       "<div>\n",
       "<style scoped>\n",
       "    .dataframe tbody tr th:only-of-type {\n",
       "        vertical-align: middle;\n",
       "    }\n",
       "\n",
       "    .dataframe tbody tr th {\n",
       "        vertical-align: top;\n",
       "    }\n",
       "\n",
       "    .dataframe thead th {\n",
       "        text-align: right;\n",
       "    }\n",
       "</style>\n",
       "<table border=\"1\" class=\"dataframe\">\n",
       "  <thead>\n",
       "    <tr style=\"text-align: right;\">\n",
       "      <th></th>\n",
       "      <th>url</th>\n",
       "      <th>title</th>\n",
       "      <th>body</th>\n",
       "      <th>user</th>\n",
       "    </tr>\n",
       "  </thead>\n",
       "  <tbody>\n",
       "    <tr>\n",
       "      <th>/home/armen.kocharyan/datasets/2023_12_datasets/video_urls.20231207.text_fields.tsv.gz</th>\n",
       "      <td>0.0</td>\n",
       "      <td>12.0</td>\n",
       "      <td>669384.0</td>\n",
       "      <td>713358.0</td>\n",
       "    </tr>\n",
       "  </tbody>\n",
       "</table>\n",
       "</div>"
      ],
      "text/plain": [
       "                                                    url  title      body  \\\n",
       "/home/armen.kocharyan/datasets/2023_12_datasets...  0.0   12.0  669384.0   \n",
       "\n",
       "                                                        user  \n",
       "/home/armen.kocharyan/datasets/2023_12_datasets...  713358.0  "
      ]
     },
     "execution_count": 44,
     "metadata": {},
     "output_type": "execute_result"
    }
   ],
   "source": [
    "calc_missing(\n",
    "    ['/home/armen.kocharyan/datasets/2023_12_datasets/video_urls.20231207.text_fields.tsv.gz'], \n",
    "    ['key', 'name', 'description', 'userNick'], \n",
    "    {\"key\":\"url\", \"name\":\"title\", \"description\":\"body\", \"userNick\":\"user\"},\n",
    "    \"infer\", True,\n",
    "    )"
   ]
  },
  {
   "cell_type": "markdown",
   "metadata": {},
   "source": [
    "### PostProcess Data"
   ]
  },
  {
   "cell_type": "code",
   "execution_count": 53,
   "metadata": {},
   "outputs": [],
   "source": [
    "# !ls ../../datasets/test_video/vk_ab_iphone_markers"
   ]
  },
  {
   "cell_type": "code",
   "execution_count": 57,
   "metadata": {},
   "outputs": [
    {
     "name": "stderr",
     "output_type": "stream",
     "text": [
      "/tmp/ipykernel_8744/3650888212.py:9: DtypeWarning: Columns (3) have mixed types.Specify dtype option on import or set low_memory=False.\n",
      "  df = calc_missing(dss, [0, 1, 2, 3, 4], {0: \"query\", 1: \"title\", 2: \"body\", 3: \"user\", 4: \"rel\"}, abs=False)\n"
     ]
    }
   ],
   "source": [
    "dss = []\n",
    "base_path = \"../../datasets/test_video/\"\n",
    "for ds in os.listdir(base_path):\n",
    "    ds_path = os.path.join(base_path, ds)\n",
    "    for f in os.listdir(ds_path):\n",
    "        if \".txt\" in f:\n",
    "            continue\n",
    "        dss.append(os.path.join(ds_path, f))\n",
    "df = calc_missing(dss, [0, 1, 2, 3, 4], {0: \"query\", 1: \"title\", 2: \"body\", 3: \"user\", 4: \"rel\"}, abs=False)\n",
    "    "
   ]
  },
  {
   "cell_type": "code",
   "execution_count": 58,
   "metadata": {},
   "outputs": [
    {
     "data": {
      "text/html": [
       "<div>\n",
       "<style scoped>\n",
       "    .dataframe tbody tr th:only-of-type {\n",
       "        vertical-align: middle;\n",
       "    }\n",
       "\n",
       "    .dataframe tbody tr th {\n",
       "        vertical-align: top;\n",
       "    }\n",
       "\n",
       "    .dataframe thead th {\n",
       "        text-align: right;\n",
       "    }\n",
       "</style>\n",
       "<table border=\"1\" class=\"dataframe\">\n",
       "  <thead>\n",
       "    <tr style=\"text-align: right;\">\n",
       "      <th></th>\n",
       "      <th>query</th>\n",
       "      <th>title</th>\n",
       "      <th>body</th>\n",
       "      <th>user</th>\n",
       "      <th>rel</th>\n",
       "    </tr>\n",
       "  </thead>\n",
       "  <tbody>\n",
       "    <tr>\n",
       "      <th>vk_catalog_markers/data_train.tsv</th>\n",
       "      <td>0.0</td>\n",
       "      <td>0.000008</td>\n",
       "      <td>0.444241</td>\n",
       "      <td>0.188551</td>\n",
       "      <td>0.0</td>\n",
       "    </tr>\n",
       "    <tr>\n",
       "      <th>vk_catalog_markers/data_test.tsv</th>\n",
       "      <td>0.0</td>\n",
       "      <td>0.000000</td>\n",
       "      <td>0.439563</td>\n",
       "      <td>0.129567</td>\n",
       "      <td>0.0</td>\n",
       "    </tr>\n",
       "    <tr>\n",
       "      <th>vk_rich_serps_markers/data_train.tsv</th>\n",
       "      <td>0.0</td>\n",
       "      <td>0.000015</td>\n",
       "      <td>0.401692</td>\n",
       "      <td>0.192657</td>\n",
       "      <td>0.0</td>\n",
       "    </tr>\n",
       "    <tr>\n",
       "      <th>vk_rich_serps_markers/data_test.tsv</th>\n",
       "      <td>0.0</td>\n",
       "      <td>0.000019</td>\n",
       "      <td>0.403761</td>\n",
       "      <td>0.190399</td>\n",
       "      <td>0.0</td>\n",
       "    </tr>\n",
       "    <tr>\n",
       "      <th>vk_markers/data_train.tsv</th>\n",
       "      <td>0.0</td>\n",
       "      <td>0.000000</td>\n",
       "      <td>0.453070</td>\n",
       "      <td>0.376304</td>\n",
       "      <td>0.0</td>\n",
       "    </tr>\n",
       "    <tr>\n",
       "      <th>vk_markers/data_test.tsv</th>\n",
       "      <td>0.0</td>\n",
       "      <td>0.000000</td>\n",
       "      <td>0.410799</td>\n",
       "      <td>0.368558</td>\n",
       "      <td>0.0</td>\n",
       "    </tr>\n",
       "    <tr>\n",
       "      <th>vk_ab_iphone_markers/data_train.tsv</th>\n",
       "      <td>0.0</td>\n",
       "      <td>0.000000</td>\n",
       "      <td>0.404043</td>\n",
       "      <td>0.336029</td>\n",
       "      <td>0.0</td>\n",
       "    </tr>\n",
       "    <tr>\n",
       "      <th>youtube_markers/data_train.tsv</th>\n",
       "      <td>0.0</td>\n",
       "      <td>0.000000</td>\n",
       "      <td>0.282896</td>\n",
       "      <td>0.348524</td>\n",
       "      <td>0.0</td>\n",
       "    </tr>\n",
       "    <tr>\n",
       "      <th>youtube_markers/data_test.tsv</th>\n",
       "      <td>0.0</td>\n",
       "      <td>0.000000</td>\n",
       "      <td>0.295718</td>\n",
       "      <td>0.369347</td>\n",
       "      <td>0.0</td>\n",
       "    </tr>\n",
       "    <tr>\n",
       "      <th>old_sq_markers/data_train.tsv</th>\n",
       "      <td>0.0</td>\n",
       "      <td>0.000000</td>\n",
       "      <td>0.249812</td>\n",
       "      <td>0.417521</td>\n",
       "      <td>0.0</td>\n",
       "    </tr>\n",
       "    <tr>\n",
       "      <th>old_sq_markers/data_test.tsv</th>\n",
       "      <td>0.0</td>\n",
       "      <td>0.000000</td>\n",
       "      <td>0.248530</td>\n",
       "      <td>0.421178</td>\n",
       "      <td>0.0</td>\n",
       "    </tr>\n",
       "  </tbody>\n",
       "</table>\n",
       "</div>"
      ],
      "text/plain": [
       "                                      query     title      body      user  rel\n",
       "vk_catalog_markers/data_train.tsv       0.0  0.000008  0.444241  0.188551  0.0\n",
       "vk_catalog_markers/data_test.tsv        0.0  0.000000  0.439563  0.129567  0.0\n",
       "vk_rich_serps_markers/data_train.tsv    0.0  0.000015  0.401692  0.192657  0.0\n",
       "vk_rich_serps_markers/data_test.tsv     0.0  0.000019  0.403761  0.190399  0.0\n",
       "vk_markers/data_train.tsv               0.0  0.000000  0.453070  0.376304  0.0\n",
       "vk_markers/data_test.tsv                0.0  0.000000  0.410799  0.368558  0.0\n",
       "vk_ab_iphone_markers/data_train.tsv     0.0  0.000000  0.404043  0.336029  0.0\n",
       "youtube_markers/data_train.tsv          0.0  0.000000  0.282896  0.348524  0.0\n",
       "youtube_markers/data_test.tsv           0.0  0.000000  0.295718  0.369347  0.0\n",
       "old_sq_markers/data_train.tsv           0.0  0.000000  0.249812  0.417521  0.0\n",
       "old_sq_markers/data_test.tsv            0.0  0.000000  0.248530  0.421178  0.0"
      ]
     },
     "execution_count": 58,
     "metadata": {},
     "output_type": "execute_result"
    }
   ],
   "source": [
    "# С удалением дубликатов\n",
    "df.index = df.index.map(lambda x: \"/\".join(x.split(\"/\")[-2:]))\n",
    "df"
   ]
  },
  {
   "cell_type": "code",
   "execution_count": 30,
   "metadata": {},
   "outputs": [
    {
     "data": {
      "text/html": [
       "<div>\n",
       "<style scoped>\n",
       "    .dataframe tbody tr th:only-of-type {\n",
       "        vertical-align: middle;\n",
       "    }\n",
       "\n",
       "    .dataframe tbody tr th {\n",
       "        vertical-align: top;\n",
       "    }\n",
       "\n",
       "    .dataframe thead th {\n",
       "        text-align: right;\n",
       "    }\n",
       "</style>\n",
       "<table border=\"1\" class=\"dataframe\">\n",
       "  <thead>\n",
       "    <tr style=\"text-align: right;\">\n",
       "      <th></th>\n",
       "      <th>query</th>\n",
       "      <th>title</th>\n",
       "      <th>body</th>\n",
       "      <th>user</th>\n",
       "      <th>rel</th>\n",
       "    </tr>\n",
       "  </thead>\n",
       "  <tbody>\n",
       "    <tr>\n",
       "      <th>vk_catalog_markers/data_train.tsv</th>\n",
       "      <td>0.0</td>\n",
       "      <td>0.000007</td>\n",
       "      <td>0.451452</td>\n",
       "      <td>0.196088</td>\n",
       "      <td>0.0</td>\n",
       "    </tr>\n",
       "    <tr>\n",
       "      <th>vk_catalog_markers/data_test.tsv</th>\n",
       "      <td>0.0</td>\n",
       "      <td>0.000000</td>\n",
       "      <td>0.449913</td>\n",
       "      <td>0.131653</td>\n",
       "      <td>0.0</td>\n",
       "    </tr>\n",
       "    <tr>\n",
       "      <th>vk_rich_serps_markers/data_train.tsv</th>\n",
       "      <td>0.0</td>\n",
       "      <td>0.000010</td>\n",
       "      <td>0.351279</td>\n",
       "      <td>0.178594</td>\n",
       "      <td>0.0</td>\n",
       "    </tr>\n",
       "    <tr>\n",
       "      <th>vk_rich_serps_markers/data_test.tsv</th>\n",
       "      <td>0.0</td>\n",
       "      <td>0.000011</td>\n",
       "      <td>0.366466</td>\n",
       "      <td>0.174979</td>\n",
       "      <td>0.0</td>\n",
       "    </tr>\n",
       "    <tr>\n",
       "      <th>vk_markers/data_train.tsv</th>\n",
       "      <td>0.0</td>\n",
       "      <td>0.000000</td>\n",
       "      <td>0.461393</td>\n",
       "      <td>0.387823</td>\n",
       "      <td>0.0</td>\n",
       "    </tr>\n",
       "    <tr>\n",
       "      <th>vk_markers/data_test.tsv</th>\n",
       "      <td>0.0</td>\n",
       "      <td>0.000000</td>\n",
       "      <td>0.426841</td>\n",
       "      <td>0.383647</td>\n",
       "      <td>0.0</td>\n",
       "    </tr>\n",
       "    <tr>\n",
       "      <th>vk_ab_iphone_markers/data_train.tsv</th>\n",
       "      <td>0.0</td>\n",
       "      <td>0.000000</td>\n",
       "      <td>0.408353</td>\n",
       "      <td>0.352233</td>\n",
       "      <td>0.0</td>\n",
       "    </tr>\n",
       "    <tr>\n",
       "      <th>youtube_markers/data_train.tsv</th>\n",
       "      <td>0.0</td>\n",
       "      <td>0.000000</td>\n",
       "      <td>0.297483</td>\n",
       "      <td>0.359823</td>\n",
       "      <td>0.0</td>\n",
       "    </tr>\n",
       "    <tr>\n",
       "      <th>youtube_markers/data_test.tsv</th>\n",
       "      <td>0.0</td>\n",
       "      <td>0.000000</td>\n",
       "      <td>0.308355</td>\n",
       "      <td>0.379132</td>\n",
       "      <td>0.0</td>\n",
       "    </tr>\n",
       "    <tr>\n",
       "      <th>old_sq_markers/data_train.tsv</th>\n",
       "      <td>0.0</td>\n",
       "      <td>0.000000</td>\n",
       "      <td>0.256001</td>\n",
       "      <td>0.424300</td>\n",
       "      <td>0.0</td>\n",
       "    </tr>\n",
       "    <tr>\n",
       "      <th>old_sq_markers/data_test.tsv</th>\n",
       "      <td>0.0</td>\n",
       "      <td>0.000000</td>\n",
       "      <td>0.255180</td>\n",
       "      <td>0.428014</td>\n",
       "      <td>0.0</td>\n",
       "    </tr>\n",
       "  </tbody>\n",
       "</table>\n",
       "</div>"
      ],
      "text/plain": [
       "                                      query     title      body      user  rel\n",
       "vk_catalog_markers/data_train.tsv       0.0  0.000007  0.451452  0.196088  0.0\n",
       "vk_catalog_markers/data_test.tsv        0.0  0.000000  0.449913  0.131653  0.0\n",
       "vk_rich_serps_markers/data_train.tsv    0.0  0.000010  0.351279  0.178594  0.0\n",
       "vk_rich_serps_markers/data_test.tsv     0.0  0.000011  0.366466  0.174979  0.0\n",
       "vk_markers/data_train.tsv               0.0  0.000000  0.461393  0.387823  0.0\n",
       "vk_markers/data_test.tsv                0.0  0.000000  0.426841  0.383647  0.0\n",
       "vk_ab_iphone_markers/data_train.tsv     0.0  0.000000  0.408353  0.352233  0.0\n",
       "youtube_markers/data_train.tsv          0.0  0.000000  0.297483  0.359823  0.0\n",
       "youtube_markers/data_test.tsv           0.0  0.000000  0.308355  0.379132  0.0\n",
       "old_sq_markers/data_train.tsv           0.0  0.000000  0.256001  0.424300  0.0\n",
       "old_sq_markers/data_test.tsv            0.0  0.000000  0.255180  0.428014  0.0"
      ]
     },
     "execution_count": 30,
     "metadata": {},
     "output_type": "execute_result"
    }
   ],
   "source": [
    "# Без удалениея дубликатов (старая ячейка)\n",
    "df.index = df.index.map(lambda x: \"/\".join(x.split(\"/\")[-2:]))\n",
    "df"
   ]
  },
  {
   "cell_type": "markdown",
   "metadata": {},
   "source": [
    "<span style=\"color:red\"> Тут можно увидеть количество пропущенных значений для обработанных новых датасетов </span> "
   ]
  },
  {
   "cell_type": "markdown",
   "metadata": {},
   "source": [
    "### Old data"
   ]
  },
  {
   "cell_type": "markdown",
   "metadata": {},
   "source": [
    " <span style=\"color:red\"> Возьмем интересующие старые датасеты и посмотрим на пропуски там (абсолютные значения / доли) </span> "
   ]
  },
  {
   "cell_type": "code",
   "execution_count": 59,
   "metadata": {},
   "outputs": [],
   "source": [
    "base_path = \"/mnt/DATA/mlearning/n.ermolaev/dataset/vk_video\"\n",
    "dss = [\n",
    "    \"features_dump-old_sq.20220915.preprocessed.with_info\",\n",
    "    \"features_dump-vk_markers.20221214.preprocessed.with_info\",\n",
    "    \"features_dump-youtube_markers.20221214.preprocessed.with_info\",\n",
    "]\n",
    "full_path_dss = []\n",
    "for file in map(lambda x: os.path.join(base_path, x, \"low_texts\"), dss):\n",
    "    full_path_dss.append(os.path.join(file, \"texts_train.tsv\"))"
   ]
  },
  {
   "cell_type": "code",
   "execution_count": 60,
   "metadata": {},
   "outputs": [
    {
     "data": {
      "text/html": [
       "<div>\n",
       "<style scoped>\n",
       "    .dataframe tbody tr th:only-of-type {\n",
       "        vertical-align: middle;\n",
       "    }\n",
       "\n",
       "    .dataframe tbody tr th {\n",
       "        vertical-align: top;\n",
       "    }\n",
       "\n",
       "    .dataframe thead th {\n",
       "        text-align: right;\n",
       "    }\n",
       "</style>\n",
       "<table border=\"1\" class=\"dataframe\">\n",
       "  <thead>\n",
       "    <tr style=\"text-align: right;\">\n",
       "      <th></th>\n",
       "      <th>query</th>\n",
       "      <th>title</th>\n",
       "      <th>body</th>\n",
       "      <th>rel</th>\n",
       "    </tr>\n",
       "  </thead>\n",
       "  <tbody>\n",
       "    <tr>\n",
       "      <th>features_dump-old_sq.20220915.preprocessed.with_info/low_texts/texts_train.tsv</th>\n",
       "      <td>0.0</td>\n",
       "      <td>44724.0</td>\n",
       "      <td>108383.0</td>\n",
       "      <td>0.0</td>\n",
       "    </tr>\n",
       "    <tr>\n",
       "      <th>features_dump-vk_markers.20221214.preprocessed.with_info/low_texts/texts_train.tsv</th>\n",
       "      <td>7.0</td>\n",
       "      <td>2292.0</td>\n",
       "      <td>102398.0</td>\n",
       "      <td>0.0</td>\n",
       "    </tr>\n",
       "    <tr>\n",
       "      <th>features_dump-youtube_markers.20221214.preprocessed.with_info/low_texts/texts_train.tsv</th>\n",
       "      <td>0.0</td>\n",
       "      <td>908.0</td>\n",
       "      <td>30350.0</td>\n",
       "      <td>0.0</td>\n",
       "    </tr>\n",
       "  </tbody>\n",
       "</table>\n",
       "</div>"
      ],
      "text/plain": [
       "                                                    query    title      body  \\\n",
       "features_dump-old_sq.20220915.preprocessed.with...    0.0  44724.0  108383.0   \n",
       "features_dump-vk_markers.20221214.preprocessed....    7.0   2292.0  102398.0   \n",
       "features_dump-youtube_markers.20221214.preproce...    0.0    908.0   30350.0   \n",
       "\n",
       "                                                    rel  \n",
       "features_dump-old_sq.20220915.preprocessed.with...  0.0  \n",
       "features_dump-vk_markers.20221214.preprocessed....  0.0  \n",
       "features_dump-youtube_markers.20221214.preproce...  0.0  "
      ]
     },
     "execution_count": 60,
     "metadata": {},
     "output_type": "execute_result"
    }
   ],
   "source": [
    "rename_index(calc_missing(\n",
    "        full_path_dss, \n",
    "        [0, 1, 2, 3], \n",
    "        {0:\"query\", 1:\"title\", 2:\"body\", 3: \"rel\"},\n",
    "    ), -3)"
   ]
  },
  {
   "cell_type": "code",
   "execution_count": 61,
   "metadata": {},
   "outputs": [
    {
     "data": {
      "text/html": [
       "<div>\n",
       "<style scoped>\n",
       "    .dataframe tbody tr th:only-of-type {\n",
       "        vertical-align: middle;\n",
       "    }\n",
       "\n",
       "    .dataframe tbody tr th {\n",
       "        vertical-align: top;\n",
       "    }\n",
       "\n",
       "    .dataframe thead th {\n",
       "        text-align: right;\n",
       "    }\n",
       "</style>\n",
       "<table border=\"1\" class=\"dataframe\">\n",
       "  <thead>\n",
       "    <tr style=\"text-align: right;\">\n",
       "      <th></th>\n",
       "      <th>query</th>\n",
       "      <th>title</th>\n",
       "      <th>body</th>\n",
       "      <th>rel</th>\n",
       "    </tr>\n",
       "  </thead>\n",
       "  <tbody>\n",
       "    <tr>\n",
       "      <th>features_dump-old_sq.20220915.preprocessed.with_info/low_texts/texts_train.tsv</th>\n",
       "      <td>0.000000</td>\n",
       "      <td>0.119925</td>\n",
       "      <td>0.290622</td>\n",
       "      <td>0.0</td>\n",
       "    </tr>\n",
       "    <tr>\n",
       "      <th>features_dump-vk_markers.20221214.preprocessed.with_info/low_texts/texts_train.tsv</th>\n",
       "      <td>0.000029</td>\n",
       "      <td>0.009570</td>\n",
       "      <td>0.427572</td>\n",
       "      <td>0.0</td>\n",
       "    </tr>\n",
       "    <tr>\n",
       "      <th>features_dump-youtube_markers.20221214.preprocessed.with_info/low_texts/texts_train.tsv</th>\n",
       "      <td>0.000000</td>\n",
       "      <td>0.008409</td>\n",
       "      <td>0.281071</td>\n",
       "      <td>0.0</td>\n",
       "    </tr>\n",
       "  </tbody>\n",
       "</table>\n",
       "</div>"
      ],
      "text/plain": [
       "                                                       query     title  \\\n",
       "features_dump-old_sq.20220915.preprocessed.with...  0.000000  0.119925   \n",
       "features_dump-vk_markers.20221214.preprocessed....  0.000029  0.009570   \n",
       "features_dump-youtube_markers.20221214.preproce...  0.000000  0.008409   \n",
       "\n",
       "                                                        body  rel  \n",
       "features_dump-old_sq.20220915.preprocessed.with...  0.290622  0.0  \n",
       "features_dump-vk_markers.20221214.preprocessed....  0.427572  0.0  \n",
       "features_dump-youtube_markers.20221214.preproce...  0.281071  0.0  "
      ]
     },
     "execution_count": 61,
     "metadata": {},
     "output_type": "execute_result"
    }
   ],
   "source": [
    "rename_index(calc_missing(\n",
    "        full_path_dss, \n",
    "        [0, 1, 2, 3], \n",
    "        {0:\"query\", 1:\"title\", 2:\"body\", 3: \"rel\"},\n",
    "        abs=False,\n",
    "    ), -3)"
   ]
  },
  {
   "cell_type": "markdown",
   "metadata": {},
   "source": [
    "### Check diffs between new & old data"
   ]
  },
  {
   "cell_type": "code",
   "execution_count": null,
   "metadata": {},
   "outputs": [],
   "source": [
    "def get_queries(dataset):\n",
    "    queries = {}\n",
    "    for ds in dataset:\n",
    "       queries[ds] = pd.read_csv(ds, sep=\"\\t\", header=None).iloc[:, 0].tolist()\n",
    "    return queries\n",
    "\n",
    "def dict_ds_rename(name):\n",
    "    if \"old_sq\" in name:\n",
    "        return \"old_sq\"\n",
    "    elif \"youtube_markers\" in name:\n",
    "        return \"youtube_markers\"\n",
    "    elif \"vk_markers\" in name:\n",
    "        return \"vk_markers\"\n",
    "    raise Exception(\"Error\")\n",
    "\n",
    "def create_df(old_data: dict, new_data: dict):\n",
    "    res = []\n",
    "    index = []\n",
    "    for key in old_data:\n",
    "        index.append(key)\n",
    "        res.append({\n",
    "            \"uniq_union\":    len(set(old_data[key]) | set(new_data[key])),\n",
    "            \"uniq_intersec\": len(set(old_data[key]) & set(new_data[key])),\n",
    "            \"uniq_old\":      len(set(old_data[key])),\n",
    "            \"uniq_new\":      len(set(new_data[key])),\n",
    "            \"old\":           len(old_data[key]),\n",
    "            \"new\":           len(new_data[key]),\n",
    "            \"union\":         len(old_data[key] + new_data[key])\n",
    "        })\n",
    "    return pd.DataFrame(res, index=index)"
   ]
  },
  {
   "cell_type": "code",
   "execution_count": 90,
   "metadata": {},
   "outputs": [],
   "source": [
    "old_base_path = \"/mnt/DATA/mlearning/n.ermolaev/dataset/vk_video\"\n",
    "old_dss = [\n",
    "    old_base_path + \"/features_dump-old_sq.20220915.preprocessed.with_info/\" + \"low_texts\",\n",
    "    old_base_path + \"/features_dump-vk_markers.20221214.preprocessed.with_info/\" + \"low_texts\",\n",
    "    old_base_path + \"/features_dump-youtube_markers.20221214.preprocessed.with_info/\" + \"low_texts\",\n",
    "]\n",
    "\n",
    "old_train_datasets = []\n",
    "old_test_datasets  = []\n",
    "for ds_dir in old_dss:\n",
    "    old_train_datasets.extend(main(ds_dir, \"texts_train.*\"))\n",
    "for ds_dir in old_dss:\n",
    "    old_test_datasets.extend(main(ds_dir, \"texts_test.*\"))"
   ]
  },
  {
   "cell_type": "code",
   "execution_count": 91,
   "metadata": {},
   "outputs": [],
   "source": [
    "new_base_path = \"/home/armen.kocharyan/datasets/test_video\" # replace to test_video_wt_dropdupl\n",
    "new_dss = [\n",
    "    new_base_path + \"/old_sq_markers/\",\n",
    "    new_base_path + \"/vk_markers/\",\n",
    "    new_base_path + \"/youtube_markers/\",\n",
    "]\n",
    "\n",
    "new_train_datasets = []\n",
    "new_test_datasets  = []\n",
    "for ds_dir in new_dss:\n",
    "    new_train_datasets.extend(main(ds_dir, \"data_train.*\"))\n",
    "for ds_dir in new_dss:\n",
    "    new_test_datasets.extend(main(ds_dir, \"data_test.*\"))\n"
   ]
  },
  {
   "cell_type": "code",
   "execution_count": 92,
   "metadata": {},
   "outputs": [],
   "source": [
    "# # new_train_datasets = main(\"/home/armen.kocharyan/datasets/2023_12_datasets/\", \"*train*\")\n",
    "# new_test_datasets = main(\"/home/armen.kocharyan/datasets/2023_12_datasets/\", \"*test*\")\n",
    "\n",
    "# new_train_datasets = [\n",
    "#     '/home/armen.kocharyan/datasets/2023_12_datasets/old_sq_markers.20231205.dset.train.tsv.gz',\n",
    "#      '/home/armen.kocharyan/datasets/2023_12_datasets/youtube_markers.20231205.dset.train.tsv.gz',\n",
    "#      '/home/armen.kocharyan/datasets/2023_12_datasets/vk_markers.20231205.dset.train.tsv.gz',\n",
    "# ]"
   ]
  },
  {
   "cell_type": "code",
   "execution_count": 106,
   "metadata": {},
   "outputs": [
    {
     "data": {
      "text/plain": [
       "['/home/armen.kocharyan/datasets/test_video_wt_dropdupl/old_sq_markers/data_train.tsv',\n",
       " '/home/armen.kocharyan/datasets/test_video_wt_dropdupl/vk_markers/data_train.tsv',\n",
       " '/home/armen.kocharyan/datasets/test_video_wt_dropdupl/youtube_markers/data_train.tsv']"
      ]
     },
     "execution_count": 106,
     "metadata": {},
     "output_type": "execute_result"
    }
   ],
   "source": [
    "# Тут без удаления дубликатов (дубликаты будут удалены в create_df)\n",
    "new_train_datasets"
   ]
  },
  {
   "cell_type": "code",
   "execution_count": 94,
   "metadata": {},
   "outputs": [],
   "source": [
    "old_data_queries = get_queries(old_train_datasets)"
   ]
  },
  {
   "cell_type": "code",
   "execution_count": 88,
   "metadata": {},
   "outputs": [
    {
     "name": "stderr",
     "output_type": "stream",
     "text": [
      "/tmp/ipykernel_8744/1374927730.py:1: DtypeWarning: Columns (3) have mixed types.Specify dtype option on import or set low_memory=False.\n",
      "  new_data_queries = get_queries(new_train_datasets)\n"
     ]
    }
   ],
   "source": [
    "new_data_queries = get_queries(new_train_datasets)"
   ]
  },
  {
   "cell_type": "code",
   "execution_count": 95,
   "metadata": {},
   "outputs": [],
   "source": [
    "tmp = new_data_queries.copy()\n",
    "new_data_queries = {}\n",
    "for name in tmp:\n",
    "    new_data_queries[dict_ds_rename(name)] = tmp[name]\n",
    "tmp = old_data_queries.copy()\n",
    "old_data_queries = {}\n",
    "for name in tmp:\n",
    "    old_data_queries[dict_ds_rename(name)] = tmp[name]"
   ]
  },
  {
   "cell_type": "code",
   "execution_count": 83,
   "metadata": {},
   "outputs": [
    {
     "data": {
      "text/html": [
       "<div>\n",
       "<style scoped>\n",
       "    .dataframe tbody tr th:only-of-type {\n",
       "        vertical-align: middle;\n",
       "    }\n",
       "\n",
       "    .dataframe tbody tr th {\n",
       "        vertical-align: top;\n",
       "    }\n",
       "\n",
       "    .dataframe thead th {\n",
       "        text-align: right;\n",
       "    }\n",
       "</style>\n",
       "<table border=\"1\" class=\"dataframe\">\n",
       "  <thead>\n",
       "    <tr style=\"text-align: right;\">\n",
       "      <th></th>\n",
       "      <th>uniq_union</th>\n",
       "      <th>uniq_intersec</th>\n",
       "      <th>uniq_old</th>\n",
       "      <th>uniq_new</th>\n",
       "      <th>old</th>\n",
       "      <th>new</th>\n",
       "      <th>union</th>\n",
       "    </tr>\n",
       "  </thead>\n",
       "  <tbody>\n",
       "    <tr>\n",
       "      <th>old_sq</th>\n",
       "      <td>58278</td>\n",
       "      <td>40510</td>\n",
       "      <td>42612</td>\n",
       "      <td>56176</td>\n",
       "      <td>372934</td>\n",
       "      <td>244352</td>\n",
       "      <td>617286</td>\n",
       "    </tr>\n",
       "    <tr>\n",
       "      <th>vk_markers</th>\n",
       "      <td>73260</td>\n",
       "      <td>22482</td>\n",
       "      <td>26033</td>\n",
       "      <td>69709</td>\n",
       "      <td>239487</td>\n",
       "      <td>293098</td>\n",
       "      <td>532585</td>\n",
       "    </tr>\n",
       "    <tr>\n",
       "      <th>youtube_markers</th>\n",
       "      <td>50955</td>\n",
       "      <td>10377</td>\n",
       "      <td>11378</td>\n",
       "      <td>49954</td>\n",
       "      <td>107980</td>\n",
       "      <td>352928</td>\n",
       "      <td>460908</td>\n",
       "    </tr>\n",
       "  </tbody>\n",
       "</table>\n",
       "</div>"
      ],
      "text/plain": [
       "                 uniq_union  uniq_intersec  uniq_old  uniq_new     old  \\\n",
       "old_sq                58278          40510     42612     56176  372934   \n",
       "vk_markers            73260          22482     26033     69709  239487   \n",
       "youtube_markers       50955          10377     11378     49954  107980   \n",
       "\n",
       "                    new   union  \n",
       "old_sq           244352  617286  \n",
       "vk_markers       293098  532585  \n",
       "youtube_markers  352928  460908  "
      ]
     },
     "execution_count": 83,
     "metadata": {},
     "output_type": "execute_result"
    }
   ],
   "source": [
    "# С удалением дубликатов \n",
    "create_df(old_data_queries, new_data_queries)"
   ]
  },
  {
   "cell_type": "code",
   "execution_count": 97,
   "metadata": {},
   "outputs": [
    {
     "data": {
      "text/html": [
       "<div>\n",
       "<style scoped>\n",
       "    .dataframe tbody tr th:only-of-type {\n",
       "        vertical-align: middle;\n",
       "    }\n",
       "\n",
       "    .dataframe tbody tr th {\n",
       "        vertical-align: top;\n",
       "    }\n",
       "\n",
       "    .dataframe thead th {\n",
       "        text-align: right;\n",
       "    }\n",
       "</style>\n",
       "<table border=\"1\" class=\"dataframe\">\n",
       "  <thead>\n",
       "    <tr style=\"text-align: right;\">\n",
       "      <th></th>\n",
       "      <th>uniq_union</th>\n",
       "      <th>uniq_intersec</th>\n",
       "      <th>uniq_old</th>\n",
       "      <th>uniq_new</th>\n",
       "      <th>old</th>\n",
       "      <th>new</th>\n",
       "      <th>union</th>\n",
       "    </tr>\n",
       "  </thead>\n",
       "  <tbody>\n",
       "    <tr>\n",
       "      <th>old_sq</th>\n",
       "      <td>58278</td>\n",
       "      <td>40510</td>\n",
       "      <td>42612</td>\n",
       "      <td>56176</td>\n",
       "      <td>372934</td>\n",
       "      <td>259394</td>\n",
       "      <td>632328</td>\n",
       "    </tr>\n",
       "    <tr>\n",
       "      <th>vk_markers</th>\n",
       "      <td>73260</td>\n",
       "      <td>22482</td>\n",
       "      <td>26033</td>\n",
       "      <td>69709</td>\n",
       "      <td>239487</td>\n",
       "      <td>323720</td>\n",
       "      <td>563207</td>\n",
       "    </tr>\n",
       "    <tr>\n",
       "      <th>youtube_markers</th>\n",
       "      <td>50955</td>\n",
       "      <td>10377</td>\n",
       "      <td>11378</td>\n",
       "      <td>49954</td>\n",
       "      <td>107980</td>\n",
       "      <td>385134</td>\n",
       "      <td>493114</td>\n",
       "    </tr>\n",
       "  </tbody>\n",
       "</table>\n",
       "</div>"
      ],
      "text/plain": [
       "                 uniq_union  uniq_intersec  uniq_old  uniq_new     old  \\\n",
       "old_sq                58278          40510     42612     56176  372934   \n",
       "vk_markers            73260          22482     26033     69709  239487   \n",
       "youtube_markers       50955          10377     11378     49954  107980   \n",
       "\n",
       "                    new   union  \n",
       "old_sq           259394  632328  \n",
       "vk_markers       323720  563207  \n",
       "youtube_markers  385134  493114  "
      ]
     },
     "execution_count": 97,
     "metadata": {},
     "output_type": "execute_result"
    }
   ],
   "source": [
    "# Без удаления дубликатов (старая ячейка)\n",
    "create_df(old_data_queries, new_data_queries)"
   ]
  },
  {
   "cell_type": "markdown",
   "metadata": {},
   "source": [
    "<span style=\"color:red\">  Тут можно посмотреть на статистику  запросов (в частности уникальных) в старых и новых датасетах (также после объединения) </span> "
   ]
  },
  {
   "cell_type": "markdown",
   "metadata": {},
   "source": [
    "## Merge datasets & calc stats"
   ]
  },
  {
   "cell_type": "code",
   "execution_count": 98,
   "metadata": {},
   "outputs": [],
   "source": [
    "def get_dfs(dataset, add_freak_column=False):\n",
    "    dfs = {}\n",
    "    for ds in dataset:\n",
    "      df = pd.read_csv(ds, sep=\"\\t\", header=None)\n",
    "      if add_freak_column:\n",
    "         df = df.rename(columns={0:\"query\", 1:\"title\", 2:\"body\", 3: \"rel\"})\n",
    "         df.insert(3, \"user\", np.nan)\n",
    "      else:\n",
    "         df = df.rename(columns={0: \"query\", 1: \"title\", 2: \"body\", 3: \"user\", 4: \"rel\"}) \n",
    "      dfs[dict_ds_rename(ds)] = [df]\n",
    "    return dfs\n",
    "\n",
    "\n",
    "def merge_dfs(old_trains, new_trains):\n",
    "    res = []\n",
    "    index = []\n",
    "    for key in old_trains:\n",
    "        old   = old_trains[key][0]\n",
    "        new   = new_trains[key][0]\n",
    "        merge = pd.concat([old, new])\n",
    "        merge = merge.drop_duplicates(subset=[\"query\", \"title\"], keep=\"first\")\n",
    "        # assert len(old) + len(new) == len(merge)\n",
    "        res.append({\n",
    "            \"old\":          len(old),\n",
    "            \"new\":          len(new),\n",
    "            \"drop_d_old\":   len(old.drop_duplicates(subset=[\"query\", \"title\"], keep=\"first\")),\n",
    "            \"drop_d_new\":   len(new.drop_duplicates(subset=[\"query\", \"title\"], keep=\"first\")),\n",
    "            \"merge\":        len(merge),\n",
    "        })\n",
    "        index.append(key)\n",
    "    return pd.DataFrame(res, index=index)"
   ]
  },
  {
   "cell_type": "code",
   "execution_count": 99,
   "metadata": {},
   "outputs": [],
   "source": [
    "old_trains = get_dfs(old_train_datasets, True)"
   ]
  },
  {
   "cell_type": "code",
   "execution_count": 100,
   "metadata": {},
   "outputs": [
    {
     "name": "stderr",
     "output_type": "stream",
     "text": [
      "/tmp/ipykernel_8744/2881011822.py:1: DtypeWarning: Columns (3) have mixed types.Specify dtype option on import or set low_memory=False.\n",
      "  new_trains = get_dfs(new_train_datasets)\n"
     ]
    }
   ],
   "source": [
    "new_trains = get_dfs(new_train_datasets)"
   ]
  },
  {
   "cell_type": "markdown",
   "metadata": {},
   "source": [
    "<span style=\"color:red\"> Тут можно увидеть количество точек в интересующих нас старых и новых наборах  после удаления дубилкатов. Можно увидеть, что после конкатенации и удаления дубликатов количество точек больше, чем в предыдущих корпусах. Возможно имеет смысл действительно объединить их. Однако, нужно учесть, что дубликаты  по [\"query\", \"title\"] могут содержать разные заполненные поля и оценки.</span>"
   ]
  },
  {
   "cell_type": "code",
   "execution_count": 101,
   "metadata": {},
   "outputs": [
    {
     "data": {
      "text/html": [
       "<div>\n",
       "<style scoped>\n",
       "    .dataframe tbody tr th:only-of-type {\n",
       "        vertical-align: middle;\n",
       "    }\n",
       "\n",
       "    .dataframe tbody tr th {\n",
       "        vertical-align: top;\n",
       "    }\n",
       "\n",
       "    .dataframe thead th {\n",
       "        text-align: right;\n",
       "    }\n",
       "</style>\n",
       "<table border=\"1\" class=\"dataframe\">\n",
       "  <thead>\n",
       "    <tr style=\"text-align: right;\">\n",
       "      <th></th>\n",
       "      <th>old</th>\n",
       "      <th>new</th>\n",
       "      <th>drop_d_old</th>\n",
       "      <th>drop_d_new</th>\n",
       "      <th>merge</th>\n",
       "    </tr>\n",
       "  </thead>\n",
       "  <tbody>\n",
       "    <tr>\n",
       "      <th>old_sq</th>\n",
       "      <td>372934</td>\n",
       "      <td>259394</td>\n",
       "      <td>333118</td>\n",
       "      <td>244352</td>\n",
       "      <td>407621</td>\n",
       "    </tr>\n",
       "    <tr>\n",
       "      <th>vk_markers</th>\n",
       "      <td>239487</td>\n",
       "      <td>323720</td>\n",
       "      <td>214490</td>\n",
       "      <td>293098</td>\n",
       "      <td>374536</td>\n",
       "    </tr>\n",
       "    <tr>\n",
       "      <th>youtube_markers</th>\n",
       "      <td>107980</td>\n",
       "      <td>385134</td>\n",
       "      <td>98076</td>\n",
       "      <td>352928</td>\n",
       "      <td>389151</td>\n",
       "    </tr>\n",
       "  </tbody>\n",
       "</table>\n",
       "</div>"
      ],
      "text/plain": [
       "                    old     new  drop_d_old  drop_d_new   merge\n",
       "old_sq           372934  259394      333118      244352  407621\n",
       "vk_markers       239487  323720      214490      293098  374536\n",
       "youtube_markers  107980  385134       98076      352928  389151"
      ]
     },
     "execution_count": 101,
     "metadata": {},
     "output_type": "execute_result"
    }
   ],
   "source": [
    "merge_dfs(old_trains, new_trains)"
   ]
  },
  {
   "cell_type": "code",
   "execution_count": 102,
   "metadata": {},
   "outputs": [
    {
     "data": {
      "text/html": [
       "<div>\n",
       "<style scoped>\n",
       "    .dataframe tbody tr th:only-of-type {\n",
       "        vertical-align: middle;\n",
       "    }\n",
       "\n",
       "    .dataframe tbody tr th {\n",
       "        vertical-align: top;\n",
       "    }\n",
       "\n",
       "    .dataframe thead th {\n",
       "        text-align: right;\n",
       "    }\n",
       "</style>\n",
       "<table border=\"1\" class=\"dataframe\">\n",
       "  <thead>\n",
       "    <tr style=\"text-align: right;\">\n",
       "      <th></th>\n",
       "      <th>query</th>\n",
       "      <th>title</th>\n",
       "      <th>body</th>\n",
       "      <th>user</th>\n",
       "      <th>rel</th>\n",
       "    </tr>\n",
       "  </thead>\n",
       "  <tbody>\n",
       "    <tr>\n",
       "      <th>237175</th>\n",
       "      <td>0 5 ставки что с индексацией зп украина</td>\n",
       "      <td>Порядок индексации зарплаты в 2019 году</td>\n",
       "      <td>Про индексацию зарплаты с 1 января 2019 года р...</td>\n",
       "      <td>Журнал Упрощёнка</td>\n",
       "      <td>1</td>\n",
       "    </tr>\n",
       "    <tr>\n",
       "      <th>192594</th>\n",
       "      <td>0 5 ставки что с индексацией зп украина</td>\n",
       "      <td>Порядок индексации зарплаты в 2019 году</td>\n",
       "      <td>Про индексацию зарплаты с 1 января 2019 года р...</td>\n",
       "      <td>NaN</td>\n",
       "      <td>1</td>\n",
       "    </tr>\n",
       "    <tr>\n",
       "      <th>83242</th>\n",
       "      <td>02 hulk hogan</td>\n",
       "      <td>MTV - По домам - Hulk Hogan (02.01.2010)</td>\n",
       "      <td>Hulk Hogan</td>\n",
       "      <td>NaN</td>\n",
       "      <td>2</td>\n",
       "    </tr>\n",
       "    <tr>\n",
       "      <th>83241</th>\n",
       "      <td>02 hulk hogan</td>\n",
       "      <td>MTV - По домам - Hulk Hogan (02.01.2010)</td>\n",
       "      <td>Hulk Hogan</td>\n",
       "      <td>NaN</td>\n",
       "      <td>2</td>\n",
       "    </tr>\n",
       "    <tr>\n",
       "      <th>167319</th>\n",
       "      <td>05 крокодил virtual insanity cover</td>\n",
       "      <td>Beatles Style UK Rock</td>\n",
       "      <td>01. Viva la Vida (Coldplay cover) (0:00)  02. ...</td>\n",
       "      <td>Марк Маренин</td>\n",
       "      <td>1</td>\n",
       "    </tr>\n",
       "  </tbody>\n",
       "</table>\n",
       "</div>"
      ],
      "text/plain": [
       "                                          query  \\\n",
       "237175  0 5 ставки что с индексацией зп украина   \n",
       "192594  0 5 ставки что с индексацией зп украина   \n",
       "83242                             02 hulk hogan   \n",
       "83241                             02 hulk hogan   \n",
       "167319       05 крокодил virtual insanity cover   \n",
       "\n",
       "                                           title  \\\n",
       "237175   Порядок индексации зарплаты в 2019 году   \n",
       "192594   Порядок индексации зарплаты в 2019 году   \n",
       "83242   MTV - По домам - Hulk Hogan (02.01.2010)   \n",
       "83241   MTV - По домам - Hulk Hogan (02.01.2010)   \n",
       "167319                     Beatles Style UK Rock   \n",
       "\n",
       "                                                     body              user  \\\n",
       "237175  Про индексацию зарплаты с 1 января 2019 года р...  Журнал Упрощёнка   \n",
       "192594  Про индексацию зарплаты с 1 января 2019 года р...               NaN   \n",
       "83242                                          Hulk Hogan               NaN   \n",
       "83241                                          Hulk Hogan               NaN   \n",
       "167319  01. Viva la Vida (Coldplay cover) (0:00)  02. ...      Марк Маренин   \n",
       "\n",
       "        rel  \n",
       "237175    1  \n",
       "192594    1  \n",
       "83242     2  \n",
       "83241     2  \n",
       "167319    1  "
      ]
     },
     "execution_count": 102,
     "metadata": {},
     "output_type": "execute_result"
    }
   ],
   "source": [
    "tmp = new_trains[\"old_sq\"][0]\n",
    "tmp[tmp.duplicated(subset=[\"query\", \"title\"], keep=False)].sort_values(\"query\").head()"
   ]
  },
  {
   "cell_type": "code",
   "execution_count": 104,
   "metadata": {},
   "outputs": [
    {
     "data": {
      "text/html": [
       "<div>\n",
       "<style scoped>\n",
       "    .dataframe tbody tr th:only-of-type {\n",
       "        vertical-align: middle;\n",
       "    }\n",
       "\n",
       "    .dataframe tbody tr th {\n",
       "        vertical-align: top;\n",
       "    }\n",
       "\n",
       "    .dataframe thead th {\n",
       "        text-align: right;\n",
       "    }\n",
       "</style>\n",
       "<table border=\"1\" class=\"dataframe\">\n",
       "  <thead>\n",
       "    <tr style=\"text-align: right;\">\n",
       "      <th></th>\n",
       "      <th>query</th>\n",
       "      <th>title</th>\n",
       "      <th>body</th>\n",
       "      <th>user</th>\n",
       "      <th>rel</th>\n",
       "    </tr>\n",
       "  </thead>\n",
       "  <tbody>\n",
       "    <tr>\n",
       "      <th>315884</th>\n",
       "      <td>сосать волосатый клитор</td>\n",
       "      <td># Секс # Порно # Девушки # Sex # Porn # Girls ...</td>\n",
       "      <td># Секс # Порно # Девушки # Sex # Porn # Girls ...</td>\n",
       "      <td>NaN</td>\n",
       "      <td>1</td>\n",
       "    </tr>\n",
       "    <tr>\n",
       "      <th>315881</th>\n",
       "      <td>сосать волосатый клитор</td>\n",
       "      <td># Секс # Порно # Девушки # Sex # Porn # Girls ...</td>\n",
       "      <td># Секс # Порно # Девушки # Sex # Porn # Girls ...</td>\n",
       "      <td>NaN</td>\n",
       "      <td>1</td>\n",
       "    </tr>\n",
       "    <tr>\n",
       "      <th>315880</th>\n",
       "      <td>сосать волосатый клитор</td>\n",
       "      <td># Секс # Порно # Девушки # Sex # Porn # Girls ...</td>\n",
       "      <td># Секс # Порно # Девушки # Sex # Porn # Girls ...</td>\n",
       "      <td>NaN</td>\n",
       "      <td>3</td>\n",
       "    </tr>\n",
       "    <tr>\n",
       "      <th>315879</th>\n",
       "      <td>сосать волосатый клитор</td>\n",
       "      <td># Секс # Порно # Девушки # Sex # Porn # Girls ...</td>\n",
       "      <td># Секс # Порно # Девушки # Sex # Porn # Girls ...</td>\n",
       "      <td>NaN</td>\n",
       "      <td>1</td>\n",
       "    </tr>\n",
       "    <tr>\n",
       "      <th>315883</th>\n",
       "      <td>сосать волосатый клитор</td>\n",
       "      <td># Секс # Порно # Девушки # Sex # Porn # Girls ...</td>\n",
       "      <td># Секс # Порно # Девушки # Sex # Porn # Girls ...</td>\n",
       "      <td>NaN</td>\n",
       "      <td>3</td>\n",
       "    </tr>\n",
       "  </tbody>\n",
       "</table>\n",
       "</div>"
      ],
      "text/plain": [
       "                          query  \\\n",
       "315884  сосать волосатый клитор   \n",
       "315881  сосать волосатый клитор   \n",
       "315880  сосать волосатый клитор   \n",
       "315879  сосать волосатый клитор   \n",
       "315883  сосать волосатый клитор   \n",
       "\n",
       "                                                    title  \\\n",
       "315884  # Секс # Порно # Девушки # Sex # Porn # Girls ...   \n",
       "315881  # Секс # Порно # Девушки # Sex # Porn # Girls ...   \n",
       "315880  # Секс # Порно # Девушки # Sex # Porn # Girls ...   \n",
       "315879  # Секс # Порно # Девушки # Sex # Porn # Girls ...   \n",
       "315883  # Секс # Порно # Девушки # Sex # Porn # Girls ...   \n",
       "\n",
       "                                                     body  user  rel  \n",
       "315884  # Секс # Порно # Девушки # Sex # Porn # Girls ...   NaN    1  \n",
       "315881  # Секс # Порно # Девушки # Sex # Porn # Girls ...   NaN    1  \n",
       "315880  # Секс # Порно # Девушки # Sex # Porn # Girls ...   NaN    3  \n",
       "315879  # Секс # Порно # Девушки # Sex # Porn # Girls ...   NaN    1  \n",
       "315883  # Секс # Порно # Девушки # Sex # Porn # Girls ...   NaN    3  "
      ]
     },
     "execution_count": 104,
     "metadata": {},
     "output_type": "execute_result"
    }
   ],
   "source": [
    "tmp = old_trains[\"old_sq\"][0]\n",
    "tmp[tmp.duplicated(subset=[\"query\", \"title\"], keep=False)].sort_values(\"title\").head()"
   ]
  },
  {
   "cell_type": "markdown",
   "metadata": {},
   "source": [
    "### Check duplicate"
   ]
  },
  {
   "cell_type": "code",
   "execution_count": 105,
   "metadata": {},
   "outputs": [],
   "source": [
    "# !ls ../../datasets/test_video_wt_dropdupl/vk_rich_serps_markers"
   ]
  },
  {
   "cell_type": "code",
   "execution_count": 11,
   "metadata": {},
   "outputs": [
    {
     "name": "stderr",
     "output_type": "stream",
     "text": [
      "/home/armen.kocharyan/dev_env/lib/python3.8/site-packages/IPython/core/interactiveshell.py:3508: DtypeWarning: Columns (3) have mixed types.Specify dtype option on import or set low_memory=False.\n",
      "  exec(code_obj, self.user_global_ns, self.user_ns)\n"
     ]
    }
   ],
   "source": [
    "base_path = \"../../datasets/test_video_wt_dropdupl/vk_rich_serps_markers\"\n",
    "file_path = os.path.join(base_path, \"data_train.tsv\")\n",
    "df = pd.read_csv(file_path, sep='\\t', header=None).rename(columns={k:v for k,v in enumerate([\"query\", \"title\", \"body\", \"user\", \"rel\"])})"
   ]
  },
  {
   "cell_type": "code",
   "execution_count": 35,
   "metadata": {},
   "outputs": [
    {
     "data": {
      "text/html": [
       "<div>\n",
       "<style scoped>\n",
       "    .dataframe tbody tr th:only-of-type {\n",
       "        vertical-align: middle;\n",
       "    }\n",
       "\n",
       "    .dataframe tbody tr th {\n",
       "        vertical-align: top;\n",
       "    }\n",
       "\n",
       "    .dataframe thead th {\n",
       "        text-align: right;\n",
       "    }\n",
       "</style>\n",
       "<table border=\"1\" class=\"dataframe\">\n",
       "  <thead>\n",
       "    <tr style=\"text-align: right;\">\n",
       "      <th></th>\n",
       "      <th>query</th>\n",
       "      <th>title</th>\n",
       "      <th>body</th>\n",
       "      <th>user</th>\n",
       "      <th>rel</th>\n",
       "    </tr>\n",
       "  </thead>\n",
       "  <tbody>\n",
       "    <tr>\n",
       "      <th>273492</th>\n",
       "      <td>гарри поттер 2 часть</td>\n",
       "      <td>Harry Potter 2 » Гарри Поттер 2</td>\n",
       "      <td>Второй год обучения в Хогвартсе начался дл...</td>\n",
       "      <td>мир волшебства × quiet pool</td>\n",
       "      <td>0</td>\n",
       "    </tr>\n",
       "    <tr>\n",
       "      <th>273493</th>\n",
       "      <td>гарри поттер 2 часть</td>\n",
       "      <td>Harry Potter 2 » Гарри Поттер 2</td>\n",
       "      <td>Второй год обучения в Хогвартсе начался дл...</td>\n",
       "      <td>мир волшебства × quiet pool</td>\n",
       "      <td>0</td>\n",
       "    </tr>\n",
       "    <tr>\n",
       "      <th>273496</th>\n",
       "      <td>гарри поттер 3 часть</td>\n",
       "      <td>Harry Potter 3 » Гарри Поттер 3</td>\n",
       "      <td>Летние каникулы, которые Гарри Поттер выну...</td>\n",
       "      <td>мир волшебства × quiet pool</td>\n",
       "      <td>0</td>\n",
       "    </tr>\n",
       "    <tr>\n",
       "      <th>273494</th>\n",
       "      <td>гарри поттер 3 часть</td>\n",
       "      <td>Harry Potter 3 » Гарри Поттер 3</td>\n",
       "      <td>Летние каникулы, которые Гарри Поттер выну...</td>\n",
       "      <td>мир волшебства × quiet pool</td>\n",
       "      <td>0</td>\n",
       "    </tr>\n",
       "    <tr>\n",
       "      <th>273497</th>\n",
       "      <td>гарри поттер 3 часть</td>\n",
       "      <td>Harry Potter 3 » Гарри Поттер 3</td>\n",
       "      <td>Летние каникулы, которые Гарри Поттер выну...</td>\n",
       "      <td>мир волшебства × quiet pool</td>\n",
       "      <td>0</td>\n",
       "    </tr>\n",
       "  </tbody>\n",
       "</table>\n",
       "</div>"
      ],
      "text/plain": [
       "                       query                             title  \\\n",
       "273492  гарри поттер 2 часть   Harry Potter 2 » Гарри Поттер 2   \n",
       "273493  гарри поттер 2 часть   Harry Potter 2 » Гарри Поттер 2   \n",
       "273496  гарри поттер 3 часть   Harry Potter 3 » Гарри Поттер 3   \n",
       "273494  гарри поттер 3 часть   Harry Potter 3 » Гарри Поттер 3   \n",
       "273497  гарри поттер 3 часть   Harry Potter 3 » Гарри Поттер 3   \n",
       "\n",
       "                                                     body  \\\n",
       "273492      Второй год обучения в Хогвартсе начался дл...   \n",
       "273493      Второй год обучения в Хогвартсе начался дл...   \n",
       "273496      Летние каникулы, которые Гарри Поттер выну...   \n",
       "273494      Летние каникулы, которые Гарри Поттер выну...   \n",
       "273497      Летние каникулы, которые Гарри Поттер выну...   \n",
       "\n",
       "                               user  rel  \n",
       "273492  мир волшебства × quiet pool    0  \n",
       "273493  мир волшебства × quiet pool    0  \n",
       "273496  мир волшебства × quiet pool    0  \n",
       "273494  мир волшебства × quiet pool    0  \n",
       "273497  мир волшебства × quiet pool    0  "
      ]
     },
     "execution_count": 35,
     "metadata": {},
     "output_type": "execute_result"
    }
   ],
   "source": [
    "df[df.duplicated(subset=[\"query\", \"title\"], keep=False)].sort_values('title').head()"
   ]
  },
  {
   "cell_type": "code",
   "execution_count": null,
   "metadata": {},
   "outputs": [],
   "source": [
    "# При удалении дубликтов в серпах размер датасета сильно уменьшается, вот пример дубликатов "
   ]
  }
 ],
 "metadata": {
  "kernelspec": {
   "display_name": "dev_env",
   "language": "python",
   "name": "python3"
  },
  "language_info": {
   "codemirror_mode": {
    "name": "ipython",
    "version": 3
   },
   "file_extension": ".py",
   "mimetype": "text/x-python",
   "name": "python",
   "nbconvert_exporter": "python",
   "pygments_lexer": "ipython3",
   "version": "3.8.6"
  }
 },
 "nbformat": 4,
 "nbformat_minor": 2
}
