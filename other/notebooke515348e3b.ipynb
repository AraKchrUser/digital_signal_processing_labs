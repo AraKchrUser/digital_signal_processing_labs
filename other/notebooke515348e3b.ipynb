{
 "cells": [
  {
   "cell_type": "code",
   "execution_count": 1,
   "metadata": {
    "execution": {
     "iopub.execute_input": "2023-10-07T19:59:36.646215Z",
     "iopub.status.busy": "2023-10-07T19:59:36.645863Z",
     "iopub.status.idle": "2023-10-07T19:59:50.941338Z",
     "shell.execute_reply": "2023-10-07T19:59:50.940154Z",
     "shell.execute_reply.started": "2023-10-07T19:59:36.646192Z"
    }
   },
   "outputs": [],
   "source": [
    "# !pip install torch==1.12.1+cu113 torchvision==0.13.1+cu113 torchaudio==0.12.1 --extra-index-url https://download.pytorch.org/whl/cu113\n",
    "# !pip install transformers\n",
    "# %pip install lightning"
   ]
  },
  {
   "cell_type": "code",
   "execution_count": 1,
   "metadata": {},
   "outputs": [],
   "source": [
    "import os\n",
    "os.environ[\"http_proxy\"] = \"http://proxy.ad.speechpro.com:3128\"\n",
    "os.environ[\"https_proxy\"] = \"http://proxy.ad.speechpro.com:3128\"\n",
    "os.environ[\"ftp_proxy\"] = \"http://proxy.ad.speechpro.com:3128\""
   ]
  },
  {
   "cell_type": "code",
   "execution_count": 2,
   "metadata": {
    "_cell_guid": "b1076dfc-b9ad-4769-8c92-a6c4dae69d19",
    "_uuid": "8f2839f25d086af736a60e9eeb907d3b93b6e0e5",
    "execution": {
     "iopub.execute_input": "2023-10-07T19:59:50.943728Z",
     "iopub.status.busy": "2023-10-07T19:59:50.943382Z",
     "iopub.status.idle": "2023-10-07T20:00:05.704535Z",
     "shell.execute_reply": "2023-10-07T20:00:05.703619Z",
     "shell.execute_reply.started": "2023-10-07T19:59:50.943695Z"
    }
   },
   "outputs": [
    {
     "name": "stderr",
     "output_type": "stream",
     "text": [
      "/mnt/storage/kocharyan/sambashare/ITMO_LABS/ML/venv/local/lib/python3.8/site-packages/tqdm/auto.py:21: TqdmWarning: IProgress not found. Please update jupyter and ipywidgets. See https://ipywidgets.readthedocs.io/en/stable/user_install.html\n",
      "  from .autonotebook import tqdm as notebook_tqdm\n",
      "/mnt/storage/kocharyan/sambashare/ITMO_LABS/ML/venv/local/lib/python3.8/site-packages/torchvision/io/image.py:13: UserWarning: Failed to load image Python extension: libtorch_cuda_cu.so: cannot open shared object file: No such file or directory\n",
      "  warn(f\"Failed to load image Python extension: {e}\")\n"
     ]
    }
   ],
   "source": [
    "# This Python 3 environment comes with many helpful analytics libraries installed\n",
    "# It is defined by the kaggle/python Docker image: https://github.com/kaggle/docker-python\n",
    "# For example, here's several helpful packages to load\n",
    "\n",
    "import numpy as np # linear algebra\n",
    "import pandas as pd # data processing, CSV file I/O (e.g. pd.read_csv)\n",
    "import csv\n",
    "import os\n",
    "import re\n",
    "import argparse\n",
    "\n",
    "import transformers\n",
    "import torch\n",
    "from torch import optim\n",
    "from torch.utils.data import DataLoader\n",
    "import torchmetrics\n",
    "from tqdm import tqdm\n",
    "import lightning.pytorch as pl\n",
    "\n",
    "from sklearn.preprocessing import LabelEncoder\n",
    "from sklearn.model_selection import train_test_split\n",
    "\n",
    "\n",
    "# for dirname, _, filenames in os.walk('/kaggle/input'):\n",
    "#     for filename in filenames:\n",
    "#         print(os.path.join(dirname, filename))\n",
    "# You can write up to 20GB to the current directory (/kaggle/working/) that gets preserved as output when you create a version using \"Save & Run All\" \n",
    "# You can also write temporary files to /kaggle/temp/, but they won't be saved outside of the current session"
   ]
  },
  {
   "cell_type": "code",
   "execution_count": 3,
   "metadata": {
    "execution": {
     "iopub.execute_input": "2023-10-07T20:00:05.707174Z",
     "iopub.status.busy": "2023-10-07T20:00:05.705845Z",
     "iopub.status.idle": "2023-10-07T20:00:06.709084Z",
     "shell.execute_reply": "2023-10-07T20:00:06.707959Z",
     "shell.execute_reply.started": "2023-10-07T20:00:05.707138Z"
    }
   },
   "outputs": [
    {
     "name": "stdout",
     "output_type": "stream",
     "text": [
      "Sun Oct  8 00:38:41 2023       \r\n",
      "+-----------------------------------------------------------------------------+\r\n",
      "| NVIDIA-SMI 515.105.01   Driver Version: 515.105.01   CUDA Version: 11.7     |\r\n",
      "|-------------------------------+----------------------+----------------------+\r\n",
      "| GPU  Name        Persistence-M| Bus-Id        Disp.A | Volatile Uncorr. ECC |\r\n",
      "| Fan  Temp  Perf  Pwr:Usage/Cap|         Memory-Usage | GPU-Util  Compute M. |\r\n",
      "|                               |                      |               MIG M. |\r\n",
      "|===============================+======================+======================|\r\n",
      "|   0  NVIDIA GeForce ...  Off  | 00000000:01:00.0 Off |                  Off |\r\n",
      "|  0%   46C    P8    21W / 450W |      0MiB / 24564MiB |      0%      Default |\r\n",
      "|                               |                      |                  N/A |\r\n",
      "+-------------------------------+----------------------+----------------------+\r\n",
      "                                                                               \r\n",
      "+-----------------------------------------------------------------------------+\r\n",
      "| Processes:                                                                  |\r\n",
      "|  GPU   GI   CI        PID   Type   Process name                  GPU Memory |\r\n",
      "|        ID   ID                                                   Usage      |\r\n",
      "|=============================================================================|\r\n",
      "|  No running processes found                                                 |\r\n",
      "+-----------------------------------------------------------------------------+\r\n"
     ]
    }
   ],
   "source": [
    "!nvidia-smi"
   ]
  },
  {
   "cell_type": "code",
   "execution_count": 4,
   "metadata": {
    "execution": {
     "iopub.execute_input": "2023-10-07T20:00:06.712557Z",
     "iopub.status.busy": "2023-10-07T20:00:06.712220Z",
     "iopub.status.idle": "2023-10-07T20:00:06.716976Z",
     "shell.execute_reply": "2023-10-07T20:00:06.715841Z",
     "shell.execute_reply.started": "2023-10-07T20:00:06.712532Z"
    }
   },
   "outputs": [],
   "source": [
    "# https://huggingface.co/datasets/mlsum\n",
    "# https://huggingface.co/d0rj/rut5-base-summ\n",
    "# https://huggingface.co/d0rj/ru-mbart-large-summ\n",
    "# https://huggingface.co/cointegrated/rut5-base-absum\n",
    "# https://huggingface.co/Ravencer/rut5_base_sum_gazeta-finetuned-mlsum"
   ]
  },
  {
   "cell_type": "code",
   "execution_count": 39,
   "metadata": {
    "execution": {
     "iopub.execute_input": "2023-10-07T20:00:06.719293Z",
     "iopub.status.busy": "2023-10-07T20:00:06.718841Z",
     "iopub.status.idle": "2023-10-07T20:00:06.745298Z",
     "shell.execute_reply": "2023-10-07T20:00:06.744382Z",
     "shell.execute_reply.started": "2023-10-07T20:00:06.719145Z"
    }
   },
   "outputs": [],
   "source": [
    "def build_dataset(path):\n",
    "    ds_json = pd.read_json(path)\n",
    "    df_texts = []\n",
    "    df_lables = []\n",
    "    for col in ds_json:\n",
    "        topic = ds_json[col]\n",
    "        for title, text in zip(topic.loc['titles'], topic.loc['texts']):\n",
    "            df_texts.append(title + \" \" + text)\n",
    "            df_lables.append(col)\n",
    "    df = pd.DataFrame({\"label\": df_lables, \"text\": df_texts})\n",
    "    return df\n",
    "\n",
    "def clean_text(text):\n",
    "    s = text.lower()\n",
    "    s = re.sub(\"[^а-яА-Яa-zA-Z0-9]\", \" \", s)\n",
    "    s = re.sub(\"\\s+\", \" \", s)\n",
    "    s = s.strip()\n",
    "    return s\n",
    "\n",
    "\n",
    "class DataT5(torch.utils.data.Dataset):\n",
    "    \n",
    "    def __init__(self, data, tokenizer):\n",
    "        self.data = data\n",
    "        self.tokenizer = tokenizer\n",
    "        self.max_len = 512\n",
    "        self.inputs = []\n",
    "        self.targets = []\n",
    "        self.data_col = 'text'\n",
    "        self.class_col = 'label'\n",
    "        self._build()\n",
    "    \n",
    "    def __len__(self):\n",
    "        return len(self.inputs)\n",
    "    \n",
    "    def __getitem__(self, index):\n",
    "        source_ids = self.inputs[index][\"input_ids\"].squeeze()\n",
    "        target_ids = self.targets[index][\"input_ids\"].squeeze()\n",
    "        src_mask = self.inputs[index][\"attention_mask\"].squeeze()\n",
    "        target_mask = self.targets[index][\"attention_mask\"].squeeze()\n",
    "        return {\"source_ids\": source_ids, \"source_mask\": src_mask, \n",
    "                \"targets_ids\": target_ids, \"target_mask\": target_mask}\n",
    "    \n",
    "    def _build(self):\n",
    "        for idx in range(len(self.data)):\n",
    "            input_, target = self.data.loc[idx, self.data_col], self.data.loc[idx, self.class_col]\n",
    "            input_ = input_ + ' '\n",
    "            target = target + \" \"\n",
    "            tokens_for_inp = self.tokenizer.batch_encode_plus(\n",
    "                [input_], max_length=self.max_len, pad_to_max_length=True, return_tensors=\"pt\"\n",
    "            )\n",
    "            tokens_for_trg = self.tokenizer.batch_encode_plus(\n",
    "                [target], max_length=self.max_len, pad_to_max_length=True, return_tensors=\"pt\"\n",
    "            )\n",
    "            self.inputs.append(tokens_for_inp)\n",
    "            self.targets.append(tokens_for_trg)\n",
    "    \n",
    "\n",
    "class GenreClassificationT5(pl.LightningModule):\n",
    "    \n",
    "    def __init__(self, hparams):\n",
    "        print(\"====>Init model...\")\n",
    "        super().__init__()\n",
    "        self.save_hyperparameters(hparams)\n",
    "        \n",
    "        self.tokenizer = transformers.T5Tokenizer.from_pretrained(self.hparams.pretrain)\n",
    "        self.model = transformers.T5ForConditionalGeneration.from_pretrained(self.hparams.pretrain)\n",
    "        self.accuracy = torchmetrics.Accuracy(task=self.hparams.task, num_classes=self.hparams.num_classes)\n",
    "        self.f1 = torchmetrics.F1Score(task=self.hparams.task, num_classes=self.hparams.num_classes)\n",
    "        self.train_output = []\n",
    "        self.val_output = []\n",
    "#         self.automatic_optimization = False\n",
    "        self.mapping = {'Экономика': 0, 'Спорт': 1, 'Культура': 2, 'Наука и техника': 3}\n",
    "    \n",
    "    def forward(self, input_ids, attention_mask=None, decoder_input_ids=None, decoder_attention_mask=None, lm_labels=None):\n",
    "        return self.model(\n",
    "            input_ids, \n",
    "            attention_mask=attention_mask, \n",
    "            decoder_input_ids=decoder_input_ids, \n",
    "            decoder_attention_mask=decoder_attention_mask, \n",
    "            labels=lm_labels,\n",
    "        )\n",
    "\n",
    "    def _step(self, batch):\n",
    "        lm_labels = batch[\"targets_ids\"]\n",
    "        lm_labels[lm_labels[:, :] == self.tokenizer.pad_token_id] = -100\n",
    "        outputs = self(\n",
    "            input_ids=batch[\"source_ids\"],\n",
    "            attention_mask=batch[\"source_mask\"],\n",
    "            lm_labels=lm_labels,\n",
    "            decoder_attention_mask=batch[\"target_mask\"],\n",
    "        )\n",
    "        loss = outputs[0]\n",
    "        return loss\n",
    "    \n",
    "    def training_step(self, batch, batch_idx):\n",
    "        loss = self._step(batch)\n",
    "        self.train_output.append({\"loss\": loss.detach().cpu()})\n",
    "        return {\"loss\": loss}\n",
    "    \n",
    "    def on_train_epoch_end(self):\n",
    "        avg_train_loss = torch.stack([x[\"loss\"] for x in self.train_output]).mean()\n",
    "        self.train_output.clear()\n",
    "        self.log(\"avg_train_loss\", avg_train_loss.detach().cpu().item(), prog_bar=True)\n",
    "    \n",
    "    def test_step(self, batch, batch_idx):\n",
    "        outs = self.model.generate(input_ids=batch[\"source_ids\"], attention_mask=batch[\"source_mask\"], max_length=2)\n",
    "        decs = [self.tokenizer.decode(ids, skip_special_tokens=True) for ids in outs]\n",
    "        targets = [self.tokenizer.decode(ids, skip_special_tokens=True) for ids in batch[\"targets_ids\"]]\n",
    "        self.val_output.append({\"decs\": decs, \"targets\": targets})\n",
    "    \n",
    "    def on_test_epoch_end(self):\n",
    "        decs = np.concatenate([x[\"decs\"] for x in self.val_output])\n",
    "        targets = np.concatenate([x[\"targets\"] for x in self.val_output])\n",
    "        decs = torch.tensor([*map(lambda x: self.mapping.get(x, 2), decs.tolist())], dtype=torch.int)\n",
    "        targets = torch.tensor([*map(lambda x: self.mapping.get(x, 2), targets.tolist())], dtype=torch.int)\n",
    "        acc = self.accuracy(decs, targets)\n",
    "        f1 = self.f1(decs, targets)\n",
    "        self.val_output.clear()\n",
    "        self.log(\"val_acc\", acc.detach().cpu().item(), prog_bar=True)\n",
    "        self.log(\"val_f1\", f1.detach().cpu().item(), prog_bar=True)\n",
    "        return {\"acc\": acc.detach().cpu().item(), \"f1\": f1.detach().cpu().item()}\n",
    "    \n",
    "    def configure_optimizers(self):\n",
    "        print(\"====>Configure opt start...\")\n",
    "        model = self.model\n",
    "        no_decay = [\"bias\", \"LayerNorm.weight\"]\n",
    "        optimizer_grouped_parameters = [\n",
    "            {\n",
    "                \"params\": [p for n, p in model.named_parameters() if not any(nd in n for nd in no_decay)],\n",
    "                \"weight_decay\": self.hparams.weight_decay,\n",
    "            },\n",
    "            {\n",
    "                \"params\": [p for n, p in model.named_parameters() if any(nd in n for nd in no_decay)],\n",
    "                \"weight_decay\": 0.0,\n",
    "            },\n",
    "        ]\n",
    "        optimizer = torch.optim.AdamW(optimizer_grouped_parameters, lr=self.hparams.learning_rate, eps=self.hparams.adam_epsilon)\n",
    "        self.opt = optimizer\n",
    "        print(\"====>Configure opt end...\")\n",
    "        return [optimizer]\n",
    "\n",
    "    \n",
    "#     def optimizer_step(self, epoch, batch_idx, optimizer, optimizer_idx, second_order_closure=None):\n",
    "#         optimizer.step()\n",
    "#         optimizer.zero_grad()\n",
    "#         self.lr_scheduler.step()\n",
    "\n",
    "    \n",
    "    def train_dataloader(self):\n",
    "        print(\"====> Get train loader\")\n",
    "        train_dataset = get_train_dataloader()\n",
    "        dataloader = DataLoader(train_dataset, batch_size=self.hparams.train_bs, drop_last=True, shuffle=True)\n",
    "        t_total = (\n",
    "            (len(dataloader.dataset) // (self.hparams.train_bs * max(1, self.hparams.n_gpu)))\n",
    "            // self.hparams.gradient_accumulation_steps\n",
    "            * float(self.hparams.epochs)\n",
    "        )\n",
    "        scheduler = transformers.get_linear_schedule_with_warmup(\n",
    "            self.opt, num_warmup_steps=self.hparams.warmup_steps, num_training_steps=t_total\n",
    "        )\n",
    "        self.lr_scheduler = scheduler\n",
    "        return dataloader\n",
    "    \n",
    "    def test_dataloader(self):\n",
    "        print(\"====> Get val loader\")\n",
    "        val_dataset = get_val_dataloader()\n",
    "        return DataLoader(val_dataset, batch_size=self.hparams.val_bs)"
   ]
  },
  {
   "cell_type": "code",
   "execution_count": 6,
   "metadata": {},
   "outputs": [],
   "source": [
    "# !unzip train_10000.json.zip"
   ]
  },
  {
   "cell_type": "code",
   "execution_count": 7,
   "metadata": {
    "execution": {
     "iopub.execute_input": "2023-10-07T20:00:06.747415Z",
     "iopub.status.busy": "2023-10-07T20:00:06.746668Z",
     "iopub.status.idle": "2023-10-07T20:00:14.031545Z",
     "shell.execute_reply": "2023-10-07T20:00:14.030612Z",
     "shell.execute_reply.started": "2023-10-07T20:00:06.747382Z"
    }
   },
   "outputs": [
    {
     "name": "stderr",
     "output_type": "stream",
     "text": [
      "/tmp/ipykernel_26537/3360862498.py:3: UserWarning: Pandas doesn't allow columns to be created via a new attribute name - see https://pandas.pydata.org/pandas-docs/stable/indexing.html#attribute-access\n",
      "  df.lable = df.label.apply(clean_text)\n"
     ]
    },
    {
     "name": "stdout",
     "output_type": "stream",
     "text": [
      "len(df)=36259\n"
     ]
    }
   ],
   "source": [
    "# pd.read_csv(\"/kaggle/input/nlp-itmo-exercise-1/archive/test.csv\").head()\n",
    "df = build_dataset(path='train_10000.json')\n",
    "df.lable = df.label.apply(clean_text)\n",
    "df.text = df.text.apply(clean_text)\n",
    "print(f\"{len(df)=}\")"
   ]
  },
  {
   "cell_type": "code",
   "execution_count": 8,
   "metadata": {
    "execution": {
     "iopub.execute_input": "2023-10-07T20:00:14.033697Z",
     "iopub.status.busy": "2023-10-07T20:00:14.033087Z",
     "iopub.status.idle": "2023-10-07T20:00:14.047864Z",
     "shell.execute_reply": "2023-10-07T20:00:14.046856Z",
     "shell.execute_reply.started": "2023-10-07T20:00:14.033665Z"
    }
   },
   "outputs": [
    {
     "data": {
      "text/html": [
       "<div>\n",
       "<style scoped>\n",
       "    .dataframe tbody tr th:only-of-type {\n",
       "        vertical-align: middle;\n",
       "    }\n",
       "\n",
       "    .dataframe tbody tr th {\n",
       "        vertical-align: top;\n",
       "    }\n",
       "\n",
       "    .dataframe thead th {\n",
       "        text-align: right;\n",
       "    }\n",
       "</style>\n",
       "<table border=\"1\" class=\"dataframe\">\n",
       "  <thead>\n",
       "    <tr style=\"text-align: right;\">\n",
       "      <th></th>\n",
       "      <th>label</th>\n",
       "      <th>text</th>\n",
       "    </tr>\n",
       "  </thead>\n",
       "  <tbody>\n",
       "    <tr>\n",
       "      <th>0</th>\n",
       "      <td>Экономика</td>\n",
       "      <td>телеканалы станут вещать по единому тарифу с 1...</td>\n",
       "    </tr>\n",
       "    <tr>\n",
       "      <th>1</th>\n",
       "      <td>Экономика</td>\n",
       "      <td>volkswagen выкупает остатки акций шкоды герман...</td>\n",
       "    </tr>\n",
       "    <tr>\n",
       "      <th>2</th>\n",
       "      <td>Экономика</td>\n",
       "      <td>прибыль тюменнефтегаза возросла в 10 раз нерас...</td>\n",
       "    </tr>\n",
       "    <tr>\n",
       "      <th>3</th>\n",
       "      <td>Экономика</td>\n",
       "      <td>крупнейшее в истории слияние компаний происход...</td>\n",
       "    </tr>\n",
       "    <tr>\n",
       "      <th>4</th>\n",
       "      <td>Экономика</td>\n",
       "      <td>газ получил четверть обещанного кредита оао га...</td>\n",
       "    </tr>\n",
       "  </tbody>\n",
       "</table>\n",
       "</div>"
      ],
      "text/plain": [
       "       label                                               text\n",
       "0  Экономика  телеканалы станут вещать по единому тарифу с 1...\n",
       "1  Экономика  volkswagen выкупает остатки акций шкоды герман...\n",
       "2  Экономика  прибыль тюменнефтегаза возросла в 10 раз нерас...\n",
       "3  Экономика  крупнейшее в истории слияние компаний происход...\n",
       "4  Экономика  газ получил четверть обещанного кредита оао га..."
      ]
     },
     "execution_count": 8,
     "metadata": {},
     "output_type": "execute_result"
    }
   ],
   "source": [
    "df.head()"
   ]
  },
  {
   "cell_type": "code",
   "execution_count": 9,
   "metadata": {
    "execution": {
     "iopub.execute_input": "2023-10-07T20:00:14.050004Z",
     "iopub.status.busy": "2023-10-07T20:00:14.049375Z",
     "iopub.status.idle": "2023-10-07T20:00:14.308805Z",
     "shell.execute_reply": "2023-10-07T20:00:14.307921Z",
     "shell.execute_reply.started": "2023-10-07T20:00:14.049974Z"
    }
   },
   "outputs": [
    {
     "data": {
      "text/plain": [
       "<Axes: xlabel='label'>"
      ]
     },
     "execution_count": 9,
     "metadata": {},
     "output_type": "execute_result"
    },
    {
     "data": {
      "image/png": "[encoded data removed]",
      "text/plain": [
       "<Figure size 640x480 with 1 Axes>"
      ]
     },
     "metadata": {},
     "output_type": "display_data"
    }
   ],
   "source": [
    "# Exploratory Data Analysis: https://www.kaggle.com/code/prithvijaunjale/t5-multi-label-classification\n",
    "# Model: https://github.com/patil-suraj/exploring-T5/blob/master/t5_fine_tuning.ipynb\n",
    "df.lable.value_counts().plot.bar()"
   ]
  },
  {
   "cell_type": "code",
   "execution_count": 10,
   "metadata": {
    "execution": {
     "iopub.execute_input": "2023-10-07T20:00:14.310785Z",
     "iopub.status.busy": "2023-10-07T20:00:14.310169Z",
     "iopub.status.idle": "2023-10-07T20:00:16.181163Z",
     "shell.execute_reply": "2023-10-07T20:00:16.180293Z",
     "shell.execute_reply.started": "2023-10-07T20:00:14.310752Z"
    }
   },
   "outputs": [
    {
     "name": "stderr",
     "output_type": "stream",
     "text": [
      "You are using the default legacy behaviour of the <class 'transformers.models.t5.tokenization_t5.T5Tokenizer'>. If you see this, DO NOT PANIC! This is expected, and simply means that the `legacy` (previous) behavior will be used so nothing changes for you. If you want to use the new behaviour, set `legacy=False`. This should only be set if you understand what it means, and thouroughly read the reason why this was added as explained in https://github.com/huggingface/transformers/pull/24565\n"
     ]
    },
    {
     "name": "stdout",
     "output_type": "stream",
     "text": [
      "['Экономика' 'Спорт' 'Культура' 'Наука и техника']\n",
      "3\n",
      "2\n",
      "3\n",
      "6\n"
     ]
    }
   ],
   "source": [
    "# model = transformers.T5ForConditionalGeneration.from_pretrained(\"cointegrated/rut5-base-absum\")\n",
    "tokenizer = transformers.T5Tokenizer.from_pretrained(\"cointegrated/rut5-base-absum\")\n",
    "print(pd.unique(df.label))\n",
    "labels = pd.unique(df.label)\n",
    "for label in labels:\n",
    "    print(len(tokenizer.encode(label)))"
   ]
  },
  {
   "cell_type": "code",
   "execution_count": 11,
   "metadata": {
    "execution": {
     "iopub.execute_input": "2023-10-07T20:00:16.184763Z",
     "iopub.status.busy": "2023-10-07T20:00:16.184467Z",
     "iopub.status.idle": "2023-10-07T20:00:16.198925Z",
     "shell.execute_reply": "2023-10-07T20:00:16.198056Z",
     "shell.execute_reply.started": "2023-10-07T20:00:16.184742Z"
    }
   },
   "outputs": [],
   "source": [
    "X_train, X_test, y_train, y_test = train_test_split(df.text, df.label, test_size=0.20, random_state=42)\n",
    "train_dataset = pd.concat([X_train, y_train], axis=1)\n",
    "val_dataset = pd.concat([X_test,y_test], axis=1)"
   ]
  },
  {
   "cell_type": "code",
   "execution_count": 12,
   "metadata": {
    "execution": {
     "iopub.execute_input": "2023-10-07T20:00:16.201097Z",
     "iopub.status.busy": "2023-10-07T20:00:16.200355Z",
     "iopub.status.idle": "2023-10-07T20:00:16.209992Z",
     "shell.execute_reply": "2023-10-07T20:00:16.208990Z",
     "shell.execute_reply.started": "2023-10-07T20:00:16.201035Z"
    }
   },
   "outputs": [
    {
     "data": {
      "text/html": [
       "<div>\n",
       "<style scoped>\n",
       "    .dataframe tbody tr th:only-of-type {\n",
       "        vertical-align: middle;\n",
       "    }\n",
       "\n",
       "    .dataframe tbody tr th {\n",
       "        vertical-align: top;\n",
       "    }\n",
       "\n",
       "    .dataframe thead th {\n",
       "        text-align: right;\n",
       "    }\n",
       "</style>\n",
       "<table border=\"1\" class=\"dataframe\">\n",
       "  <thead>\n",
       "    <tr style=\"text-align: right;\">\n",
       "      <th></th>\n",
       "      <th>text</th>\n",
       "      <th>label</th>\n",
       "    </tr>\n",
       "  </thead>\n",
       "  <tbody>\n",
       "    <tr>\n",
       "      <th>24047</th>\n",
       "      <td>мадонна прервала турне из за расстройства желу...</td>\n",
       "      <td>Культура</td>\n",
       "    </tr>\n",
       "    <tr>\n",
       "      <th>25551</th>\n",
       "      <td>пять дней проката войны миров стоили зрителям ...</td>\n",
       "      <td>Культура</td>\n",
       "    </tr>\n",
       "    <tr>\n",
       "      <th>12506</th>\n",
       "      <td>болельщики выбрали самых некрасивых игроков фу...</td>\n",
       "      <td>Спорт</td>\n",
       "    </tr>\n",
       "    <tr>\n",
       "      <th>15628</th>\n",
       "      <td>португальцы извинились перед овчинниковым за у...</td>\n",
       "      <td>Спорт</td>\n",
       "    </tr>\n",
       "    <tr>\n",
       "      <th>5665</th>\n",
       "      <td>государство гарантирует спокойный сон вкладчик...</td>\n",
       "      <td>Экономика</td>\n",
       "    </tr>\n",
       "  </tbody>\n",
       "</table>\n",
       "</div>"
      ],
      "text/plain": [
       "                                                    text      label\n",
       "24047  мадонна прервала турне из за расстройства желу...   Культура\n",
       "25551  пять дней проката войны миров стоили зрителям ...   Культура\n",
       "12506  болельщики выбрали самых некрасивых игроков фу...      Спорт\n",
       "15628  португальцы извинились перед овчинниковым за у...      Спорт\n",
       "5665   государство гарантирует спокойный сон вкладчик...  Экономика"
      ]
     },
     "execution_count": 12,
     "metadata": {},
     "output_type": "execute_result"
    }
   ],
   "source": [
    "train_dataset.head()"
   ]
  },
  {
   "cell_type": "code",
   "execution_count": 13,
   "metadata": {
    "execution": {
     "iopub.execute_input": "2023-10-07T20:00:16.211953Z",
     "iopub.status.busy": "2023-10-07T20:00:16.211335Z",
     "iopub.status.idle": "2023-10-07T20:00:16.222723Z",
     "shell.execute_reply": "2023-10-07T20:00:16.221779Z",
     "shell.execute_reply.started": "2023-10-07T20:00:16.211924Z"
    }
   },
   "outputs": [
    {
     "data": {
      "text/html": [
       "<div>\n",
       "<style scoped>\n",
       "    .dataframe tbody tr th:only-of-type {\n",
       "        vertical-align: middle;\n",
       "    }\n",
       "\n",
       "    .dataframe tbody tr th {\n",
       "        vertical-align: top;\n",
       "    }\n",
       "\n",
       "    .dataframe thead th {\n",
       "        text-align: right;\n",
       "    }\n",
       "</style>\n",
       "<table border=\"1\" class=\"dataframe\">\n",
       "  <thead>\n",
       "    <tr style=\"text-align: right;\">\n",
       "      <th></th>\n",
       "      <th>text</th>\n",
       "      <th>label</th>\n",
       "    </tr>\n",
       "  </thead>\n",
       "  <tbody>\n",
       "    <tr>\n",
       "      <th>7801</th>\n",
       "      <td>налоговиков заставили отменить черный список б...</td>\n",
       "      <td>Экономика</td>\n",
       "    </tr>\n",
       "    <tr>\n",
       "      <th>17792</th>\n",
       "      <td>костя цзю я был слабее хаттона бывший абсолютн...</td>\n",
       "      <td>Спорт</td>\n",
       "    </tr>\n",
       "    <tr>\n",
       "      <th>843</th>\n",
       "      <td>выборы главы мвф будут безальтернативными перв...</td>\n",
       "      <td>Экономика</td>\n",
       "    </tr>\n",
       "    <tr>\n",
       "      <th>21971</th>\n",
       "      <td>константин хабенский переквалифицировался в жу...</td>\n",
       "      <td>Культура</td>\n",
       "    </tr>\n",
       "    <tr>\n",
       "      <th>15978</th>\n",
       "      <td>в москве действует 17 фанатских футбольных гру...</td>\n",
       "      <td>Спорт</td>\n",
       "    </tr>\n",
       "  </tbody>\n",
       "</table>\n",
       "</div>"
      ],
      "text/plain": [
       "                                                    text      label\n",
       "7801   налоговиков заставили отменить черный список б...  Экономика\n",
       "17792  костя цзю я был слабее хаттона бывший абсолютн...      Спорт\n",
       "843    выборы главы мвф будут безальтернативными перв...  Экономика\n",
       "21971  константин хабенский переквалифицировался в жу...   Культура\n",
       "15978  в москве действует 17 фанатских футбольных гру...      Спорт"
      ]
     },
     "execution_count": 13,
     "metadata": {},
     "output_type": "execute_result"
    }
   ],
   "source": [
    "val_dataset.head()"
   ]
  },
  {
   "cell_type": "code",
   "execution_count": 14,
   "metadata": {
    "execution": {
     "iopub.execute_input": "2023-10-07T20:00:16.224696Z",
     "iopub.status.busy": "2023-10-07T20:00:16.224371Z",
     "iopub.status.idle": "2023-10-07T20:01:34.915753Z",
     "shell.execute_reply": "2023-10-07T20:01:34.914837Z",
     "shell.execute_reply.started": "2023-10-07T20:00:16.224666Z"
    }
   },
   "outputs": [
    {
     "name": "stderr",
     "output_type": "stream",
     "text": [
      "Truncation was not explicitly activated but `max_length` is provided a specific value, please use `truncation=True` to explicitly truncate examples to max length. Defaulting to 'longest_first' truncation strategy. If you encode pairs of sequences (GLUE-style) with the tokenizer you can select this strategy more precisely by providing a specific strategy to `truncation`.\n",
      "/mnt/storage/kocharyan/sambashare/ITMO_LABS/ML/venv/local/lib/python3.8/site-packages/transformers/tokenization_utils_base.py:2418: FutureWarning: The `pad_to_max_length` argument is deprecated and will be removed in a future version, use `padding=True` or `padding='longest'` to pad to the longest sequence in the batch, or use `padding='max_length'` to pad to a max length. In this case, you can give a specific length with `max_length` (e.g. `max_length=45`) or leave max_length to None to pad to the maximal input size of the model (e.g. 512 for Bert).\n",
      "  warnings.warn(\n",
      "/mnt/storage/kocharyan/sambashare/ITMO_LABS/ML/venv/local/lib/python3.8/site-packages/transformers/tokenization_utils_base.py:2418: FutureWarning: The `pad_to_max_length` argument is deprecated and will be removed in a future version, use `padding=True` or `padding='longest'` to pad to the longest sequence in the batch, or use `padding='max_length'` to pad to a max length. In this case, you can give a specific length with `max_length` (e.g. `max_length=45`) or leave max_length to None to pad to the maximal input size of the model (e.g. 512 for Bert).\n",
      "  warnings.warn(\n"
     ]
    },
    {
     "name": "stdout",
     "output_type": "stream",
     "text": [
      "len(train_dataset)=29007\n",
      "len(val_dataset)=7252\n",
      "на космическом телескопе решили сэкономить космический телескоп james webb который должен заменить hubble лишат части его возможностей в nasa склоняются к такому решению поскольку пока предполагаемая стоимость его создания на миллиард долларов превышает выделенные средства новый телескоп должен отправиться в космос не раньше 2011 года тогда как hubble по расчетам выйдет из строя уже в 2007 как выяснилось теперь даже после вывода на орбиту полноценной заменой своему предшественнику james webb не станет его чувствительность решили ограничить инфракрасным диапазоном отказавшись от оптического с этим намерением не согласны многие астрономы как заявил роберт о делл участник проекта hubble james webb и так уступает hubble с точки зрения наблюдений в видимом спектре и совсем отказаться от этой возможности означает оставить оптичесскую астрономию без главного инструмента на много лет сторонники облегченной версии james webb полагают что астрофизика испытывает инфракрасный сдвиг снимки в этих лучах несут больше полезной информации и делать космический телескоп универсальным не нужно напомним современные космические телекопы охватывают достаточно обширную спектральную область от гамма излучения до радиоволн часть инструментов рентгеновские и гамма телескопы могут работать только в космосе посклольку высокоэнергетические фотоны поглощаются атмосферой что касается оптических то размещение их на орбите более эффективно чем на земле но наземные обсерватории давно и успешно функционируют james webb space telescope будет обладать 6 5 метровым зеркалом из 18 сегментов у hubble цельное зеркало диаметром 2 4 метра при этом в его конструкцию нельзя будет внести никаких изменений после запуска предполагается что телескоп будет находиться на впятеро большем чем луна расстоянии от земли а пилотируемые корабли преодолевать такие расстояния все еще не способны\n",
      "Наука и техника\n"
     ]
    }
   ],
   "source": [
    "train_dataset = DataT5(train_dataset.reset_index(), tokenizer)\n",
    "val_dataset = DataT5(val_dataset.reset_index(), tokenizer)\n",
    "print(f\"{len(train_dataset)=}\")\n",
    "print(f\"{len(val_dataset)=}\")\n",
    "data = train_dataset[42]\n",
    "print(tokenizer.decode(data['source_ids'], skip_special_tokens=True))\n",
    "print(tokenizer.decode(data['targets_ids'], skip_special_tokens=True))\n",
    "le = LabelEncoder()\n",
    "le.fit(df.label);"
   ]
  },
  {
   "cell_type": "code",
   "execution_count": null,
   "metadata": {},
   "outputs": [],
   "source": []
  },
  {
   "cell_type": "code",
   "execution_count": 40,
   "metadata": {
    "execution": {
     "iopub.execute_input": "2023-10-07T20:01:34.917995Z",
     "iopub.status.busy": "2023-10-07T20:01:34.917303Z",
     "iopub.status.idle": "2023-10-07T20:01:34.926365Z",
     "shell.execute_reply": "2023-10-07T20:01:34.925485Z",
     "shell.execute_reply.started": "2023-10-07T20:01:34.917962Z"
    }
   },
   "outputs": [],
   "source": [
    "args_dict = dict(\n",
    "    pretrain=\"cointegrated/rut5-base-absum\",\n",
    "    learning_rate=3e-4,\n",
    "    weight_decay=0.01,\n",
    "    adam_epsilon=1e-8,\n",
    "    warmup_steps=0,\n",
    "    train_bs=8,\n",
    "    val_bs=16,\n",
    "    epochs=10,\n",
    "    gradient_accumulation_steps=16,\n",
    "    n_gpu=1,\n",
    "    le=le,\n",
    "    task=\"multiclass\",\n",
    "    num_classes=len(pd.unique(df.label)),\n",
    "    max_grad_norm=1.0,\n",
    ")\n",
    "args = argparse.Namespace(**args_dict)\n",
    "train_params = dict(\n",
    "    accumulate_grad_batches=args.gradient_accumulation_steps,\n",
    "    accelerator=\"gpu\",\n",
    "    devices=args.n_gpu,\n",
    "    max_epochs=args.epochs,\n",
    "    precision=16,\n",
    "    gradient_clip_val=args.max_grad_norm,\n",
    ")\n",
    "     "
   ]
  },
  {
   "cell_type": "code",
   "execution_count": 41,
   "metadata": {
    "execution": {
     "iopub.execute_input": "2023-10-07T20:01:34.928440Z",
     "iopub.status.busy": "2023-10-07T20:01:34.927450Z",
     "iopub.status.idle": "2023-10-07T20:02:00.978777Z",
     "shell.execute_reply": "2023-10-07T20:02:00.977872Z",
     "shell.execute_reply.started": "2023-10-07T20:01:34.928410Z"
    }
   },
   "outputs": [
    {
     "name": "stdout",
     "output_type": "stream",
     "text": [
      "====>Init model...\n"
     ]
    }
   ],
   "source": [
    "def get_train_dataloader():\n",
    "    return val_dataset # TODO: train_dataset\n",
    "\n",
    "def get_val_dataloader():\n",
    "    return val_dataset\n",
    "\n",
    "model = GenreClassificationT5(args)"
   ]
  },
  {
   "cell_type": "code",
   "execution_count": 42,
   "metadata": {
    "execution": {
     "iopub.execute_input": "2023-10-07T20:02:00.980320Z",
     "iopub.status.busy": "2023-10-07T20:02:00.979999Z",
     "iopub.status.idle": "2023-10-07T20:02:01.258204Z",
     "shell.execute_reply": "2023-10-07T20:02:01.257363Z",
     "shell.execute_reply.started": "2023-10-07T20:02:00.980290Z"
    }
   },
   "outputs": [
    {
     "name": "stderr",
     "output_type": "stream",
     "text": [
      "Using 16bit Automatic Mixed Precision (AMP)\n",
      "GPU available: True (cuda), used: True\n",
      "TPU available: False, using: 0 TPU cores\n",
      "IPU available: False, using: 0 IPUs\n",
      "HPU available: False, using: 0 HPUs\n"
     ]
    }
   ],
   "source": [
    "trainer = pl.Trainer(**train_params)"
   ]
  },
  {
   "cell_type": "code",
   "execution_count": 43,
   "metadata": {
    "execution": {
     "iopub.execute_input": "2023-10-07T20:02:01.260307Z",
     "iopub.status.busy": "2023-10-07T20:02:01.259693Z",
     "iopub.status.idle": "2023-10-07T20:02:13.409047Z",
     "shell.execute_reply": "2023-10-07T20:02:13.407147Z",
     "shell.execute_reply.started": "2023-10-07T20:02:01.260275Z"
    }
   },
   "outputs": [
    {
     "name": "stderr",
     "output_type": "stream",
     "text": [
      "LOCAL_RANK: 0 - CUDA_VISIBLE_DEVICES: [0]\n",
      "\n",
      "  | Name     | Type                       | Params\n",
      "--------------------------------------------------------\n",
      "0 | model    | T5ForConditionalGeneration | 244 M \n",
      "1 | accuracy | MulticlassAccuracy         | 0     \n",
      "2 | f1       | MulticlassF1Score          | 0     \n",
      "--------------------------------------------------------\n",
      "244 M     Trainable params\n",
      "0         Non-trainable params\n",
      "244 M     Total params\n",
      "977.237   Total estimated model params size (MB)\n"
     ]
    },
    {
     "name": "stdout",
     "output_type": "stream",
     "text": [
      "====>Configure opt start...\n",
      "====>Configure opt end...\n",
      "====> Get train loader\n",
      "Epoch 1:   3%|███▏                                                                                           | 30/906 [00:10<04:52,  3.00it/s, v_num=16, avg_train_loss=nan.0]"
     ]
    }
   ],
   "source": [
    "trainer.fit(model)"
   ]
  },
  {
   "cell_type": "code",
   "execution_count": 44,
   "metadata": {},
   "outputs": [
    {
     "name": "stderr",
     "output_type": "stream",
     "text": [
      "LOCAL_RANK: 0 - CUDA_VISIBLE_DEVICES: [0]\n"
     ]
    },
    {
     "name": "stdout",
     "output_type": "stream",
     "text": [
      "====> Get val loader\n",
      "Testing DataLoader 0:   6%|██████▊                                                                                                           | 27/454 [00:06<01:43,  4.14it/s]"
     ]
    }
   ],
   "source": [
    "trainer.test(model)"
   ]
  },
  {
   "cell_type": "code",
   "execution_count": null,
   "metadata": {},
   "outputs": [],
   "source": []
  },
  {
   "cell_type": "code",
   "execution_count": null,
   "metadata": {},
   "outputs": [],
   "source": []
  },
  {
   "cell_type": "code",
   "execution_count": null,
   "metadata": {},
   "outputs": [],
   "source": []
  },
  {
   "cell_type": "code",
   "execution_count": null,
   "metadata": {},
   "outputs": [],
   "source": []
  },
  {
   "cell_type": "code",
   "execution_count": null,
   "metadata": {},
   "outputs": [],
   "source": []
  },
  {
   "cell_type": "code",
   "execution_count": null,
   "metadata": {},
   "outputs": [],
   "source": []
  },
  {
   "cell_type": "code",
   "execution_count": null,
   "metadata": {},
   "outputs": [],
   "source": []
  },
  {
   "cell_type": "code",
   "execution_count": null,
   "metadata": {},
   "outputs": [],
   "source": []
  },
  {
   "cell_type": "code",
   "execution_count": null,
   "metadata": {},
   "outputs": [],
   "source": []
  },
  {
   "cell_type": "code",
   "execution_count": null,
   "metadata": {},
   "outputs": [],
   "source": []
  },
  {
   "cell_type": "code",
   "execution_count": null,
   "metadata": {},
   "outputs": [],
   "source": []
  },
  {
   "cell_type": "code",
   "execution_count": null,
   "metadata": {},
   "outputs": [],
   "source": []
  }
 ],
 "metadata": {
  "kernelspec": {
   "display_name": "venv",
   "language": "python",
   "name": "venv"
  },
  "language_info": {
   "codemirror_mode": {
    "name": "ipython",
    "version": 3
   },
   "file_extension": ".py",
   "mimetype": "text/x-python",
   "name": "python",
   "nbconvert_exporter": "python",
   "pygments_lexer": "ipython3",
   "version": "3.8.16"
  }
 },
 "nbformat": 4,
 "nbformat_minor": 4
}
