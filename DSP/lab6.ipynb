{
 "cells": [
  {
   "cell_type": "markdown",
   "id": "67a13559",
   "metadata": {},
   "source": [
    "# <center>Распознавание речи на основе сравнения с эталоном<center><a class=\"tocSkip\">"
   ]
  },
  {
   "cell_type": "code",
   "execution_count": 89,
   "id": "aa699042",
   "metadata": {
    "ExecuteTime": {
     "end_time": "2022-11-11T15:53:50.212303Z",
     "start_time": "2022-11-11T15:53:50.208293Z"
    }
   },
   "outputs": [],
   "source": [
    "import numpy as np\n",
    "import pandas as pd\n",
    "import matplotlib.pyplot as plt\n",
    "import seaborn as sns\n",
    "from scipy.spatial.distance import euclidean\n",
    "import os\n",
    "import random\n",
    "from collections import defaultdict\n",
    "import sklearn\n",
    "from sklearn.model_selection import train_test_split\n",
    "from sklearn.neighbors import KNeighborsClassifier\n",
    "from sklearn.preprocessing import StandardScaler, LabelEncoder\n",
    "from sklearn.metrics import accuracy_score, confusion_matrix\n",
    "import librosa\n",
    "import faiss\n",
    "import pickle"
   ]
  },
  {
   "cell_type": "markdown",
   "id": "7914051c",
   "metadata": {},
   "source": [
    "**<center>Необходимо реализовать алгоритм распознавания речи на основе сравнения с эталоном<center>**"
   ]
  },
  {
   "cell_type": "markdown",
   "id": "5f20ee09",
   "metadata": {},
   "source": [
    "## DTW"
   ]
  },
  {
   "cell_type": "code",
   "execution_count": 2,
   "id": "87faa1ca",
   "metadata": {
    "ExecuteTime": {
     "end_time": "2022-11-11T15:13:08.031377Z",
     "start_time": "2022-11-11T15:13:08.015384Z"
    }
   },
   "outputs": [],
   "source": [
    "def metric(x1, x2):\n",
    "    '''Вычислить расстояние'''\n",
    "    if isinstance(x1, float):\n",
    "        # Для числовых значений: l1\n",
    "        return abs(x1 - x2)\n",
    "    # Для векторов: l2\n",
    "    return euclidean(x1, x2)"
   ]
  },
  {
   "cell_type": "code",
   "execution_count": 3,
   "id": "54ca1c07",
   "metadata": {
    "ExecuteTime": {
     "end_time": "2022-11-11T15:13:08.264338Z",
     "start_time": "2022-11-11T15:13:08.255336Z"
    }
   },
   "outputs": [],
   "source": [
    "def DTW(arr, ref, back=True, plot=False):\n",
    "    '''Вычислить оптимальное соответствие между двумя последовательностями\n",
    "        Параметры:\n",
    "            arr - входной массив\n",
    "            ref - эталон\n",
    "            back - вычислять backtrace\n",
    "            plot - визуализация результатов\n",
    "        Возврат из функции:\n",
    "            Расстояние между последовательностями\n",
    "            trace (опционально)\n",
    "    '''\n",
    "    \n",
    "    n, m = len(arr), len(ref)\n",
    "    trace = np.zeros((n, m))\n",
    "    if back:\n",
    "        backtrace = np.zeros((n, m), dtype=int)\n",
    "        shift_points = [[1, 0], [0, 1], [1, 1]]\n",
    "    \n",
    "    # Инициализировать матрицу трансформаций\n",
    "    trace[0, 0] = metric(arr[0], ref[0])\n",
    "    # Заполнить первую строку\n",
    "    for j in range(1, m):\n",
    "        trace[0, j] = trace[0, j - 1] + metric(arr[0], ref[j])\n",
    "        if back:\n",
    "            backtrace[0, j] = 1\n",
    "    # Заполнить первый столбец\n",
    "    for i in range(1, n):\n",
    "        trace[i, 0] = trace[i - 1, 0] + metric(arr[i], ref[0])\n",
    "        if back:\n",
    "            backtrace[i, 0] = 0\n",
    "    \n",
    "    for i in range(1, n):\n",
    "        for j in range(1, m):\n",
    "            points = [trace[i - 1, j], trace[i, j - 1], trace[i - 1, j - 1]]\n",
    "            # вычислить стоимость пути\n",
    "            trace[i, j] = metric(arr[i], ref[j]) + min(points)\n",
    "            if back:\n",
    "                backtrace[i, j] = np.argmin(points)\n",
    "    \n",
    "    if back:\n",
    "        # вычислить путь\n",
    "        n_dim, m_dim = n, m\n",
    "        n, m = n - 1, m - 1\n",
    "        index = [(n, m)]\n",
    "        while n > 0 or m > 0:\n",
    "            shift_i, shift_j = shift_points[backtrace[n, m]]\n",
    "            n, m = n - shift_i, m - shift_j\n",
    "            index.append((n, m))\n",
    "        \n",
    "        if plot:\n",
    "            hm = np.zeros((n_dim, m_dim))\n",
    "            for i, j in index:\n",
    "                hm[i, j] = 1\n",
    "            plt.figure(figsize=(7, 3))\n",
    "            sns.heatmap(hm, annot=trace, cbar=None)\n",
    "        \n",
    "        return trace[-1,-1], index[::-1]\n",
    "    \n",
    "    return trace[-1,-1]"
   ]
  },
  {
   "cell_type": "code",
   "execution_count": null,
   "id": "514ef3d7",
   "metadata": {},
   "outputs": [],
   "source": [
    "# Выполним несколько проверок для того, чтобы убедиться, что самописный DTW работает правильно"
   ]
  },
  {
   "cell_type": "code",
   "execution_count": 4,
   "id": "bff38ffc",
   "metadata": {
    "ExecuteTime": {
     "end_time": "2022-11-11T15:13:08.736715Z",
     "start_time": "2022-11-11T15:13:08.460009Z"
    }
   },
   "outputs": [
    {
     "data": {
      "image/png": "[encoded data removed]",
      "text/plain": [
       "<Figure size 700x300 with 1 Axes>"
      ]
     },
     "metadata": {},
     "output_type": "display_data"
    }
   ],
   "source": [
    "sns.set(font_scale=0.8)\n",
    "# Пример из лекции\n",
    "dist, trace = DTW(np.array([3, -13, 14, -7, 9, -2], dtype=float), \n",
    "                  np.array([-2, 10, -10, 15, -13, 20, -5, 14, 2], dtype=float), plot=True)"
   ]
  },
  {
   "cell_type": "code",
   "execution_count": 5,
   "id": "16736f11",
   "metadata": {
    "ExecuteTime": {
     "end_time": "2022-11-11T15:13:08.798803Z",
     "start_time": "2022-11-11T15:13:08.781805Z"
    }
   },
   "outputs": [
    {
     "name": "stdout",
     "output_type": "stream",
     "text": [
      "54.0 [(0, 0), (0, 1), (0, 2), (0, 3), (1, 4), (2, 5), (3, 6), (4, 7), (5, 8)]\n"
     ]
    }
   ],
   "source": [
    "print(dist, trace)"
   ]
  },
  {
   "cell_type": "code",
   "execution_count": 6,
   "id": "caae0846",
   "metadata": {
    "ExecuteTime": {
     "end_time": "2022-11-11T15:13:09.114206Z",
     "start_time": "2022-11-11T15:13:09.096215Z"
    }
   },
   "outputs": [],
   "source": [
    "dist = DTW(np.arange(10, dtype=float), np.arange(5, dtype=float), back=False)"
   ]
  },
  {
   "cell_type": "code",
   "execution_count": 7,
   "id": "108001dc",
   "metadata": {
    "ExecuteTime": {
     "end_time": "2022-11-11T15:13:09.378764Z",
     "start_time": "2022-11-11T15:13:09.373760Z"
    }
   },
   "outputs": [
    {
     "name": "stdout",
     "output_type": "stream",
     "text": [
      "15.0\n"
     ]
    }
   ],
   "source": [
    "print(dist)"
   ]
  },
  {
   "cell_type": "code",
   "execution_count": 8,
   "id": "edf0491c",
   "metadata": {
    "ExecuteTime": {
     "end_time": "2022-11-11T15:13:09.840415Z",
     "start_time": "2022-11-11T15:13:09.611137Z"
    }
   },
   "outputs": [
    {
     "data": {
      "image/png": "[encoded data removed]",
      "text/plain": [
       "<Figure size 700x300 with 1 Axes>"
      ]
     },
     "metadata": {},
     "output_type": "display_data"
    }
   ],
   "source": [
    "dist, _ = DTW(np.arange(5, dtype=float), np.arange(10, dtype=float), plot=True)"
   ]
  },
  {
   "cell_type": "code",
   "execution_count": 9,
   "id": "a71bee33",
   "metadata": {
    "ExecuteTime": {
     "end_time": "2022-11-11T15:13:09.919870Z",
     "start_time": "2022-11-11T15:13:09.906874Z"
    }
   },
   "outputs": [
    {
     "name": "stdout",
     "output_type": "stream",
     "text": [
      "15.0\n"
     ]
    }
   ],
   "source": [
    "print(dist)"
   ]
  },
  {
   "cell_type": "code",
   "execution_count": 10,
   "id": "cdedc80c",
   "metadata": {
    "ExecuteTime": {
     "end_time": "2022-11-11T15:13:11.753689Z",
     "start_time": "2022-11-11T15:13:11.373862Z"
    }
   },
   "outputs": [
    {
     "data": {
      "image/png": "[encoded data removed]",
      "text/plain": [
       "<Figure size 700x300 with 1 Axes>"
      ]
     },
     "metadata": {},
     "output_type": "display_data"
    }
   ],
   "source": [
    "dist, _ = DTW(np.random.random((5, 10)).T, np.random.random((5, 5)).T, plot=True)"
   ]
  },
  {
   "cell_type": "code",
   "execution_count": 11,
   "id": "2b518d38",
   "metadata": {
    "ExecuteTime": {
     "end_time": "2022-11-11T15:13:11.769711Z",
     "start_time": "2022-11-11T15:13:11.755698Z"
    }
   },
   "outputs": [
    {
     "data": {
      "text/plain": [
       "7.6718051869802535"
      ]
     },
     "execution_count": 11,
     "metadata": {},
     "output_type": "execute_result"
    }
   ],
   "source": [
    "DTW(np.random.random((5, 10)).T, np.random.random((5, 5)).T, back=False)"
   ]
  },
  {
   "cell_type": "markdown",
   "id": "cf46f23e",
   "metadata": {},
   "source": [
    "## Формирование набора данных"
   ]
  },
  {
   "cell_type": "code",
   "execution_count": 12,
   "id": "0ac5d45f",
   "metadata": {
    "ExecuteTime": {
     "end_time": "2022-11-11T15:13:12.642081Z",
     "start_time": "2022-11-11T15:13:12.634082Z"
    }
   },
   "outputs": [],
   "source": [
    "DATASET_PATH = 'resources/speech_commands_v0.01/'"
   ]
  },
  {
   "cell_type": "code",
   "execution_count": 13,
   "id": "cc7ff086",
   "metadata": {
    "ExecuteTime": {
     "end_time": "2022-11-11T15:13:14.220210Z",
     "start_time": "2022-11-11T15:13:14.211198Z"
    }
   },
   "outputs": [],
   "source": [
    "# Сохраним пути к папкам со словами\n",
    "words = []\n",
    "\n",
    "for f in os.listdir(DATASET_PATH):\n",
    "    dir_ = os.path.join(DATASET_PATH, f)\n",
    "    if os.path.isdir(dir_):\n",
    "        words.append(dir_)"
   ]
  },
  {
   "cell_type": "code",
   "execution_count": 14,
   "id": "41434be0",
   "metadata": {
    "ExecuteTime": {
     "end_time": "2022-11-11T15:13:14.391971Z",
     "start_time": "2022-11-11T15:13:14.382966Z"
    }
   },
   "outputs": [],
   "source": [
    "# Шум не будем считать за слово\n",
    "assert len(words) - 1 == 30"
   ]
  },
  {
   "cell_type": "code",
   "execution_count": 15,
   "id": "ef6e5b37",
   "metadata": {
    "ExecuteTime": {
     "end_time": "2022-11-11T15:13:14.564597Z",
     "start_time": "2022-11-11T15:13:14.547599Z"
    }
   },
   "outputs": [],
   "source": [
    "# Выберем случайное подмножество слов\n",
    "audio = random.choices(words, k=10)"
   ]
  },
  {
   "cell_type": "code",
   "execution_count": 16,
   "id": "5324ccd6",
   "metadata": {
    "ExecuteTime": {
     "end_time": "2022-11-11T15:13:14.766820Z",
     "start_time": "2022-11-11T15:13:14.753818Z"
    }
   },
   "outputs": [],
   "source": [
    "assert '_background_noise_' not in audio"
   ]
  },
  {
   "cell_type": "code",
   "execution_count": 17,
   "id": "43b6e0c2",
   "metadata": {
    "ExecuteTime": {
     "end_time": "2022-11-11T15:13:15.111773Z",
     "start_time": "2022-11-11T15:13:15.038523Z"
    }
   },
   "outputs": [],
   "source": [
    "# Сохраним слова и их аудиозаписи в словарь \n",
    "data = defaultdict(list)\n",
    "for dir_ in audio:\n",
    "    for file in os.listdir(dir_):\n",
    "        data[dir_.split('/')[-1]].append(os.path.join(dir_, file))"
   ]
  },
  {
   "cell_type": "code",
   "execution_count": 18,
   "id": "c00d16a6",
   "metadata": {
    "ExecuteTime": {
     "end_time": "2022-11-11T15:13:15.367905Z",
     "start_time": "2022-11-11T15:13:15.362126Z"
    }
   },
   "outputs": [
    {
     "name": "stdout",
     "output_type": "stream",
     "text": [
      "marvin\t3492\n",
      "no\t2375\n",
      "dog\t1746\n",
      "right\t4734\n",
      "eight\t4704\n",
      "go\t2372\n",
      "seven\t2377\n"
     ]
    }
   ],
   "source": [
    "# Вычислим классы и их количество данных\n",
    "classes = defaultdict(int)\n",
    "for k, v in data.items():\n",
    "    classes[k] = len(v)\n",
    "for k, v in classes.items():\n",
    "    print(k, v, sep='\\t')"
   ]
  },
  {
   "cell_type": "code",
   "execution_count": 19,
   "id": "67b86605",
   "metadata": {
    "ExecuteTime": {
     "end_time": "2022-11-11T15:13:15.711470Z",
     "start_time": "2022-11-11T15:13:15.701463Z"
    }
   },
   "outputs": [],
   "source": [
    "# В целом, количество аудиозаписей в наборе примерно одинаковое\n",
    "# Поэтому объединим все в один набор и поделим на тренировочную и тестовую\n",
    "# с использованием stratify (навсякий случай)"
   ]
  },
  {
   "cell_type": "code",
   "execution_count": 120,
   "id": "aade7058",
   "metadata": {
    "ExecuteTime": {
     "end_time": "2022-11-12T12:30:16.502280Z",
     "start_time": "2022-11-12T12:30:16.485256Z"
    }
   },
   "outputs": [],
   "source": [
    "# Сформировать набор данных в виде DataFrame \n",
    "dataset = []\n",
    "label = []\n",
    "for k, v in data.items():\n",
    "    dataset.extend(v)\n",
    "    label.extend([k] * len(v))\n",
    "dataset = pd.DataFrame({'audio': dataset, 'word': label})"
   ]
  },
  {
   "cell_type": "code",
   "execution_count": 121,
   "id": "28d03ada",
   "metadata": {
    "ExecuteTime": {
     "end_time": "2022-11-12T12:30:17.788298Z",
     "start_time": "2022-11-12T12:30:17.777296Z"
    }
   },
   "outputs": [],
   "source": [
    "assert dataset.word.value_counts().to_dict() == classes"
   ]
  },
  {
   "cell_type": "code",
   "execution_count": null,
   "id": "053ed1a3",
   "metadata": {},
   "outputs": [],
   "source": [
    "# Дальнейшие эксперименты покажут, что набор для такого способа обучения на ноутбуке большой\n",
    "# Поэтому случайно выберем лишь небольшое подмножество для обучения"
   ]
  },
  {
   "cell_type": "code",
   "execution_count": 122,
   "id": "8a664c90",
   "metadata": {
    "ExecuteTime": {
     "end_time": "2022-11-12T12:30:23.118367Z",
     "start_time": "2022-11-12T12:30:23.098377Z"
    }
   },
   "outputs": [
    {
     "data": {
      "text/html": [
       "<div>\n",
       "<style scoped>\n",
       "    .dataframe tbody tr th:only-of-type {\n",
       "        vertical-align: middle;\n",
       "    }\n",
       "\n",
       "    .dataframe tbody tr th {\n",
       "        vertical-align: top;\n",
       "    }\n",
       "\n",
       "    .dataframe thead th {\n",
       "        text-align: right;\n",
       "    }\n",
       "</style>\n",
       "<table border=\"1\" class=\"dataframe\">\n",
       "  <thead>\n",
       "    <tr style=\"text-align: right;\">\n",
       "      <th></th>\n",
       "      <th>audio</th>\n",
       "      <th>word</th>\n",
       "    </tr>\n",
       "  </thead>\n",
       "  <tbody>\n",
       "    <tr>\n",
       "      <th>5509</th>\n",
       "      <td>resources/speech_commands_v0.01/no\\d90b4138_no...</td>\n",
       "      <td>no</td>\n",
       "    </tr>\n",
       "    <tr>\n",
       "      <th>11992</th>\n",
       "      <td>resources/speech_commands_v0.01/right\\db8a3397...</td>\n",
       "      <td>right</td>\n",
       "    </tr>\n",
       "    <tr>\n",
       "      <th>11364</th>\n",
       "      <td>resources/speech_commands_v0.01/right\\9aa5439d...</td>\n",
       "      <td>right</td>\n",
       "    </tr>\n",
       "    <tr>\n",
       "      <th>20834</th>\n",
       "      <td>resources/speech_commands_v0.01/seven\\9b402bc2...</td>\n",
       "      <td>seven</td>\n",
       "    </tr>\n",
       "    <tr>\n",
       "      <th>18267</th>\n",
       "      <td>resources/speech_commands_v0.01/go\\8830e17f_no...</td>\n",
       "      <td>go</td>\n",
       "    </tr>\n",
       "  </tbody>\n",
       "</table>\n",
       "</div>"
      ],
      "text/plain": [
       "                                                   audio   word\n",
       "5509   resources/speech_commands_v0.01/no\\d90b4138_no...     no\n",
       "11992  resources/speech_commands_v0.01/right\\db8a3397...  right\n",
       "11364  resources/speech_commands_v0.01/right\\9aa5439d...  right\n",
       "20834  resources/speech_commands_v0.01/seven\\9b402bc2...  seven\n",
       "18267  resources/speech_commands_v0.01/go\\8830e17f_no...     go"
      ]
     },
     "execution_count": 122,
     "metadata": {},
     "output_type": "execute_result"
    }
   ],
   "source": [
    "dataset = dataset.sample(frac=.1, replace=False, random_state=2022)\n",
    "dataset.head()"
   ]
  },
  {
   "cell_type": "code",
   "execution_count": 124,
   "id": "57c91f41",
   "metadata": {
    "ExecuteTime": {
     "end_time": "2022-11-12T12:30:24.622746Z",
     "start_time": "2022-11-12T12:30:24.602755Z"
    }
   },
   "outputs": [],
   "source": [
    "# Используем лейбел \"N-кодер\"\n",
    "lr = LabelEncoder().fit(dataset.word.values)\n",
    "Y = lr.transform(dataset.word.values)"
   ]
  },
  {
   "cell_type": "code",
   "execution_count": 125,
   "id": "8f29bc93",
   "metadata": {
    "ExecuteTime": {
     "end_time": "2022-11-12T12:30:27.200702Z",
     "start_time": "2022-11-12T12:30:27.186685Z"
    }
   },
   "outputs": [],
   "source": [
    "# Поделить датасет \n",
    "ref_x, test_x, ref_y, test_y = train_test_split(dataset.audio.values, \n",
    "                                                Y, \n",
    "                                                test_size=.3, \n",
    "                                                stratify=Y)"
   ]
  },
  {
   "cell_type": "code",
   "execution_count": 126,
   "id": "3d7a1026",
   "metadata": {
    "ExecuteTime": {
     "end_time": "2022-11-12T12:30:27.753073Z",
     "start_time": "2022-11-12T12:30:27.735062Z"
    }
   },
   "outputs": [
    {
     "data": {
      "text/plain": [
       "((1526,), (654,))"
      ]
     },
     "execution_count": 126,
     "metadata": {},
     "output_type": "execute_result"
    }
   ],
   "source": [
    "# Вывести размерность массивов\n",
    "ref_x.shape, test_x.shape"
   ]
  },
  {
   "cell_type": "markdown",
   "id": "9baf35fa",
   "metadata": {},
   "source": [
    "## Обучение модели"
   ]
  },
  {
   "cell_type": "code",
   "execution_count": null,
   "id": "75449bff",
   "metadata": {},
   "outputs": [],
   "source": [
    "# Идея:\n",
    "#  1 этап:\n",
    "#    - Вычислим матрицу mel = [mfcc_x_time] для каждой тренировочной (эталонной) аудиозаписи (N - количество аудио)\n",
    "#    - Вычислим квадратную матрицу [N_x_N], которая будет хранить на пересечении строк и столбцов i - j \n",
    "#                    расстояния между эталонными образцами с помощью DTW(mel_i^T, mel_j^T)\n",
    "#    - Сопоставим каждой строке \"матрицы расстояний между эталонами\" метки слов\n",
    "#    - Реализуем метрический алгоритм для нахождения ближайших пар векторов (точек в пространстве) \n",
    "#  2 этап:\n",
    "#    - Для выполнения предсказаний посчитаем mel для входных данных \n",
    "#    - Вычислим DTW с каждым из эталонов\n",
    "#    - Подадим на вход метрического алгоритма"
   ]
  },
  {
   "cell_type": "code",
   "execution_count": 127,
   "id": "44572f83",
   "metadata": {
    "ExecuteTime": {
     "end_time": "2022-11-12T12:30:31.445298Z",
     "start_time": "2022-11-12T12:30:31.432292Z"
    }
   },
   "outputs": [],
   "source": [
    "class FaissKNeighbors:\n",
    "    \"\"\"Заимствованная реализация \"быстрого поиска\" ближайших соседей\"\"\"\n",
    "    \n",
    "    def __init__(self, k=5):\n",
    "        self.index = None\n",
    "        self.y = None\n",
    "        self.k = k\n",
    "\n",
    "    def fit(self, X, y):\n",
    "        self.index = faiss.IndexFlatL2(X.shape[1])\n",
    "        self.index.add(X.astype(np.float32))\n",
    "        self.y = y\n",
    "\n",
    "    def predict(self, X):\n",
    "        distances, indices = self.index.search(X.astype(np.float32), k=self.k)\n",
    "        votes = self.y[indices]\n",
    "        predictions = np.array([np.argmax(np.bincount(x)) for x in votes])\n",
    "        return predictions"
   ]
  },
  {
   "cell_type": "code",
   "execution_count": 128,
   "id": "75cf89f4",
   "metadata": {
    "ExecuteTime": {
     "end_time": "2022-11-12T12:30:32.051428Z",
     "start_time": "2022-11-12T12:30:32.042426Z"
    }
   },
   "outputs": [],
   "source": [
    "def train(ref_x=ref_x, ref_y=ref_y, n_mfcc=23):\n",
    "    '''Обучение модели с DTW'''\n",
    "    \n",
    "    n = len(ref_x)\n",
    "    dist_matrix = np.zeros((n, n))\n",
    "    \n",
    "    print('mfcc calculate ...')\n",
    "    mfccs = []\n",
    "    for i in range(n):\n",
    "        x, sr = librosa.load(ref_x[i])\n",
    "        mfcc = librosa.feature.mfcc(y=x, sr=sr, n_mfcc=n_mfcc).T\n",
    "        mfccs.append(mfcc)\n",
    "    \n",
    "    print('dist matrix calculate ...')\n",
    "    for i in range(n):\n",
    "        mfcc1 = mfccs[i]\n",
    "        for j in range(n):\n",
    "            mfcc2 = mfccs[j]\n",
    "            dist_matrix[i, j] = DTW(mfcc1, mfcc2, back=False)\n",
    "        if i % 500 == 0: print(f'{i} iterations')\n",
    "    \n",
    "    scaler = StandardScaler().fit(dist_matrix)\n",
    "    dist_matrix_scale = scaler.transform(dist_matrix)\n",
    "    print('kNN train ...')\n",
    "    knn = FaissKNeighbors()\n",
    "    # knn = KNeighborsClassifier(n_neighbors=5, metric='euclidean')\n",
    "    knn.fit(dist_matrix_scale, ref_y)\n",
    "    \n",
    "    return knn, dist_matrix, mfccs, scaler\n",
    "\n",
    "\n",
    "def evaluate(test_x=test_x, test_y=test_y, train_len=None, n_mfcc=23, mfccs_train=None, clf=None, scaler=None):\n",
    "    '''Вычислить производительность модели с DTW'''\n",
    "    \n",
    "    n = len(test_x)\n",
    "    \n",
    "    print('mfcc calculate ...')\n",
    "    mfccs_test = []\n",
    "    for i in range(n):\n",
    "        x, sr = librosa.load(test_x[i])\n",
    "        mfcc = librosa.feature.mfcc(y=x, sr=sr, n_mfcc=n_mfcc).T\n",
    "        mfccs_test.append(mfcc)\n",
    "    \n",
    "    print('dist matrix calculate ...')\n",
    "    distance_on_test = []\n",
    "    for i in range(n):\n",
    "        mfcc1 = mfccs_test[i]\n",
    "        dist = []\n",
    "        for j in range(train_len):\n",
    "            mfcc2 = mfccs_train[j]\n",
    "            dist.append(DTW(mfcc1, mfcc2, back=False))\n",
    "        distance_on_test.append(dist)\n",
    "        if i % 500 == 0: print(f'{i} iterations')\n",
    "    \n",
    "    print('get predict ...')\n",
    "    predicted = clf.predict(scaler.transform(distance_on_test))\n",
    "    \n",
    "    return accuracy_score(test_y, predicted), confusion_matrix(test_y, predicted)\n",
    "\n",
    "\n",
    "def predict(datum, train_len, n_mfcc, mfccs_train, clf, scaler, le):\n",
    "    '''Выполнить предсказание'''\n",
    "    x, sr = librosa.load(datum)\n",
    "    mfcc = librosa.feature.mfcc(y=x, sr=sr, n_mfcc=n_mfcc).T\n",
    "    dist = []\n",
    "    for i in range(train_len):\n",
    "        mfcc_ = mfccs_train[i]\n",
    "        dist.append(DTW(mfcc, mfcc_, back=False))\n",
    "    return le.inverse_transform(clf.predict(scaler.transform([dist])))"
   ]
  },
  {
   "cell_type": "code",
   "execution_count": 129,
   "id": "47ea9381",
   "metadata": {
    "ExecuteTime": {
     "end_time": "2022-11-12T12:30:33.042228Z",
     "start_time": "2022-11-12T12:30:33.033226Z"
    }
   },
   "outputs": [],
   "source": [
    "n_mfcc = 23"
   ]
  },
  {
   "cell_type": "code",
   "execution_count": 130,
   "id": "6b1d7e46",
   "metadata": {
    "ExecuteTime": {
     "end_time": "2022-11-12T20:38:47.055602Z",
     "start_time": "2022-11-12T12:30:34.628904Z"
    }
   },
   "outputs": [
    {
     "name": "stdout",
     "output_type": "stream",
     "text": [
      "mfcc calculate ...\n",
      "dist matrix calculate ...\n",
      "0 iterations\n",
      "500 iterations\n",
      "1000 iterations\n",
      "1500 iterations\n",
      "kNN train ...\n",
      "CPU times: total: 8h 5min 29s\n",
      "Wall time: 8h 8min 12s\n"
     ]
    }
   ],
   "source": [
    "%%time\n",
    "\n",
    "knn, dist_matrix, mfccs, scaler = train(ref_x, ref_y)"
   ]
  },
  {
   "cell_type": "markdown",
   "id": "c4aa8d84",
   "metadata": {},
   "source": [
    "## Оценка работы"
   ]
  },
  {
   "cell_type": "code",
   "execution_count": 131,
   "id": "ab3959e1",
   "metadata": {
    "ExecuteTime": {
     "end_time": "2022-11-13T00:06:06.395786Z",
     "start_time": "2022-11-12T20:38:47.057604Z"
    }
   },
   "outputs": [
    {
     "name": "stdout",
     "output_type": "stream",
     "text": [
      "mfcc calculate ...\n",
      "dist matrix calculate ...\n",
      "0 iterations\n",
      "500 iterations\n",
      "get predict ...\n",
      "CPU times: total: 3h 27min 21s\n",
      "Wall time: 3h 27min 19s\n"
     ]
    }
   ],
   "source": [
    "%%time\n",
    "#  Вычислим производительность модели на тестовой выборке \n",
    "acc, cm = evaluate(test_x, test_y, len(ref_x), n_mfcc, mfccs, knn, scaler)"
   ]
  },
  {
   "cell_type": "code",
   "execution_count": 132,
   "id": "264ee3c9",
   "metadata": {
    "ExecuteTime": {
     "end_time": "2022-11-13T00:06:06.411412Z",
     "start_time": "2022-11-13T00:06:06.395786Z"
    }
   },
   "outputs": [
    {
     "name": "stdout",
     "output_type": "stream",
     "text": [
      "0.44648318042813456\n"
     ]
    }
   ],
   "source": [
    "# Точность работы модели\n",
    "print(acc)"
   ]
  },
  {
   "cell_type": "code",
   "execution_count": 139,
   "id": "629f553c",
   "metadata": {
    "ExecuteTime": {
     "end_time": "2022-11-13T08:11:36.325964Z",
     "start_time": "2022-11-13T08:11:36.301962Z"
    }
   },
   "outputs": [
    {
     "data": {
      "text/plain": [
       "array(['dog', 'eight', 'go', 'marvin', 'no', 'right', 'seven'],\n",
       "      dtype=object)"
      ]
     },
     "execution_count": 139,
     "metadata": {},
     "output_type": "execute_result"
    }
   ],
   "source": [
    "# Вывести список классов\n",
    "lr.classes_"
   ]
  },
  {
   "cell_type": "code",
   "execution_count": 133,
   "id": "09f7ec40",
   "metadata": {
    "ExecuteTime": {
     "end_time": "2022-11-13T00:06:06.427037Z",
     "start_time": "2022-11-13T00:06:06.411412Z"
    }
   },
   "outputs": [
    {
     "name": "stdout",
     "output_type": "stream",
     "text": [
      "[[  9   3   8  16   6   4   6]\n",
      " [  1 114   3   3   2  21   0]\n",
      " [  9   6  21  13  10  11   8]\n",
      " [  9  12   8  54   4  10   7]\n",
      " [ 10   7  24   6   5   6   6]\n",
      " [  6  28  15  18   5  61   5]\n",
      " [  9  11   8   8   5   5  28]]\n"
     ]
    }
   ],
   "source": [
    "# Матрица неточностей для lr.classes_\n",
    "print(cm)"
   ]
  },
  {
   "cell_type": "code",
   "execution_count": null,
   "id": "dce282d9",
   "metadata": {},
   "outputs": [],
   "source": [
    "# Интересное наблюдение: например, в матрице неточностей слово \"no\" классификатор часто путает со словом \"go\""
   ]
  },
  {
   "cell_type": "code",
   "execution_count": 134,
   "id": "6691c5ad",
   "metadata": {
    "ExecuteTime": {
     "end_time": "2022-11-13T00:06:06.571623Z",
     "start_time": "2022-11-13T00:06:06.427037Z"
    }
   },
   "outputs": [],
   "source": [
    "# Вычислим производительность модели на тренировочной выборке \n",
    "acc1 = accuracy_score(ref_y, knn.predict(scaler.transform(dist_matrix)))\n",
    "cm1 = confusion_matrix(ref_y, knn.predict(scaler.transform(dist_matrix)))"
   ]
  },
  {
   "cell_type": "code",
   "execution_count": 135,
   "id": "94366f4a",
   "metadata": {
    "ExecuteTime": {
     "end_time": "2022-11-13T00:06:06.587253Z",
     "start_time": "2022-11-13T00:06:06.571623Z"
    }
   },
   "outputs": [
    {
     "name": "stdout",
     "output_type": "stream",
     "text": [
      "0.6697247706422018\n"
     ]
    }
   ],
   "source": [
    "# точность \n",
    "print(acc1)"
   ]
  },
  {
   "cell_type": "code",
   "execution_count": 136,
   "id": "73ab3f46",
   "metadata": {
    "ExecuteTime": {
     "end_time": "2022-11-13T00:06:06.602879Z",
     "start_time": "2022-11-13T00:06:06.587253Z"
    }
   },
   "outputs": [
    {
     "name": "stdout",
     "output_type": "stream",
     "text": [
      "[[ 63   5   9  16   9   8  13]\n",
      " [  9 296   0   7   4  20   1]\n",
      " [ 21  12 113   7  11  11   6]\n",
      " [ 11  12   9 188   2  15   6]\n",
      " [ 12  12  29  13  68  10   5]\n",
      " [ 12  49  12  28  12 204   4]\n",
      " [ 14  12  17  16  10  13  90]]\n"
     ]
    }
   ],
   "source": [
    "# Матрица неточностей для lr.classes_\n",
    "print(cm1)"
   ]
  },
  {
   "cell_type": "code",
   "execution_count": 155,
   "id": "db8afc47",
   "metadata": {
    "ExecuteTime": {
     "end_time": "2022-11-13T16:08:14.107758Z",
     "start_time": "2022-11-13T16:08:14.101750Z"
    }
   },
   "outputs": [
    {
     "data": {
      "text/plain": [
       "'seven'"
      ]
     },
     "execution_count": 155,
     "metadata": {},
     "output_type": "execute_result"
    }
   ],
   "source": [
    "index = 12\n",
    "lr.inverse_transform([test_y[index]])[0]"
   ]
  },
  {
   "cell_type": "code",
   "execution_count": 145,
   "id": "f2c7de20",
   "metadata": {
    "ExecuteTime": {
     "end_time": "2022-11-13T16:06:07.355876Z",
     "start_time": "2022-11-13T16:05:47.600573Z"
    }
   },
   "outputs": [
    {
     "data": {
      "text/plain": [
       "array(['seven'], dtype=object)"
      ]
     },
     "execution_count": 145,
     "metadata": {},
     "output_type": "execute_result"
    }
   ],
   "source": [
    "# Выполним предсказание\n",
    "datum = test_x[index]\n",
    "predict(datum, len(ref_x), n_mfcc, mfccs, knn, scaler, lr)"
   ]
  },
  {
   "cell_type": "markdown",
   "id": "2bcd0a01",
   "metadata": {},
   "source": [
    "## Выводы"
   ]
  },
  {
   "cell_type": "code",
   "execution_count": null,
   "id": "30d4da63",
   "metadata": {},
   "outputs": [],
   "source": [
    "# Данный подход является устаревшим, и на данный момент навряд ли используется (по крайней мере в таком виде)\n",
    "# Также, такая реализация является очень вычислительно неэффективной (и требует хотя бы параллелизации)\n",
    "# Cложность DTW - O(n*m), а также для вычисления матрицы попарных расстояний требуется O(n^2)\n",
    "# Метрики классификации - низкие, необходимо использовать больше данных"
   ]
  }
 ],
 "metadata": {
  "kernelspec": {
   "display_name": "Python 3 (ipykernel)",
   "language": "python",
   "name": "python3"
  },
  "language_info": {
   "codemirror_mode": {
    "name": "ipython",
    "version": 3
   },
   "file_extension": ".py",
   "mimetype": "text/x-python",
   "name": "python",
   "nbconvert_exporter": "python",
   "pygments_lexer": "ipython3",
   "version": "3.10.6"
  },
  "toc": {
   "base_numbering": 1,
   "nav_menu": {},
   "number_sections": true,
   "sideBar": true,
   "skip_h1_title": false,
   "title_cell": "Table of Contents",
   "title_sidebar": "Contents",
   "toc_cell": false,
   "toc_position": {},
   "toc_section_display": true,
   "toc_window_display": false
  }
 },
 "nbformat": 4,
 "nbformat_minor": 5
}
